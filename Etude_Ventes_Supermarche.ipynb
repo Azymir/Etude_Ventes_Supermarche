{
 "cells": [
  {
   "cell_type": "markdown",
   "metadata": {
    "id": "XYwle72reSRn"
   },
   "source": [
    "# Analyse Exploratoire des Ventes d'une Chaine de vente d'electroniques "
   ]
  },
  {
   "cell_type": "markdown",
   "metadata": {
    "id": "gPYX81VDeY4i"
   },
   "source": [
    "Nous avons dans le dossier datasets/SalesAnalysis des données de ventes d'une entreprise sur l'année 2019. Vous avez un fichier csv par mois.\n",
    "\n",
    "Chaque fichier contient les colonnes suivantes:\n",
    "* OrderID: l'identifiant unique de la commande\n",
    "* Product: La désignation du produit\n",
    "* Quantity Ordered: la quantité vendue\n",
    "* Price each: le prix unitaire\n",
    "* order date : La date d'achat\n",
    "* Purchase adress: l'adresse de la boutique de vente\n",
    "\n",
    "Nous allons analyser ces données pour répondre aux questions suivantes:\n",
    "\n",
    "* Quel est le meilleur mois de vente ? et Quel est le chiffre d'affaires de ce mois ?\n",
    "* Dans quelle ville a-t-on le plus vendu de produits ?\n",
    "* A quelle heure devons-nous passer de la publicité pour augmenter nos ventes ?\n",
    "* Quels sont les produits qui sont souvent achetés ensemble ?\n",
    "* Quel produit a-t-on le plus vendu et pourquoi ?\n",
    "\n",
    "Nous allons accompagner nos solutions de visualisations pertinentes afin d'aider le business à améliorer ses chiffres de l'année suivante.\n",
    "\n"
   ]
  },
  {
   "cell_type": "markdown",
   "metadata": {
    "id": "GGdbaOQtekFB"
   },
   "source": [
    "## Importer les données"
   ]
  },
  {
   "cell_type": "markdown",
   "metadata": {
    "id": "Tw5oA5KZewgK"
   },
   "source": [
    "Essayons de Monter notre google drive"
   ]
  },
  {
   "cell_type": "code",
   "execution_count": 37,
   "metadata": {
    "id": "blYxjRZrfydE"
   },
   "outputs": [],
   "source": [
    "import pandas as pd\n",
    "import matplotlib.pyplot as plt\n",
    "import seaborn as sns\n",
    "import numpy as np\n",
    "import os"
   ]
  },
  {
   "cell_type": "code",
   "execution_count": 38,
   "metadata": {
    "id": "fLkn7VToe3ia"
   },
   "outputs": [],
   "source": [
    "janvier_sales = pd.read_csv(\"Sales_January_2019.csv\")"
   ]
  },
  {
   "cell_type": "code",
   "execution_count": 39,
   "metadata": {
    "colab": {
     "base_uri": "https://localhost:8080/",
     "height": 306
    },
    "id": "96S2v2FFdd19",
    "outputId": "99f9a7fa-3307-4863-e04c-390cfef68a8a"
   },
   "outputs": [
    {
     "data": {
      "text/html": [
       "<div>\n",
       "<style scoped>\n",
       "    .dataframe tbody tr th:only-of-type {\n",
       "        vertical-align: middle;\n",
       "    }\n",
       "\n",
       "    .dataframe tbody tr th {\n",
       "        vertical-align: top;\n",
       "    }\n",
       "\n",
       "    .dataframe thead th {\n",
       "        text-align: right;\n",
       "    }\n",
       "</style>\n",
       "<table border=\"1\" class=\"dataframe\">\n",
       "  <thead>\n",
       "    <tr style=\"text-align: right;\">\n",
       "      <th></th>\n",
       "      <th>Order ID</th>\n",
       "      <th>Product</th>\n",
       "      <th>Quantity Ordered</th>\n",
       "      <th>Price Each</th>\n",
       "      <th>Order Date</th>\n",
       "      <th>Purchase Address</th>\n",
       "    </tr>\n",
       "  </thead>\n",
       "  <tbody>\n",
       "    <tr>\n",
       "      <th>0</th>\n",
       "      <td>141234</td>\n",
       "      <td>iPhone</td>\n",
       "      <td>1</td>\n",
       "      <td>700</td>\n",
       "      <td>01/22/19 21:25</td>\n",
       "      <td>944 Walnut St, Boston, MA 02215</td>\n",
       "    </tr>\n",
       "    <tr>\n",
       "      <th>1</th>\n",
       "      <td>141235</td>\n",
       "      <td>Lightning Charging Cable</td>\n",
       "      <td>1</td>\n",
       "      <td>14.95</td>\n",
       "      <td>01/28/19 14:15</td>\n",
       "      <td>185 Maple St, Portland, OR 97035</td>\n",
       "    </tr>\n",
       "    <tr>\n",
       "      <th>2</th>\n",
       "      <td>141236</td>\n",
       "      <td>Wired Headphones</td>\n",
       "      <td>2</td>\n",
       "      <td>11.99</td>\n",
       "      <td>01/17/19 13:33</td>\n",
       "      <td>538 Adams St, San Francisco, CA 94016</td>\n",
       "    </tr>\n",
       "    <tr>\n",
       "      <th>3</th>\n",
       "      <td>141237</td>\n",
       "      <td>27in FHD Monitor</td>\n",
       "      <td>1</td>\n",
       "      <td>149.99</td>\n",
       "      <td>01/05/19 20:33</td>\n",
       "      <td>738 10th St, Los Angeles, CA 90001</td>\n",
       "    </tr>\n",
       "    <tr>\n",
       "      <th>4</th>\n",
       "      <td>141238</td>\n",
       "      <td>Wired Headphones</td>\n",
       "      <td>1</td>\n",
       "      <td>11.99</td>\n",
       "      <td>01/25/19 11:59</td>\n",
       "      <td>387 10th St, Austin, TX 73301</td>\n",
       "    </tr>\n",
       "  </tbody>\n",
       "</table>\n",
       "</div>"
      ],
      "text/plain": [
       "  Order ID                   Product Quantity Ordered Price Each  \\\n",
       "0   141234                    iPhone                1        700   \n",
       "1   141235  Lightning Charging Cable                1      14.95   \n",
       "2   141236          Wired Headphones                2      11.99   \n",
       "3   141237          27in FHD Monitor                1     149.99   \n",
       "4   141238          Wired Headphones                1      11.99   \n",
       "\n",
       "       Order Date                       Purchase Address  \n",
       "0  01/22/19 21:25        944 Walnut St, Boston, MA 02215  \n",
       "1  01/28/19 14:15       185 Maple St, Portland, OR 97035  \n",
       "2  01/17/19 13:33  538 Adams St, San Francisco, CA 94016  \n",
       "3  01/05/19 20:33     738 10th St, Los Angeles, CA 90001  \n",
       "4  01/25/19 11:59          387 10th St, Austin, TX 73301  "
      ]
     },
     "execution_count": 39,
     "metadata": {},
     "output_type": "execute_result"
    }
   ],
   "source": [
    "janvier_sales.head()"
   ]
  },
  {
   "cell_type": "code",
   "execution_count": 40,
   "metadata": {
    "colab": {
     "base_uri": "https://localhost:8080/",
     "height": 171
    },
    "id": "Hz6YGdVEgHPE",
    "outputId": "d9a1d4d2-d25d-4456-fddd-00187ff351a0"
   },
   "outputs": [
    {
     "data": {
      "text/html": [
       "<div>\n",
       "<style scoped>\n",
       "    .dataframe tbody tr th:only-of-type {\n",
       "        vertical-align: middle;\n",
       "    }\n",
       "\n",
       "    .dataframe tbody tr th {\n",
       "        vertical-align: top;\n",
       "    }\n",
       "\n",
       "    .dataframe thead th {\n",
       "        text-align: right;\n",
       "    }\n",
       "</style>\n",
       "<table border=\"1\" class=\"dataframe\">\n",
       "  <thead>\n",
       "    <tr style=\"text-align: right;\">\n",
       "      <th></th>\n",
       "      <th>Order ID</th>\n",
       "      <th>Product</th>\n",
       "      <th>Quantity Ordered</th>\n",
       "      <th>Price Each</th>\n",
       "      <th>Order Date</th>\n",
       "      <th>Purchase Address</th>\n",
       "    </tr>\n",
       "  </thead>\n",
       "  <tbody>\n",
       "    <tr>\n",
       "      <th>count</th>\n",
       "      <td>9697</td>\n",
       "      <td>9697</td>\n",
       "      <td>9697</td>\n",
       "      <td>9697</td>\n",
       "      <td>9697</td>\n",
       "      <td>9697</td>\n",
       "    </tr>\n",
       "    <tr>\n",
       "      <th>unique</th>\n",
       "      <td>9269</td>\n",
       "      <td>20</td>\n",
       "      <td>8</td>\n",
       "      <td>19</td>\n",
       "      <td>8077</td>\n",
       "      <td>9161</td>\n",
       "    </tr>\n",
       "    <tr>\n",
       "      <th>top</th>\n",
       "      <td>Order ID</td>\n",
       "      <td>USB-C Charging Cable</td>\n",
       "      <td>1</td>\n",
       "      <td>11.95</td>\n",
       "      <td>Order Date</td>\n",
       "      <td>Purchase Address</td>\n",
       "    </tr>\n",
       "    <tr>\n",
       "      <th>freq</th>\n",
       "      <td>16</td>\n",
       "      <td>1171</td>\n",
       "      <td>8795</td>\n",
       "      <td>1171</td>\n",
       "      <td>16</td>\n",
       "      <td>16</td>\n",
       "    </tr>\n",
       "  </tbody>\n",
       "</table>\n",
       "</div>"
      ],
      "text/plain": [
       "        Order ID               Product Quantity Ordered Price Each  \\\n",
       "count       9697                  9697             9697       9697   \n",
       "unique      9269                    20                8         19   \n",
       "top     Order ID  USB-C Charging Cable                1      11.95   \n",
       "freq          16                  1171             8795       1171   \n",
       "\n",
       "        Order Date  Purchase Address  \n",
       "count         9697              9697  \n",
       "unique        8077              9161  \n",
       "top     Order Date  Purchase Address  \n",
       "freq            16                16  "
      ]
     },
     "execution_count": 40,
     "metadata": {},
     "output_type": "execute_result"
    }
   ],
   "source": [
    "janvier_sales.describe()"
   ]
  },
  {
   "cell_type": "code",
   "execution_count": 41,
   "metadata": {
    "colab": {
     "base_uri": "https://localhost:8080/"
    },
    "id": "jvzKWuGxiYra",
    "outputId": "c34f49f1-5b4e-402c-c215-72eddeb7a7f0"
   },
   "outputs": [
    {
     "data": {
      "text/plain": [
       "Index(['Order ID', 'Product', 'Quantity Ordered', 'Price Each', 'Order Date',\n",
       "       'Purchase Address'],\n",
       "      dtype='object')"
      ]
     },
     "execution_count": 41,
     "metadata": {},
     "output_type": "execute_result"
    }
   ],
   "source": [
    "janvier_sales.columns"
   ]
  },
  {
   "cell_type": "code",
   "execution_count": 42,
   "metadata": {
    "colab": {
     "base_uri": "https://localhost:8080/"
    },
    "id": "oSbrxou7gHWg",
    "outputId": "d9f78409-23f4-4439-9d49-de472ea44700"
   },
   "outputs": [
    {
     "name": "stdout",
     "output_type": "stream",
     "text": [
      "<class 'pandas.core.frame.DataFrame'>\n",
      "RangeIndex: 9723 entries, 0 to 9722\n",
      "Data columns (total 6 columns):\n",
      " #   Column            Non-Null Count  Dtype \n",
      "---  ------            --------------  ----- \n",
      " 0   Order ID          9697 non-null   object\n",
      " 1   Product           9697 non-null   object\n",
      " 2   Quantity Ordered  9697 non-null   object\n",
      " 3   Price Each        9697 non-null   object\n",
      " 4   Order Date        9697 non-null   object\n",
      " 5   Purchase Address  9697 non-null   object\n",
      "dtypes: object(6)\n",
      "memory usage: 455.9+ KB\n"
     ]
    }
   ],
   "source": [
    "janvier_sales.info()"
   ]
  },
  {
   "cell_type": "markdown",
   "metadata": {
    "id": "wbll9Yosjxyg"
   },
   "source": [
    "## Merger la data"
   ]
  },
  {
   "cell_type": "code",
   "execution_count": 43,
   "metadata": {
    "colab": {
     "base_uri": "https://localhost:8080/"
    },
    "id": "6kr0FdYzkPBA",
    "outputId": "3bd2edbe-33eb-4010-9f61-04f350667219"
   },
   "outputs": [
    {
     "data": {
      "text/plain": [
       "['Sales_April_2019.csv',\n",
       " 'Sales_August_2019.csv',\n",
       " 'Sales_December_2019.csv',\n",
       " 'Sales_February_2019.csv',\n",
       " 'Sales_January_2019.csv',\n",
       " 'Sales_July_2019.csv',\n",
       " 'Sales_June_2019.csv',\n",
       " 'Sales_March_2019.csv',\n",
       " 'Sales_May_2019.csv',\n",
       " 'Sales_November_2019.csv',\n",
       " 'Sales_October_2019.csv',\n",
       " 'Sales_September_2019.csv']"
      ]
     },
     "execution_count": 43,
     "metadata": {},
     "output_type": "execute_result"
    }
   ],
   "source": [
    "files = [fichier for fichier in os.listdir() if fichier.endswith('.csv')]\n",
    "files"
   ]
  },
  {
   "cell_type": "code",
   "execution_count": 44,
   "metadata": {
    "id": "PVKxuTA8h6q0"
   },
   "outputs": [],
   "source": [
    "df = pd.DataFrame()\n",
    "\n",
    "for file in files:\n",
    "  data_interm = pd.read_csv(file)\n",
    "  df = pd.concat([df, data_interm])\n"
   ]
  },
  {
   "cell_type": "code",
   "execution_count": 45,
   "metadata": {
    "colab": {
     "base_uri": "https://localhost:8080/"
    },
    "id": "nA6L0juelANH",
    "outputId": "11120b3c-e49f-4560-8cdb-384131694515"
   },
   "outputs": [
    {
     "data": {
      "text/plain": [
       "(186850, 6)"
      ]
     },
     "execution_count": 45,
     "metadata": {},
     "output_type": "execute_result"
    }
   ],
   "source": [
    "df.shape"
   ]
  },
  {
   "cell_type": "code",
   "execution_count": 46,
   "metadata": {
    "colab": {
     "base_uri": "https://localhost:8080/",
     "height": 171
    },
    "id": "XaFtzwx0lDHn",
    "outputId": "6e44d80b-be36-4565-d325-aa718042a0ab"
   },
   "outputs": [
    {
     "data": {
      "text/html": [
       "<div>\n",
       "<style scoped>\n",
       "    .dataframe tbody tr th:only-of-type {\n",
       "        vertical-align: middle;\n",
       "    }\n",
       "\n",
       "    .dataframe tbody tr th {\n",
       "        vertical-align: top;\n",
       "    }\n",
       "\n",
       "    .dataframe thead th {\n",
       "        text-align: right;\n",
       "    }\n",
       "</style>\n",
       "<table border=\"1\" class=\"dataframe\">\n",
       "  <thead>\n",
       "    <tr style=\"text-align: right;\">\n",
       "      <th></th>\n",
       "      <th>Order ID</th>\n",
       "      <th>Product</th>\n",
       "      <th>Quantity Ordered</th>\n",
       "      <th>Price Each</th>\n",
       "      <th>Order Date</th>\n",
       "      <th>Purchase Address</th>\n",
       "    </tr>\n",
       "  </thead>\n",
       "  <tbody>\n",
       "    <tr>\n",
       "      <th>count</th>\n",
       "      <td>186305</td>\n",
       "      <td>186305</td>\n",
       "      <td>186305</td>\n",
       "      <td>186305</td>\n",
       "      <td>186305</td>\n",
       "      <td>186305</td>\n",
       "    </tr>\n",
       "    <tr>\n",
       "      <th>unique</th>\n",
       "      <td>178438</td>\n",
       "      <td>20</td>\n",
       "      <td>10</td>\n",
       "      <td>24</td>\n",
       "      <td>142396</td>\n",
       "      <td>140788</td>\n",
       "    </tr>\n",
       "    <tr>\n",
       "      <th>top</th>\n",
       "      <td>Order ID</td>\n",
       "      <td>USB-C Charging Cable</td>\n",
       "      <td>1</td>\n",
       "      <td>11.95</td>\n",
       "      <td>Order Date</td>\n",
       "      <td>Purchase Address</td>\n",
       "    </tr>\n",
       "    <tr>\n",
       "      <th>freq</th>\n",
       "      <td>355</td>\n",
       "      <td>21903</td>\n",
       "      <td>168552</td>\n",
       "      <td>21903</td>\n",
       "      <td>355</td>\n",
       "      <td>355</td>\n",
       "    </tr>\n",
       "  </tbody>\n",
       "</table>\n",
       "</div>"
      ],
      "text/plain": [
       "        Order ID               Product Quantity Ordered Price Each  \\\n",
       "count     186305                186305           186305     186305   \n",
       "unique    178438                    20               10         24   \n",
       "top     Order ID  USB-C Charging Cable                1      11.95   \n",
       "freq         355                 21903           168552      21903   \n",
       "\n",
       "        Order Date  Purchase Address  \n",
       "count       186305            186305  \n",
       "unique      142396            140788  \n",
       "top     Order Date  Purchase Address  \n",
       "freq           355               355  "
      ]
     },
     "execution_count": 46,
     "metadata": {},
     "output_type": "execute_result"
    }
   ],
   "source": [
    "df.describe()"
   ]
  },
  {
   "cell_type": "code",
   "execution_count": 47,
   "metadata": {
    "colab": {
     "base_uri": "https://localhost:8080/"
    },
    "id": "ABNjpFp3lG5U",
    "outputId": "cd80845c-dc17-4edb-a8a3-cdf33dc265e8"
   },
   "outputs": [
    {
     "name": "stdout",
     "output_type": "stream",
     "text": [
      "<class 'pandas.core.frame.DataFrame'>\n",
      "Int64Index: 186850 entries, 0 to 11685\n",
      "Data columns (total 6 columns):\n",
      " #   Column            Non-Null Count   Dtype \n",
      "---  ------            --------------   ----- \n",
      " 0   Order ID          186305 non-null  object\n",
      " 1   Product           186305 non-null  object\n",
      " 2   Quantity Ordered  186305 non-null  object\n",
      " 3   Price Each        186305 non-null  object\n",
      " 4   Order Date        186305 non-null  object\n",
      " 5   Purchase Address  186305 non-null  object\n",
      "dtypes: object(6)\n",
      "memory usage: 10.0+ MB\n"
     ]
    }
   ],
   "source": [
    "df.info()"
   ]
  },
  {
   "cell_type": "code",
   "execution_count": null,
   "metadata": {},
   "outputs": [],
   "source": []
  },
  {
   "cell_type": "markdown",
   "metadata": {
    "id": "OvpB00aOlWk0"
   },
   "source": [
    "## Nettoyage de la data"
   ]
  },
  {
   "cell_type": "code",
   "execution_count": 48,
   "metadata": {
    "colab": {
     "base_uri": "https://localhost:8080/"
    },
    "id": "HCNpplZklL9V",
    "outputId": "07b81d67-6a2e-49f7-af4f-61efcb0628d4"
   },
   "outputs": [
    {
     "data": {
      "text/plain": [
       "Order ID            545\n",
       "Product             545\n",
       "Quantity Ordered    545\n",
       "Price Each          545\n",
       "Order Date          545\n",
       "Purchase Address    545\n",
       "dtype: int64"
      ]
     },
     "execution_count": 48,
     "metadata": {},
     "output_type": "execute_result"
    }
   ],
   "source": [
    "df.isnull().sum(axis=0)"
   ]
  },
  {
   "cell_type": "markdown",
   "metadata": {
    "id": "nTAaBOZxlwSW"
   },
   "source": [
    "##### Les valeurs manquantes :"
   ]
  },
  {
   "cell_type": "code",
   "execution_count": 49,
   "metadata": {
    "colab": {
     "base_uri": "https://localhost:8080/",
     "height": 415
    },
    "id": "k_giM40ulj9r",
    "outputId": "6abf7428-67a6-4638-f238-ca4c93b6a791"
   },
   "outputs": [
    {
     "data": {
      "text/html": [
       "<div>\n",
       "<style scoped>\n",
       "    .dataframe tbody tr th:only-of-type {\n",
       "        vertical-align: middle;\n",
       "    }\n",
       "\n",
       "    .dataframe tbody tr th {\n",
       "        vertical-align: top;\n",
       "    }\n",
       "\n",
       "    .dataframe thead th {\n",
       "        text-align: right;\n",
       "    }\n",
       "</style>\n",
       "<table border=\"1\" class=\"dataframe\">\n",
       "  <thead>\n",
       "    <tr style=\"text-align: right;\">\n",
       "      <th></th>\n",
       "      <th>Order ID</th>\n",
       "      <th>Product</th>\n",
       "      <th>Quantity Ordered</th>\n",
       "      <th>Price Each</th>\n",
       "      <th>Order Date</th>\n",
       "      <th>Purchase Address</th>\n",
       "    </tr>\n",
       "  </thead>\n",
       "  <tbody>\n",
       "    <tr>\n",
       "      <th>1</th>\n",
       "      <td>NaN</td>\n",
       "      <td>NaN</td>\n",
       "      <td>NaN</td>\n",
       "      <td>NaN</td>\n",
       "      <td>NaN</td>\n",
       "      <td>NaN</td>\n",
       "    </tr>\n",
       "    <tr>\n",
       "      <th>356</th>\n",
       "      <td>NaN</td>\n",
       "      <td>NaN</td>\n",
       "      <td>NaN</td>\n",
       "      <td>NaN</td>\n",
       "      <td>NaN</td>\n",
       "      <td>NaN</td>\n",
       "    </tr>\n",
       "    <tr>\n",
       "      <th>735</th>\n",
       "      <td>NaN</td>\n",
       "      <td>NaN</td>\n",
       "      <td>NaN</td>\n",
       "      <td>NaN</td>\n",
       "      <td>NaN</td>\n",
       "      <td>NaN</td>\n",
       "    </tr>\n",
       "    <tr>\n",
       "      <th>1433</th>\n",
       "      <td>NaN</td>\n",
       "      <td>NaN</td>\n",
       "      <td>NaN</td>\n",
       "      <td>NaN</td>\n",
       "      <td>NaN</td>\n",
       "      <td>NaN</td>\n",
       "    </tr>\n",
       "    <tr>\n",
       "      <th>1553</th>\n",
       "      <td>NaN</td>\n",
       "      <td>NaN</td>\n",
       "      <td>NaN</td>\n",
       "      <td>NaN</td>\n",
       "      <td>NaN</td>\n",
       "      <td>NaN</td>\n",
       "    </tr>\n",
       "    <tr>\n",
       "      <th>...</th>\n",
       "      <td>...</td>\n",
       "      <td>...</td>\n",
       "      <td>...</td>\n",
       "      <td>...</td>\n",
       "      <td>...</td>\n",
       "      <td>...</td>\n",
       "    </tr>\n",
       "    <tr>\n",
       "      <th>10012</th>\n",
       "      <td>NaN</td>\n",
       "      <td>NaN</td>\n",
       "      <td>NaN</td>\n",
       "      <td>NaN</td>\n",
       "      <td>NaN</td>\n",
       "      <td>NaN</td>\n",
       "    </tr>\n",
       "    <tr>\n",
       "      <th>10274</th>\n",
       "      <td>NaN</td>\n",
       "      <td>NaN</td>\n",
       "      <td>NaN</td>\n",
       "      <td>NaN</td>\n",
       "      <td>NaN</td>\n",
       "      <td>NaN</td>\n",
       "    </tr>\n",
       "    <tr>\n",
       "      <th>10878</th>\n",
       "      <td>NaN</td>\n",
       "      <td>NaN</td>\n",
       "      <td>NaN</td>\n",
       "      <td>NaN</td>\n",
       "      <td>NaN</td>\n",
       "      <td>NaN</td>\n",
       "    </tr>\n",
       "    <tr>\n",
       "      <th>11384</th>\n",
       "      <td>NaN</td>\n",
       "      <td>NaN</td>\n",
       "      <td>NaN</td>\n",
       "      <td>NaN</td>\n",
       "      <td>NaN</td>\n",
       "      <td>NaN</td>\n",
       "    </tr>\n",
       "    <tr>\n",
       "      <th>11662</th>\n",
       "      <td>NaN</td>\n",
       "      <td>NaN</td>\n",
       "      <td>NaN</td>\n",
       "      <td>NaN</td>\n",
       "      <td>NaN</td>\n",
       "      <td>NaN</td>\n",
       "    </tr>\n",
       "  </tbody>\n",
       "</table>\n",
       "<p>545 rows × 6 columns</p>\n",
       "</div>"
      ],
      "text/plain": [
       "      Order ID Product Quantity Ordered Price Each Order Date Purchase Address\n",
       "1          NaN     NaN              NaN        NaN        NaN              NaN\n",
       "356        NaN     NaN              NaN        NaN        NaN              NaN\n",
       "735        NaN     NaN              NaN        NaN        NaN              NaN\n",
       "1433       NaN     NaN              NaN        NaN        NaN              NaN\n",
       "1553       NaN     NaN              NaN        NaN        NaN              NaN\n",
       "...        ...     ...              ...        ...        ...              ...\n",
       "10012      NaN     NaN              NaN        NaN        NaN              NaN\n",
       "10274      NaN     NaN              NaN        NaN        NaN              NaN\n",
       "10878      NaN     NaN              NaN        NaN        NaN              NaN\n",
       "11384      NaN     NaN              NaN        NaN        NaN              NaN\n",
       "11662      NaN     NaN              NaN        NaN        NaN              NaN\n",
       "\n",
       "[545 rows x 6 columns]"
      ]
     },
     "execution_count": 49,
     "metadata": {},
     "output_type": "execute_result"
    }
   ],
   "source": [
    "val_manquantes = df[df.isnull().any(axis=1)]\n",
    "val_manquantes"
   ]
  },
  {
   "cell_type": "markdown",
   "metadata": {
    "id": "kLCZ_3Yyme83"
   },
   "source": [
    "#### Verifier si les lignes n'ont que des valeurs manquantes :"
   ]
  },
  {
   "cell_type": "code",
   "execution_count": 50,
   "metadata": {
    "colab": {
     "base_uri": "https://localhost:8080/"
    },
    "id": "kVObj-g4mTSX",
    "outputId": "0a0f261f-1791-45d1-8f30-6ee3fc2112f6"
   },
   "outputs": [
    {
     "data": {
      "text/plain": [
       "Order ID            True\n",
       "Product             True\n",
       "Quantity Ordered    True\n",
       "Price Each          True\n",
       "Order Date          True\n",
       "Purchase Address    True\n",
       "dtype: bool"
      ]
     },
     "execution_count": 50,
     "metadata": {},
     "output_type": "execute_result"
    }
   ],
   "source": [
    "val_manquantes.isnull().all()"
   ]
  },
  {
   "cell_type": "markdown",
   "metadata": {
    "id": "uwXzqNsgnJci"
   },
   "source": [
    "Supprimer toutes les lignes avec des valeurs manquantes: "
   ]
  },
  {
   "cell_type": "code",
   "execution_count": 51,
   "metadata": {
    "colab": {
     "base_uri": "https://localhost:8080/"
    },
    "id": "zCgsylZVn04N",
    "outputId": "426c9641-2a01-4f5f-db71-20aab7addb13"
   },
   "outputs": [
    {
     "data": {
      "text/plain": [
       "(186850, 6)"
      ]
     },
     "execution_count": 51,
     "metadata": {},
     "output_type": "execute_result"
    }
   ],
   "source": [
    "df.shape"
   ]
  },
  {
   "cell_type": "code",
   "execution_count": 52,
   "metadata": {
    "id": "HMklY3wvmrs7"
   },
   "outputs": [],
   "source": [
    "df.dropna(inplace=True)"
   ]
  },
  {
   "cell_type": "code",
   "execution_count": 53,
   "metadata": {
    "colab": {
     "base_uri": "https://localhost:8080/"
    },
    "id": "FqLd2EdHn22X",
    "outputId": "2de04adf-d480-45ac-c690-bdc6aa95141a"
   },
   "outputs": [
    {
     "data": {
      "text/plain": [
       "(186305, 6)"
      ]
     },
     "execution_count": 53,
     "metadata": {},
     "output_type": "execute_result"
    }
   ],
   "source": [
    "df.shape"
   ]
  },
  {
   "cell_type": "code",
   "execution_count": 54,
   "metadata": {
    "colab": {
     "base_uri": "https://localhost:8080/"
    },
    "id": "KvW88iuFn4EJ",
    "outputId": "49f645b9-52df-43c3-a447-a197a2f1f658"
   },
   "outputs": [
    {
     "data": {
      "text/plain": [
       "Order ID            False\n",
       "Product             False\n",
       "Quantity Ordered    False\n",
       "Price Each          False\n",
       "Order Date          False\n",
       "Purchase Address    False\n",
       "dtype: bool"
      ]
     },
     "execution_count": 54,
     "metadata": {},
     "output_type": "execute_result"
    }
   ],
   "source": [
    "df.isnull().any()"
   ]
  },
  {
   "cell_type": "code",
   "execution_count": 55,
   "metadata": {
    "colab": {
     "base_uri": "https://localhost:8080/",
     "height": 171
    },
    "id": "J_7aimkjoByd",
    "outputId": "59b455a9-4768-4039-8650-8e2feb4d8d93"
   },
   "outputs": [
    {
     "data": {
      "text/html": [
       "<div>\n",
       "<style scoped>\n",
       "    .dataframe tbody tr th:only-of-type {\n",
       "        vertical-align: middle;\n",
       "    }\n",
       "\n",
       "    .dataframe tbody tr th {\n",
       "        vertical-align: top;\n",
       "    }\n",
       "\n",
       "    .dataframe thead th {\n",
       "        text-align: right;\n",
       "    }\n",
       "</style>\n",
       "<table border=\"1\" class=\"dataframe\">\n",
       "  <thead>\n",
       "    <tr style=\"text-align: right;\">\n",
       "      <th></th>\n",
       "      <th>Order ID</th>\n",
       "      <th>Product</th>\n",
       "      <th>Quantity Ordered</th>\n",
       "      <th>Price Each</th>\n",
       "      <th>Order Date</th>\n",
       "      <th>Purchase Address</th>\n",
       "    </tr>\n",
       "  </thead>\n",
       "  <tbody>\n",
       "    <tr>\n",
       "      <th>count</th>\n",
       "      <td>186305</td>\n",
       "      <td>186305</td>\n",
       "      <td>186305</td>\n",
       "      <td>186305</td>\n",
       "      <td>186305</td>\n",
       "      <td>186305</td>\n",
       "    </tr>\n",
       "    <tr>\n",
       "      <th>unique</th>\n",
       "      <td>178438</td>\n",
       "      <td>20</td>\n",
       "      <td>10</td>\n",
       "      <td>24</td>\n",
       "      <td>142396</td>\n",
       "      <td>140788</td>\n",
       "    </tr>\n",
       "    <tr>\n",
       "      <th>top</th>\n",
       "      <td>Order ID</td>\n",
       "      <td>USB-C Charging Cable</td>\n",
       "      <td>1</td>\n",
       "      <td>11.95</td>\n",
       "      <td>Order Date</td>\n",
       "      <td>Purchase Address</td>\n",
       "    </tr>\n",
       "    <tr>\n",
       "      <th>freq</th>\n",
       "      <td>355</td>\n",
       "      <td>21903</td>\n",
       "      <td>168552</td>\n",
       "      <td>21903</td>\n",
       "      <td>355</td>\n",
       "      <td>355</td>\n",
       "    </tr>\n",
       "  </tbody>\n",
       "</table>\n",
       "</div>"
      ],
      "text/plain": [
       "        Order ID               Product Quantity Ordered Price Each  \\\n",
       "count     186305                186305           186305     186305   \n",
       "unique    178438                    20               10         24   \n",
       "top     Order ID  USB-C Charging Cable                1      11.95   \n",
       "freq         355                 21903           168552      21903   \n",
       "\n",
       "        Order Date  Purchase Address  \n",
       "count       186305            186305  \n",
       "unique      142396            140788  \n",
       "top     Order Date  Purchase Address  \n",
       "freq           355               355  "
      ]
     },
     "execution_count": 55,
     "metadata": {},
     "output_type": "execute_result"
    }
   ],
   "source": [
    "df.describe()"
   ]
  },
  {
   "cell_type": "markdown",
   "metadata": {
    "id": "fNl-DtczoNbF"
   },
   "source": [
    "Débarassons-nous des lignes avec des valeurs abérantes"
   ]
  },
  {
   "cell_type": "code",
   "execution_count": 56,
   "metadata": {
    "colab": {
     "base_uri": "https://localhost:8080/",
     "height": 415
    },
    "id": "Z10JkeUcoFtQ",
    "outputId": "2241ccfe-6491-46d1-966b-01fd48e84a03"
   },
   "outputs": [
    {
     "data": {
      "text/html": [
       "<div>\n",
       "<style scoped>\n",
       "    .dataframe tbody tr th:only-of-type {\n",
       "        vertical-align: middle;\n",
       "    }\n",
       "\n",
       "    .dataframe tbody tr th {\n",
       "        vertical-align: top;\n",
       "    }\n",
       "\n",
       "    .dataframe thead th {\n",
       "        text-align: right;\n",
       "    }\n",
       "</style>\n",
       "<table border=\"1\" class=\"dataframe\">\n",
       "  <thead>\n",
       "    <tr style=\"text-align: right;\">\n",
       "      <th></th>\n",
       "      <th>Order ID</th>\n",
       "      <th>Product</th>\n",
       "      <th>Quantity Ordered</th>\n",
       "      <th>Price Each</th>\n",
       "      <th>Order Date</th>\n",
       "      <th>Purchase Address</th>\n",
       "    </tr>\n",
       "  </thead>\n",
       "  <tbody>\n",
       "    <tr>\n",
       "      <th>519</th>\n",
       "      <td>Order ID</td>\n",
       "      <td>Product</td>\n",
       "      <td>Quantity Ordered</td>\n",
       "      <td>Price Each</td>\n",
       "      <td>Order Date</td>\n",
       "      <td>Purchase Address</td>\n",
       "    </tr>\n",
       "    <tr>\n",
       "      <th>1149</th>\n",
       "      <td>Order ID</td>\n",
       "      <td>Product</td>\n",
       "      <td>Quantity Ordered</td>\n",
       "      <td>Price Each</td>\n",
       "      <td>Order Date</td>\n",
       "      <td>Purchase Address</td>\n",
       "    </tr>\n",
       "    <tr>\n",
       "      <th>1155</th>\n",
       "      <td>Order ID</td>\n",
       "      <td>Product</td>\n",
       "      <td>Quantity Ordered</td>\n",
       "      <td>Price Each</td>\n",
       "      <td>Order Date</td>\n",
       "      <td>Purchase Address</td>\n",
       "    </tr>\n",
       "    <tr>\n",
       "      <th>2878</th>\n",
       "      <td>Order ID</td>\n",
       "      <td>Product</td>\n",
       "      <td>Quantity Ordered</td>\n",
       "      <td>Price Each</td>\n",
       "      <td>Order Date</td>\n",
       "      <td>Purchase Address</td>\n",
       "    </tr>\n",
       "    <tr>\n",
       "      <th>2893</th>\n",
       "      <td>Order ID</td>\n",
       "      <td>Product</td>\n",
       "      <td>Quantity Ordered</td>\n",
       "      <td>Price Each</td>\n",
       "      <td>Order Date</td>\n",
       "      <td>Purchase Address</td>\n",
       "    </tr>\n",
       "    <tr>\n",
       "      <th>...</th>\n",
       "      <td>...</td>\n",
       "      <td>...</td>\n",
       "      <td>...</td>\n",
       "      <td>...</td>\n",
       "      <td>...</td>\n",
       "      <td>...</td>\n",
       "    </tr>\n",
       "    <tr>\n",
       "      <th>10000</th>\n",
       "      <td>Order ID</td>\n",
       "      <td>Product</td>\n",
       "      <td>Quantity Ordered</td>\n",
       "      <td>Price Each</td>\n",
       "      <td>Order Date</td>\n",
       "      <td>Purchase Address</td>\n",
       "    </tr>\n",
       "    <tr>\n",
       "      <th>10387</th>\n",
       "      <td>Order ID</td>\n",
       "      <td>Product</td>\n",
       "      <td>Quantity Ordered</td>\n",
       "      <td>Price Each</td>\n",
       "      <td>Order Date</td>\n",
       "      <td>Purchase Address</td>\n",
       "    </tr>\n",
       "    <tr>\n",
       "      <th>11399</th>\n",
       "      <td>Order ID</td>\n",
       "      <td>Product</td>\n",
       "      <td>Quantity Ordered</td>\n",
       "      <td>Price Each</td>\n",
       "      <td>Order Date</td>\n",
       "      <td>Purchase Address</td>\n",
       "    </tr>\n",
       "    <tr>\n",
       "      <th>11468</th>\n",
       "      <td>Order ID</td>\n",
       "      <td>Product</td>\n",
       "      <td>Quantity Ordered</td>\n",
       "      <td>Price Each</td>\n",
       "      <td>Order Date</td>\n",
       "      <td>Purchase Address</td>\n",
       "    </tr>\n",
       "    <tr>\n",
       "      <th>11574</th>\n",
       "      <td>Order ID</td>\n",
       "      <td>Product</td>\n",
       "      <td>Quantity Ordered</td>\n",
       "      <td>Price Each</td>\n",
       "      <td>Order Date</td>\n",
       "      <td>Purchase Address</td>\n",
       "    </tr>\n",
       "  </tbody>\n",
       "</table>\n",
       "<p>355 rows × 6 columns</p>\n",
       "</div>"
      ],
      "text/plain": [
       "       Order ID  Product  Quantity Ordered  Price Each  Order Date  \\\n",
       "519    Order ID  Product  Quantity Ordered  Price Each  Order Date   \n",
       "1149   Order ID  Product  Quantity Ordered  Price Each  Order Date   \n",
       "1155   Order ID  Product  Quantity Ordered  Price Each  Order Date   \n",
       "2878   Order ID  Product  Quantity Ordered  Price Each  Order Date   \n",
       "2893   Order ID  Product  Quantity Ordered  Price Each  Order Date   \n",
       "...         ...      ...               ...         ...         ...   \n",
       "10000  Order ID  Product  Quantity Ordered  Price Each  Order Date   \n",
       "10387  Order ID  Product  Quantity Ordered  Price Each  Order Date   \n",
       "11399  Order ID  Product  Quantity Ordered  Price Each  Order Date   \n",
       "11468  Order ID  Product  Quantity Ordered  Price Each  Order Date   \n",
       "11574  Order ID  Product  Quantity Ordered  Price Each  Order Date   \n",
       "\n",
       "       Purchase Address  \n",
       "519    Purchase Address  \n",
       "1149   Purchase Address  \n",
       "1155   Purchase Address  \n",
       "2878   Purchase Address  \n",
       "2893   Purchase Address  \n",
       "...                 ...  \n",
       "10000  Purchase Address  \n",
       "10387  Purchase Address  \n",
       "11399  Purchase Address  \n",
       "11468  Purchase Address  \n",
       "11574  Purchase Address  \n",
       "\n",
       "[355 rows x 6 columns]"
      ]
     },
     "execution_count": 56,
     "metadata": {},
     "output_type": "execute_result"
    }
   ],
   "source": [
    "df[df['Order Date'] == \"Order Date\"]"
   ]
  },
  {
   "cell_type": "code",
   "execution_count": 57,
   "metadata": {
    "colab": {
     "base_uri": "https://localhost:8080/"
    },
    "id": "h5lUogYvoqaX",
    "outputId": "cebbd13b-8776-409c-dd2a-b1f732c15ab0"
   },
   "outputs": [
    {
     "data": {
      "text/plain": [
       "True"
      ]
     },
     "execution_count": 57,
     "metadata": {},
     "output_type": "execute_result"
    }
   ],
   "source": [
    "\"1548\".isdigit()"
   ]
  },
  {
   "cell_type": "code",
   "execution_count": 58,
   "metadata": {
    "colab": {
     "base_uri": "https://localhost:8080/",
     "height": 415
    },
    "id": "xufeA7Iko31W",
    "outputId": "c37449a4-bdc2-49f6-936d-3ef016c54f95"
   },
   "outputs": [
    {
     "data": {
      "text/html": [
       "<div>\n",
       "<style scoped>\n",
       "    .dataframe tbody tr th:only-of-type {\n",
       "        vertical-align: middle;\n",
       "    }\n",
       "\n",
       "    .dataframe tbody tr th {\n",
       "        vertical-align: top;\n",
       "    }\n",
       "\n",
       "    .dataframe thead th {\n",
       "        text-align: right;\n",
       "    }\n",
       "</style>\n",
       "<table border=\"1\" class=\"dataframe\">\n",
       "  <thead>\n",
       "    <tr style=\"text-align: right;\">\n",
       "      <th></th>\n",
       "      <th>Order ID</th>\n",
       "      <th>Product</th>\n",
       "      <th>Quantity Ordered</th>\n",
       "      <th>Price Each</th>\n",
       "      <th>Order Date</th>\n",
       "      <th>Purchase Address</th>\n",
       "    </tr>\n",
       "  </thead>\n",
       "  <tbody>\n",
       "    <tr>\n",
       "      <th>519</th>\n",
       "      <td>Order ID</td>\n",
       "      <td>Product</td>\n",
       "      <td>Quantity Ordered</td>\n",
       "      <td>Price Each</td>\n",
       "      <td>Order Date</td>\n",
       "      <td>Purchase Address</td>\n",
       "    </tr>\n",
       "    <tr>\n",
       "      <th>1149</th>\n",
       "      <td>Order ID</td>\n",
       "      <td>Product</td>\n",
       "      <td>Quantity Ordered</td>\n",
       "      <td>Price Each</td>\n",
       "      <td>Order Date</td>\n",
       "      <td>Purchase Address</td>\n",
       "    </tr>\n",
       "    <tr>\n",
       "      <th>1155</th>\n",
       "      <td>Order ID</td>\n",
       "      <td>Product</td>\n",
       "      <td>Quantity Ordered</td>\n",
       "      <td>Price Each</td>\n",
       "      <td>Order Date</td>\n",
       "      <td>Purchase Address</td>\n",
       "    </tr>\n",
       "    <tr>\n",
       "      <th>2878</th>\n",
       "      <td>Order ID</td>\n",
       "      <td>Product</td>\n",
       "      <td>Quantity Ordered</td>\n",
       "      <td>Price Each</td>\n",
       "      <td>Order Date</td>\n",
       "      <td>Purchase Address</td>\n",
       "    </tr>\n",
       "    <tr>\n",
       "      <th>2893</th>\n",
       "      <td>Order ID</td>\n",
       "      <td>Product</td>\n",
       "      <td>Quantity Ordered</td>\n",
       "      <td>Price Each</td>\n",
       "      <td>Order Date</td>\n",
       "      <td>Purchase Address</td>\n",
       "    </tr>\n",
       "    <tr>\n",
       "      <th>...</th>\n",
       "      <td>...</td>\n",
       "      <td>...</td>\n",
       "      <td>...</td>\n",
       "      <td>...</td>\n",
       "      <td>...</td>\n",
       "      <td>...</td>\n",
       "    </tr>\n",
       "    <tr>\n",
       "      <th>10000</th>\n",
       "      <td>Order ID</td>\n",
       "      <td>Product</td>\n",
       "      <td>Quantity Ordered</td>\n",
       "      <td>Price Each</td>\n",
       "      <td>Order Date</td>\n",
       "      <td>Purchase Address</td>\n",
       "    </tr>\n",
       "    <tr>\n",
       "      <th>10387</th>\n",
       "      <td>Order ID</td>\n",
       "      <td>Product</td>\n",
       "      <td>Quantity Ordered</td>\n",
       "      <td>Price Each</td>\n",
       "      <td>Order Date</td>\n",
       "      <td>Purchase Address</td>\n",
       "    </tr>\n",
       "    <tr>\n",
       "      <th>11399</th>\n",
       "      <td>Order ID</td>\n",
       "      <td>Product</td>\n",
       "      <td>Quantity Ordered</td>\n",
       "      <td>Price Each</td>\n",
       "      <td>Order Date</td>\n",
       "      <td>Purchase Address</td>\n",
       "    </tr>\n",
       "    <tr>\n",
       "      <th>11468</th>\n",
       "      <td>Order ID</td>\n",
       "      <td>Product</td>\n",
       "      <td>Quantity Ordered</td>\n",
       "      <td>Price Each</td>\n",
       "      <td>Order Date</td>\n",
       "      <td>Purchase Address</td>\n",
       "    </tr>\n",
       "    <tr>\n",
       "      <th>11574</th>\n",
       "      <td>Order ID</td>\n",
       "      <td>Product</td>\n",
       "      <td>Quantity Ordered</td>\n",
       "      <td>Price Each</td>\n",
       "      <td>Order Date</td>\n",
       "      <td>Purchase Address</td>\n",
       "    </tr>\n",
       "  </tbody>\n",
       "</table>\n",
       "<p>355 rows × 6 columns</p>\n",
       "</div>"
      ],
      "text/plain": [
       "       Order ID  Product  Quantity Ordered  Price Each  Order Date  \\\n",
       "519    Order ID  Product  Quantity Ordered  Price Each  Order Date   \n",
       "1149   Order ID  Product  Quantity Ordered  Price Each  Order Date   \n",
       "1155   Order ID  Product  Quantity Ordered  Price Each  Order Date   \n",
       "2878   Order ID  Product  Quantity Ordered  Price Each  Order Date   \n",
       "2893   Order ID  Product  Quantity Ordered  Price Each  Order Date   \n",
       "...         ...      ...               ...         ...         ...   \n",
       "10000  Order ID  Product  Quantity Ordered  Price Each  Order Date   \n",
       "10387  Order ID  Product  Quantity Ordered  Price Each  Order Date   \n",
       "11399  Order ID  Product  Quantity Ordered  Price Each  Order Date   \n",
       "11468  Order ID  Product  Quantity Ordered  Price Each  Order Date   \n",
       "11574  Order ID  Product  Quantity Ordered  Price Each  Order Date   \n",
       "\n",
       "       Purchase Address  \n",
       "519    Purchase Address  \n",
       "1149   Purchase Address  \n",
       "1155   Purchase Address  \n",
       "2878   Purchase Address  \n",
       "2893   Purchase Address  \n",
       "...                 ...  \n",
       "10000  Purchase Address  \n",
       "10387  Purchase Address  \n",
       "11399  Purchase Address  \n",
       "11468  Purchase Address  \n",
       "11574  Purchase Address  \n",
       "\n",
       "[355 rows x 6 columns]"
      ]
     },
     "execution_count": 58,
     "metadata": {},
     "output_type": "execute_result"
    }
   ],
   "source": [
    "df.loc[~df['Order ID'].str.isdigit(), : ]"
   ]
  },
  {
   "cell_type": "code",
   "execution_count": 59,
   "metadata": {
    "colab": {
     "base_uri": "https://localhost:8080/",
     "height": 606
    },
    "id": "BQe2n3mdpJX8",
    "outputId": "4e6b27d3-43b4-48c9-d373-087d8e430084"
   },
   "outputs": [
    {
     "data": {
      "text/html": [
       "<div>\n",
       "<style scoped>\n",
       "    .dataframe tbody tr th:only-of-type {\n",
       "        vertical-align: middle;\n",
       "    }\n",
       "\n",
       "    .dataframe tbody tr th {\n",
       "        vertical-align: top;\n",
       "    }\n",
       "\n",
       "    .dataframe thead th {\n",
       "        text-align: right;\n",
       "    }\n",
       "</style>\n",
       "<table border=\"1\" class=\"dataframe\">\n",
       "  <thead>\n",
       "    <tr style=\"text-align: right;\">\n",
       "      <th></th>\n",
       "      <th>Order ID</th>\n",
       "      <th>Product</th>\n",
       "      <th>Quantity Ordered</th>\n",
       "      <th>Price Each</th>\n",
       "      <th>Order Date</th>\n",
       "      <th>Purchase Address</th>\n",
       "    </tr>\n",
       "  </thead>\n",
       "  <tbody>\n",
       "    <tr>\n",
       "      <th>2</th>\n",
       "      <td>176559</td>\n",
       "      <td>Bose SoundSport Headphones</td>\n",
       "      <td>1</td>\n",
       "      <td>99.99</td>\n",
       "      <td>04/07/19 22:30</td>\n",
       "      <td>682 Chestnut St, Boston, MA 02215</td>\n",
       "    </tr>\n",
       "    <tr>\n",
       "      <th>3</th>\n",
       "      <td>176560</td>\n",
       "      <td>Google Phone</td>\n",
       "      <td>1</td>\n",
       "      <td>600</td>\n",
       "      <td>04/12/19 14:38</td>\n",
       "      <td>669 Spruce St, Los Angeles, CA 90001</td>\n",
       "    </tr>\n",
       "    <tr>\n",
       "      <th>4</th>\n",
       "      <td>176560</td>\n",
       "      <td>Wired Headphones</td>\n",
       "      <td>1</td>\n",
       "      <td>11.99</td>\n",
       "      <td>04/12/19 14:38</td>\n",
       "      <td>669 Spruce St, Los Angeles, CA 90001</td>\n",
       "    </tr>\n",
       "    <tr>\n",
       "      <th>5</th>\n",
       "      <td>176561</td>\n",
       "      <td>Wired Headphones</td>\n",
       "      <td>1</td>\n",
       "      <td>11.99</td>\n",
       "      <td>04/30/19 09:27</td>\n",
       "      <td>333 8th St, Los Angeles, CA 90001</td>\n",
       "    </tr>\n",
       "    <tr>\n",
       "      <th>6</th>\n",
       "      <td>176562</td>\n",
       "      <td>USB-C Charging Cable</td>\n",
       "      <td>1</td>\n",
       "      <td>11.95</td>\n",
       "      <td>04/29/19 13:03</td>\n",
       "      <td>381 Wilson St, San Francisco, CA 94016</td>\n",
       "    </tr>\n",
       "    <tr>\n",
       "      <th>...</th>\n",
       "      <td>...</td>\n",
       "      <td>...</td>\n",
       "      <td>...</td>\n",
       "      <td>...</td>\n",
       "      <td>...</td>\n",
       "      <td>...</td>\n",
       "    </tr>\n",
       "    <tr>\n",
       "      <th>11681</th>\n",
       "      <td>259353</td>\n",
       "      <td>AAA Batteries (4-pack)</td>\n",
       "      <td>3</td>\n",
       "      <td>2.99</td>\n",
       "      <td>09/17/19 20:56</td>\n",
       "      <td>840 Highland St, Los Angeles, CA 90001</td>\n",
       "    </tr>\n",
       "    <tr>\n",
       "      <th>11682</th>\n",
       "      <td>259354</td>\n",
       "      <td>iPhone</td>\n",
       "      <td>1</td>\n",
       "      <td>700</td>\n",
       "      <td>09/01/19 16:00</td>\n",
       "      <td>216 Dogwood St, San Francisco, CA 94016</td>\n",
       "    </tr>\n",
       "    <tr>\n",
       "      <th>11683</th>\n",
       "      <td>259355</td>\n",
       "      <td>iPhone</td>\n",
       "      <td>1</td>\n",
       "      <td>700</td>\n",
       "      <td>09/23/19 07:39</td>\n",
       "      <td>220 12th St, San Francisco, CA 94016</td>\n",
       "    </tr>\n",
       "    <tr>\n",
       "      <th>11684</th>\n",
       "      <td>259356</td>\n",
       "      <td>34in Ultrawide Monitor</td>\n",
       "      <td>1</td>\n",
       "      <td>379.99</td>\n",
       "      <td>09/19/19 17:30</td>\n",
       "      <td>511 Forest St, San Francisco, CA 94016</td>\n",
       "    </tr>\n",
       "    <tr>\n",
       "      <th>11685</th>\n",
       "      <td>259357</td>\n",
       "      <td>USB-C Charging Cable</td>\n",
       "      <td>1</td>\n",
       "      <td>11.95</td>\n",
       "      <td>09/30/19 00:18</td>\n",
       "      <td>250 Meadow St, San Francisco, CA 94016</td>\n",
       "    </tr>\n",
       "  </tbody>\n",
       "</table>\n",
       "<p>186282 rows × 6 columns</p>\n",
       "</div>"
      ],
      "text/plain": [
       "      Order ID                     Product Quantity Ordered Price Each  \\\n",
       "2       176559  Bose SoundSport Headphones                1      99.99   \n",
       "3       176560                Google Phone                1        600   \n",
       "4       176560            Wired Headphones                1      11.99   \n",
       "5       176561            Wired Headphones                1      11.99   \n",
       "6       176562        USB-C Charging Cable                1      11.95   \n",
       "...        ...                         ...              ...        ...   \n",
       "11681   259353      AAA Batteries (4-pack)                3       2.99   \n",
       "11682   259354                      iPhone                1        700   \n",
       "11683   259355                      iPhone                1        700   \n",
       "11684   259356      34in Ultrawide Monitor                1     379.99   \n",
       "11685   259357        USB-C Charging Cable                1      11.95   \n",
       "\n",
       "           Order Date                         Purchase Address  \n",
       "2      04/07/19 22:30        682 Chestnut St, Boston, MA 02215  \n",
       "3      04/12/19 14:38     669 Spruce St, Los Angeles, CA 90001  \n",
       "4      04/12/19 14:38     669 Spruce St, Los Angeles, CA 90001  \n",
       "5      04/30/19 09:27        333 8th St, Los Angeles, CA 90001  \n",
       "6      04/29/19 13:03   381 Wilson St, San Francisco, CA 94016  \n",
       "...               ...                                      ...  \n",
       "11681  09/17/19 20:56   840 Highland St, Los Angeles, CA 90001  \n",
       "11682  09/01/19 16:00  216 Dogwood St, San Francisco, CA 94016  \n",
       "11683  09/23/19 07:39     220 12th St, San Francisco, CA 94016  \n",
       "11684  09/19/19 17:30   511 Forest St, San Francisco, CA 94016  \n",
       "11685  09/30/19 00:18   250 Meadow St, San Francisco, CA 94016  \n",
       "\n",
       "[186282 rows x 6 columns]"
      ]
     },
     "execution_count": 59,
     "metadata": {},
     "output_type": "execute_result"
    }
   ],
   "source": [
    "df.drop(df['Order Date'] == \"Order Date\")"
   ]
  },
  {
   "cell_type": "code",
   "execution_count": 60,
   "metadata": {
    "id": "BPgb1-0Ip3lD"
   },
   "outputs": [],
   "source": [
    "df_clean = df.drop(df.loc[df['Order Date'] == \"Order Date\", :].index)"
   ]
  },
  {
   "cell_type": "code",
   "execution_count": 61,
   "metadata": {
    "colab": {
     "base_uri": "https://localhost:8080/",
     "height": 49
    },
    "id": "8bka_lRUrDge",
    "outputId": "9c9659c2-7590-41d5-c4f6-b953585418b6"
   },
   "outputs": [
    {
     "data": {
      "text/html": [
       "<div>\n",
       "<style scoped>\n",
       "    .dataframe tbody tr th:only-of-type {\n",
       "        vertical-align: middle;\n",
       "    }\n",
       "\n",
       "    .dataframe tbody tr th {\n",
       "        vertical-align: top;\n",
       "    }\n",
       "\n",
       "    .dataframe thead th {\n",
       "        text-align: right;\n",
       "    }\n",
       "</style>\n",
       "<table border=\"1\" class=\"dataframe\">\n",
       "  <thead>\n",
       "    <tr style=\"text-align: right;\">\n",
       "      <th></th>\n",
       "      <th>Order ID</th>\n",
       "      <th>Product</th>\n",
       "      <th>Quantity Ordered</th>\n",
       "      <th>Price Each</th>\n",
       "      <th>Order Date</th>\n",
       "      <th>Purchase Address</th>\n",
       "    </tr>\n",
       "  </thead>\n",
       "  <tbody>\n",
       "  </tbody>\n",
       "</table>\n",
       "</div>"
      ],
      "text/plain": [
       "Empty DataFrame\n",
       "Columns: [Order ID, Product, Quantity Ordered, Price Each, Order Date, Purchase Address]\n",
       "Index: []"
      ]
     },
     "execution_count": 61,
     "metadata": {},
     "output_type": "execute_result"
    }
   ],
   "source": [
    "df_clean.loc[~df_clean['Order ID'].str.isdigit(), : ]"
   ]
  },
  {
   "cell_type": "markdown",
   "metadata": {
    "id": "2RnhyvXNqFtl"
   },
   "source": [
    "Changement des Types"
   ]
  },
  {
   "cell_type": "code",
   "execution_count": 62,
   "metadata": {
    "colab": {
     "base_uri": "https://localhost:8080/",
     "height": 306
    },
    "id": "r5y2c1otp_0G",
    "outputId": "fd9ce2a7-45ff-4db9-cc0d-eb53900b5a4f"
   },
   "outputs": [
    {
     "data": {
      "text/html": [
       "<div>\n",
       "<style scoped>\n",
       "    .dataframe tbody tr th:only-of-type {\n",
       "        vertical-align: middle;\n",
       "    }\n",
       "\n",
       "    .dataframe tbody tr th {\n",
       "        vertical-align: top;\n",
       "    }\n",
       "\n",
       "    .dataframe thead th {\n",
       "        text-align: right;\n",
       "    }\n",
       "</style>\n",
       "<table border=\"1\" class=\"dataframe\">\n",
       "  <thead>\n",
       "    <tr style=\"text-align: right;\">\n",
       "      <th></th>\n",
       "      <th>Order ID</th>\n",
       "      <th>Product</th>\n",
       "      <th>Quantity Ordered</th>\n",
       "      <th>Price Each</th>\n",
       "      <th>Order Date</th>\n",
       "      <th>Purchase Address</th>\n",
       "    </tr>\n",
       "  </thead>\n",
       "  <tbody>\n",
       "    <tr>\n",
       "      <th>0</th>\n",
       "      <td>176558</td>\n",
       "      <td>USB-C Charging Cable</td>\n",
       "      <td>2</td>\n",
       "      <td>11.95</td>\n",
       "      <td>04/19/19 08:46</td>\n",
       "      <td>917 1st St, Dallas, TX 75001</td>\n",
       "    </tr>\n",
       "    <tr>\n",
       "      <th>2</th>\n",
       "      <td>176559</td>\n",
       "      <td>Bose SoundSport Headphones</td>\n",
       "      <td>1</td>\n",
       "      <td>99.99</td>\n",
       "      <td>04/07/19 22:30</td>\n",
       "      <td>682 Chestnut St, Boston, MA 02215</td>\n",
       "    </tr>\n",
       "    <tr>\n",
       "      <th>3</th>\n",
       "      <td>176560</td>\n",
       "      <td>Google Phone</td>\n",
       "      <td>1</td>\n",
       "      <td>600</td>\n",
       "      <td>04/12/19 14:38</td>\n",
       "      <td>669 Spruce St, Los Angeles, CA 90001</td>\n",
       "    </tr>\n",
       "    <tr>\n",
       "      <th>4</th>\n",
       "      <td>176560</td>\n",
       "      <td>Wired Headphones</td>\n",
       "      <td>1</td>\n",
       "      <td>11.99</td>\n",
       "      <td>04/12/19 14:38</td>\n",
       "      <td>669 Spruce St, Los Angeles, CA 90001</td>\n",
       "    </tr>\n",
       "    <tr>\n",
       "      <th>5</th>\n",
       "      <td>176561</td>\n",
       "      <td>Wired Headphones</td>\n",
       "      <td>1</td>\n",
       "      <td>11.99</td>\n",
       "      <td>04/30/19 09:27</td>\n",
       "      <td>333 8th St, Los Angeles, CA 90001</td>\n",
       "    </tr>\n",
       "  </tbody>\n",
       "</table>\n",
       "</div>"
      ],
      "text/plain": [
       "  Order ID                     Product Quantity Ordered Price Each  \\\n",
       "0   176558        USB-C Charging Cable                2      11.95   \n",
       "2   176559  Bose SoundSport Headphones                1      99.99   \n",
       "3   176560                Google Phone                1        600   \n",
       "4   176560            Wired Headphones                1      11.99   \n",
       "5   176561            Wired Headphones                1      11.99   \n",
       "\n",
       "       Order Date                      Purchase Address  \n",
       "0  04/19/19 08:46          917 1st St, Dallas, TX 75001  \n",
       "2  04/07/19 22:30     682 Chestnut St, Boston, MA 02215  \n",
       "3  04/12/19 14:38  669 Spruce St, Los Angeles, CA 90001  \n",
       "4  04/12/19 14:38  669 Spruce St, Los Angeles, CA 90001  \n",
       "5  04/30/19 09:27     333 8th St, Los Angeles, CA 90001  "
      ]
     },
     "execution_count": 62,
     "metadata": {},
     "output_type": "execute_result"
    }
   ],
   "source": [
    "df_clean.head()"
   ]
  },
  {
   "cell_type": "code",
   "execution_count": 63,
   "metadata": {
    "colab": {
     "base_uri": "https://localhost:8080/"
    },
    "id": "5ZOQtW39qKtb",
    "outputId": "9c42716b-21bd-46a8-c83c-aec6b2a3b39d"
   },
   "outputs": [
    {
     "name": "stderr",
     "output_type": "stream",
     "text": [
      "<ipython-input-63-5f94bcfa6949>:1: SettingWithCopyWarning: \n",
      "A value is trying to be set on a copy of a slice from a DataFrame.\n",
      "Try using .loc[row_indexer,col_indexer] = value instead\n",
      "\n",
      "See the caveats in the documentation: https://pandas.pydata.org/pandas-docs/stable/user_guide/indexing.html#returning-a-view-versus-a-copy\n",
      "  df_clean['Quantity Ordered'] = df_clean['Quantity Ordered'].astype('int')\n"
     ]
    }
   ],
   "source": [
    "df_clean['Quantity Ordered'] = df_clean['Quantity Ordered'].astype('int')"
   ]
  },
  {
   "cell_type": "code",
   "execution_count": 64,
   "metadata": {
    "colab": {
     "base_uri": "https://localhost:8080/"
    },
    "id": "zjqb7KUPq-uX",
    "outputId": "4c914476-d175-4b7b-eec1-db3dad50c74a"
   },
   "outputs": [
    {
     "name": "stderr",
     "output_type": "stream",
     "text": [
      "<ipython-input-64-f3ef5ea88141>:1: SettingWithCopyWarning: \n",
      "A value is trying to be set on a copy of a slice from a DataFrame.\n",
      "Try using .loc[row_indexer,col_indexer] = value instead\n",
      "\n",
      "See the caveats in the documentation: https://pandas.pydata.org/pandas-docs/stable/user_guide/indexing.html#returning-a-view-versus-a-copy\n",
      "  df_clean['Price Each'] = pd.to_numeric(df_clean['Price Each'])\n"
     ]
    }
   ],
   "source": [
    "df_clean['Price Each'] = pd.to_numeric(df_clean['Price Each'])"
   ]
  },
  {
   "cell_type": "code",
   "execution_count": 65,
   "metadata": {
    "colab": {
     "base_uri": "https://localhost:8080/"
    },
    "id": "go-5k6lwr5pe",
    "outputId": "be663e19-7265-4dcd-e49f-50de00e95af3"
   },
   "outputs": [
    {
     "name": "stdout",
     "output_type": "stream",
     "text": [
      "<class 'pandas.core.frame.DataFrame'>\n",
      "Int64Index: 182735 entries, 0 to 11685\n",
      "Data columns (total 6 columns):\n",
      " #   Column            Non-Null Count   Dtype  \n",
      "---  ------            --------------   -----  \n",
      " 0   Order ID          182735 non-null  object \n",
      " 1   Product           182735 non-null  object \n",
      " 2   Quantity Ordered  182735 non-null  int32  \n",
      " 3   Price Each        182735 non-null  float64\n",
      " 4   Order Date        182735 non-null  object \n",
      " 5   Purchase Address  182735 non-null  object \n",
      "dtypes: float64(1), int32(1), object(4)\n",
      "memory usage: 9.1+ MB\n"
     ]
    }
   ],
   "source": [
    "df_clean.info()"
   ]
  },
  {
   "cell_type": "code",
   "execution_count": 66,
   "metadata": {
    "colab": {
     "base_uri": "https://localhost:8080/"
    },
    "id": "j5DmptSxr-IO",
    "outputId": "a10e068a-b5ee-49fa-9754-aea89ca05aba"
   },
   "outputs": [
    {
     "name": "stderr",
     "output_type": "stream",
     "text": [
      "<ipython-input-66-8bd24490f977>:1: SettingWithCopyWarning: \n",
      "A value is trying to be set on a copy of a slice from a DataFrame.\n",
      "Try using .loc[row_indexer,col_indexer] = value instead\n",
      "\n",
      "See the caveats in the documentation: https://pandas.pydata.org/pandas-docs/stable/user_guide/indexing.html#returning-a-view-versus-a-copy\n",
      "  df_clean['Order Date'] = pd.to_datetime(df_clean['Order Date'])\n"
     ]
    }
   ],
   "source": [
    "df_clean['Order Date'] = pd.to_datetime(df_clean['Order Date'])"
   ]
  },
  {
   "cell_type": "code",
   "execution_count": 67,
   "metadata": {
    "colab": {
     "base_uri": "https://localhost:8080/"
    },
    "id": "zbwJvYk5sJSO",
    "outputId": "479db95a-8790-41fb-c2a7-f399ecfb8355"
   },
   "outputs": [
    {
     "name": "stdout",
     "output_type": "stream",
     "text": [
      "<class 'pandas.core.frame.DataFrame'>\n",
      "Int64Index: 182735 entries, 0 to 11685\n",
      "Data columns (total 6 columns):\n",
      " #   Column            Non-Null Count   Dtype         \n",
      "---  ------            --------------   -----         \n",
      " 0   Order ID          182735 non-null  object        \n",
      " 1   Product           182735 non-null  object        \n",
      " 2   Quantity Ordered  182735 non-null  int32         \n",
      " 3   Price Each        182735 non-null  float64       \n",
      " 4   Order Date        182735 non-null  datetime64[ns]\n",
      " 5   Purchase Address  182735 non-null  object        \n",
      "dtypes: datetime64[ns](1), float64(1), int32(1), object(3)\n",
      "memory usage: 9.1+ MB\n"
     ]
    }
   ],
   "source": [
    "df_clean.info()"
   ]
  },
  {
   "cell_type": "code",
   "execution_count": 68,
   "metadata": {
    "colab": {
     "base_uri": "https://localhost:8080/"
    },
    "id": "OhkKSeQGskID",
    "outputId": "eee10efa-3c89-4558-dc5f-39cc43fbc111"
   },
   "outputs": [
    {
     "data": {
      "text/plain": [
       "0        04/19/19 08:46\n",
       "2        04/07/19 22:30\n",
       "3        04/12/19 14:38\n",
       "4        04/12/19 14:38\n",
       "5        04/30/19 09:27\n",
       "              ...      \n",
       "11681    09/17/19 20:56\n",
       "11682    09/01/19 16:00\n",
       "11683    09/23/19 07:39\n",
       "11684    09/19/19 17:30\n",
       "11685    09/30/19 00:18\n",
       "Name: Order Date, Length: 186305, dtype: object"
      ]
     },
     "execution_count": 68,
     "metadata": {},
     "output_type": "execute_result"
    }
   ],
   "source": [
    "df['Order Date']"
   ]
  },
  {
   "cell_type": "code",
   "execution_count": 69,
   "metadata": {
    "colab": {
     "base_uri": "https://localhost:8080/"
    },
    "id": "KcDUXX-Msvcw",
    "outputId": "3cef5abe-74cc-42e4-e60f-179a79e4b735"
   },
   "outputs": [
    {
     "data": {
      "text/plain": [
       "0       2019-04-19 08:46:00\n",
       "2       2019-04-07 22:30:00\n",
       "3       2019-04-12 14:38:00\n",
       "4       2019-04-12 14:38:00\n",
       "5       2019-04-30 09:27:00\n",
       "                ...        \n",
       "11681   2019-09-17 20:56:00\n",
       "11682   2019-09-01 16:00:00\n",
       "11683   2019-09-23 07:39:00\n",
       "11684   2019-09-19 17:30:00\n",
       "11685   2019-09-30 00:18:00\n",
       "Name: Order Date, Length: 182735, dtype: datetime64[ns]"
      ]
     },
     "execution_count": 69,
     "metadata": {},
     "output_type": "execute_result"
    }
   ],
   "source": [
    "df_clean['Order Date']"
   ]
  },
  {
   "cell_type": "markdown",
   "metadata": {
    "id": "GilkeYhpsdIM"
   },
   "source": [
    "## Analyse Exploratoire proprement dite"
   ]
  },
  {
   "cell_type": "markdown",
   "metadata": {
    "id": "TjhtLeBvs9ib"
   },
   "source": [
    "## Quel est le meilleur mois de vente ? et Quel est le chiffre d'affaires de ce mois ?"
   ]
  },
  {
   "cell_type": "code",
   "execution_count": 70,
   "metadata": {
    "colab": {
     "base_uri": "https://localhost:8080/",
     "height": 306
    },
    "id": "MaM7ag8esTPU",
    "outputId": "51f6343e-34b1-44cc-bf69-94ea55e9b65e"
   },
   "outputs": [
    {
     "data": {
      "text/html": [
       "<div>\n",
       "<style scoped>\n",
       "    .dataframe tbody tr th:only-of-type {\n",
       "        vertical-align: middle;\n",
       "    }\n",
       "\n",
       "    .dataframe tbody tr th {\n",
       "        vertical-align: top;\n",
       "    }\n",
       "\n",
       "    .dataframe thead th {\n",
       "        text-align: right;\n",
       "    }\n",
       "</style>\n",
       "<table border=\"1\" class=\"dataframe\">\n",
       "  <thead>\n",
       "    <tr style=\"text-align: right;\">\n",
       "      <th></th>\n",
       "      <th>Order ID</th>\n",
       "      <th>Product</th>\n",
       "      <th>Quantity Ordered</th>\n",
       "      <th>Price Each</th>\n",
       "      <th>Order Date</th>\n",
       "      <th>Purchase Address</th>\n",
       "    </tr>\n",
       "  </thead>\n",
       "  <tbody>\n",
       "    <tr>\n",
       "      <th>0</th>\n",
       "      <td>176558</td>\n",
       "      <td>USB-C Charging Cable</td>\n",
       "      <td>2</td>\n",
       "      <td>11.95</td>\n",
       "      <td>2019-04-19 08:46:00</td>\n",
       "      <td>917 1st St, Dallas, TX 75001</td>\n",
       "    </tr>\n",
       "    <tr>\n",
       "      <th>2</th>\n",
       "      <td>176559</td>\n",
       "      <td>Bose SoundSport Headphones</td>\n",
       "      <td>1</td>\n",
       "      <td>99.99</td>\n",
       "      <td>2019-04-07 22:30:00</td>\n",
       "      <td>682 Chestnut St, Boston, MA 02215</td>\n",
       "    </tr>\n",
       "    <tr>\n",
       "      <th>3</th>\n",
       "      <td>176560</td>\n",
       "      <td>Google Phone</td>\n",
       "      <td>1</td>\n",
       "      <td>600.00</td>\n",
       "      <td>2019-04-12 14:38:00</td>\n",
       "      <td>669 Spruce St, Los Angeles, CA 90001</td>\n",
       "    </tr>\n",
       "    <tr>\n",
       "      <th>4</th>\n",
       "      <td>176560</td>\n",
       "      <td>Wired Headphones</td>\n",
       "      <td>1</td>\n",
       "      <td>11.99</td>\n",
       "      <td>2019-04-12 14:38:00</td>\n",
       "      <td>669 Spruce St, Los Angeles, CA 90001</td>\n",
       "    </tr>\n",
       "    <tr>\n",
       "      <th>5</th>\n",
       "      <td>176561</td>\n",
       "      <td>Wired Headphones</td>\n",
       "      <td>1</td>\n",
       "      <td>11.99</td>\n",
       "      <td>2019-04-30 09:27:00</td>\n",
       "      <td>333 8th St, Los Angeles, CA 90001</td>\n",
       "    </tr>\n",
       "  </tbody>\n",
       "</table>\n",
       "</div>"
      ],
      "text/plain": [
       "  Order ID                     Product  Quantity Ordered  Price Each  \\\n",
       "0   176558        USB-C Charging Cable                 2       11.95   \n",
       "2   176559  Bose SoundSport Headphones                 1       99.99   \n",
       "3   176560                Google Phone                 1      600.00   \n",
       "4   176560            Wired Headphones                 1       11.99   \n",
       "5   176561            Wired Headphones                 1       11.99   \n",
       "\n",
       "           Order Date                      Purchase Address  \n",
       "0 2019-04-19 08:46:00          917 1st St, Dallas, TX 75001  \n",
       "2 2019-04-07 22:30:00     682 Chestnut St, Boston, MA 02215  \n",
       "3 2019-04-12 14:38:00  669 Spruce St, Los Angeles, CA 90001  \n",
       "4 2019-04-12 14:38:00  669 Spruce St, Los Angeles, CA 90001  \n",
       "5 2019-04-30 09:27:00     333 8th St, Los Angeles, CA 90001  "
      ]
     },
     "execution_count": 70,
     "metadata": {},
     "output_type": "execute_result"
    }
   ],
   "source": [
    "df_clean.head()"
   ]
  },
  {
   "cell_type": "code",
   "execution_count": 71,
   "metadata": {
    "colab": {
     "base_uri": "https://localhost:8080/"
    },
    "id": "dgo-F4ZmtcDj",
    "outputId": "147cad9a-d099-40a5-d20c-d266efc2a687"
   },
   "outputs": [
    {
     "data": {
      "text/plain": [
       "Int64Index([    0,     2,     3,     4,     5,     6,     7,     8,     9,\n",
       "               10,\n",
       "            ...\n",
       "            11676, 11677, 11678, 11679, 11680, 11681, 11682, 11683, 11684,\n",
       "            11685],\n",
       "           dtype='int64', length=182735)"
      ]
     },
     "execution_count": 71,
     "metadata": {},
     "output_type": "execute_result"
    }
   ],
   "source": [
    "df_clean.index"
   ]
  },
  {
   "cell_type": "code",
   "execution_count": 72,
   "metadata": {
    "id": "g_lAeWm1tgn0"
   },
   "outputs": [],
   "source": [
    "df_clean  = df_clean.set_index('Order Date')"
   ]
  },
  {
   "cell_type": "code",
   "execution_count": 73,
   "metadata": {
    "colab": {
     "base_uri": "https://localhost:8080/",
     "height": 337
    },
    "id": "597mOhnKtniD",
    "outputId": "dfba60cd-9ba2-4da0-e4f0-360a763e1d26"
   },
   "outputs": [
    {
     "data": {
      "text/html": [
       "<div>\n",
       "<style scoped>\n",
       "    .dataframe tbody tr th:only-of-type {\n",
       "        vertical-align: middle;\n",
       "    }\n",
       "\n",
       "    .dataframe tbody tr th {\n",
       "        vertical-align: top;\n",
       "    }\n",
       "\n",
       "    .dataframe thead th {\n",
       "        text-align: right;\n",
       "    }\n",
       "</style>\n",
       "<table border=\"1\" class=\"dataframe\">\n",
       "  <thead>\n",
       "    <tr style=\"text-align: right;\">\n",
       "      <th></th>\n",
       "      <th>Order ID</th>\n",
       "      <th>Product</th>\n",
       "      <th>Quantity Ordered</th>\n",
       "      <th>Price Each</th>\n",
       "      <th>Purchase Address</th>\n",
       "    </tr>\n",
       "    <tr>\n",
       "      <th>Order Date</th>\n",
       "      <th></th>\n",
       "      <th></th>\n",
       "      <th></th>\n",
       "      <th></th>\n",
       "      <th></th>\n",
       "    </tr>\n",
       "  </thead>\n",
       "  <tbody>\n",
       "    <tr>\n",
       "      <th>2019-04-19 08:46:00</th>\n",
       "      <td>176558</td>\n",
       "      <td>USB-C Charging Cable</td>\n",
       "      <td>2</td>\n",
       "      <td>11.95</td>\n",
       "      <td>917 1st St, Dallas, TX 75001</td>\n",
       "    </tr>\n",
       "    <tr>\n",
       "      <th>2019-04-07 22:30:00</th>\n",
       "      <td>176559</td>\n",
       "      <td>Bose SoundSport Headphones</td>\n",
       "      <td>1</td>\n",
       "      <td>99.99</td>\n",
       "      <td>682 Chestnut St, Boston, MA 02215</td>\n",
       "    </tr>\n",
       "    <tr>\n",
       "      <th>2019-04-12 14:38:00</th>\n",
       "      <td>176560</td>\n",
       "      <td>Google Phone</td>\n",
       "      <td>1</td>\n",
       "      <td>600.00</td>\n",
       "      <td>669 Spruce St, Los Angeles, CA 90001</td>\n",
       "    </tr>\n",
       "    <tr>\n",
       "      <th>2019-04-12 14:38:00</th>\n",
       "      <td>176560</td>\n",
       "      <td>Wired Headphones</td>\n",
       "      <td>1</td>\n",
       "      <td>11.99</td>\n",
       "      <td>669 Spruce St, Los Angeles, CA 90001</td>\n",
       "    </tr>\n",
       "    <tr>\n",
       "      <th>2019-04-30 09:27:00</th>\n",
       "      <td>176561</td>\n",
       "      <td>Wired Headphones</td>\n",
       "      <td>1</td>\n",
       "      <td>11.99</td>\n",
       "      <td>333 8th St, Los Angeles, CA 90001</td>\n",
       "    </tr>\n",
       "  </tbody>\n",
       "</table>\n",
       "</div>"
      ],
      "text/plain": [
       "                    Order ID                     Product  Quantity Ordered  \\\n",
       "Order Date                                                                   \n",
       "2019-04-19 08:46:00   176558        USB-C Charging Cable                 2   \n",
       "2019-04-07 22:30:00   176559  Bose SoundSport Headphones                 1   \n",
       "2019-04-12 14:38:00   176560                Google Phone                 1   \n",
       "2019-04-12 14:38:00   176560            Wired Headphones                 1   \n",
       "2019-04-30 09:27:00   176561            Wired Headphones                 1   \n",
       "\n",
       "                     Price Each                      Purchase Address  \n",
       "Order Date                                                             \n",
       "2019-04-19 08:46:00       11.95          917 1st St, Dallas, TX 75001  \n",
       "2019-04-07 22:30:00       99.99     682 Chestnut St, Boston, MA 02215  \n",
       "2019-04-12 14:38:00      600.00  669 Spruce St, Los Angeles, CA 90001  \n",
       "2019-04-12 14:38:00       11.99  669 Spruce St, Los Angeles, CA 90001  \n",
       "2019-04-30 09:27:00       11.99     333 8th St, Los Angeles, CA 90001  "
      ]
     },
     "execution_count": 73,
     "metadata": {},
     "output_type": "execute_result"
    }
   ],
   "source": [
    "df_clean.head()"
   ]
  },
  {
   "cell_type": "code",
   "execution_count": 74,
   "metadata": {
    "id": "gNP_oRjit2Yi"
   },
   "outputs": [],
   "source": [
    "df_clean.sort_index(inplace=True)"
   ]
  },
  {
   "cell_type": "code",
   "execution_count": 75,
   "metadata": {
    "colab": {
     "base_uri": "https://localhost:8080/",
     "height": 337
    },
    "id": "byvuiiWuuA6u",
    "outputId": "e8ac58cc-b860-4c97-9936-555b7edaf8dd"
   },
   "outputs": [
    {
     "data": {
      "text/html": [
       "<div>\n",
       "<style scoped>\n",
       "    .dataframe tbody tr th:only-of-type {\n",
       "        vertical-align: middle;\n",
       "    }\n",
       "\n",
       "    .dataframe tbody tr th {\n",
       "        vertical-align: top;\n",
       "    }\n",
       "\n",
       "    .dataframe thead th {\n",
       "        text-align: right;\n",
       "    }\n",
       "</style>\n",
       "<table border=\"1\" class=\"dataframe\">\n",
       "  <thead>\n",
       "    <tr style=\"text-align: right;\">\n",
       "      <th></th>\n",
       "      <th>Order ID</th>\n",
       "      <th>Product</th>\n",
       "      <th>Quantity Ordered</th>\n",
       "      <th>Price Each</th>\n",
       "      <th>Purchase Address</th>\n",
       "    </tr>\n",
       "    <tr>\n",
       "      <th>Order Date</th>\n",
       "      <th></th>\n",
       "      <th></th>\n",
       "      <th></th>\n",
       "      <th></th>\n",
       "      <th></th>\n",
       "    </tr>\n",
       "  </thead>\n",
       "  <tbody>\n",
       "    <tr>\n",
       "      <th>2019-01-01 03:07:00</th>\n",
       "      <td>147268</td>\n",
       "      <td>Wired Headphones</td>\n",
       "      <td>1</td>\n",
       "      <td>11.99</td>\n",
       "      <td>9 Lake St, New York City, NY 10001</td>\n",
       "    </tr>\n",
       "    <tr>\n",
       "      <th>2019-01-01 03:40:00</th>\n",
       "      <td>148041</td>\n",
       "      <td>USB-C Charging Cable</td>\n",
       "      <td>1</td>\n",
       "      <td>11.95</td>\n",
       "      <td>760 Church St, San Francisco, CA 94016</td>\n",
       "    </tr>\n",
       "    <tr>\n",
       "      <th>2019-01-01 04:56:00</th>\n",
       "      <td>149343</td>\n",
       "      <td>Apple Airpods Headphones</td>\n",
       "      <td>1</td>\n",
       "      <td>150.00</td>\n",
       "      <td>735 5th St, New York City, NY 10001</td>\n",
       "    </tr>\n",
       "    <tr>\n",
       "      <th>2019-01-01 05:53:00</th>\n",
       "      <td>149964</td>\n",
       "      <td>AAA Batteries (4-pack)</td>\n",
       "      <td>1</td>\n",
       "      <td>2.99</td>\n",
       "      <td>75 Jackson St, Dallas, TX 75001</td>\n",
       "    </tr>\n",
       "    <tr>\n",
       "      <th>2019-01-01 06:03:00</th>\n",
       "      <td>149350</td>\n",
       "      <td>USB-C Charging Cable</td>\n",
       "      <td>2</td>\n",
       "      <td>11.95</td>\n",
       "      <td>943 2nd St, Atlanta, GA 30301</td>\n",
       "    </tr>\n",
       "  </tbody>\n",
       "</table>\n",
       "</div>"
      ],
      "text/plain": [
       "                    Order ID                   Product  Quantity Ordered  \\\n",
       "Order Date                                                                 \n",
       "2019-01-01 03:07:00   147268          Wired Headphones                 1   \n",
       "2019-01-01 03:40:00   148041      USB-C Charging Cable                 1   \n",
       "2019-01-01 04:56:00   149343  Apple Airpods Headphones                 1   \n",
       "2019-01-01 05:53:00   149964    AAA Batteries (4-pack)                 1   \n",
       "2019-01-01 06:03:00   149350      USB-C Charging Cable                 2   \n",
       "\n",
       "                     Price Each                        Purchase Address  \n",
       "Order Date                                                               \n",
       "2019-01-01 03:07:00       11.99      9 Lake St, New York City, NY 10001  \n",
       "2019-01-01 03:40:00       11.95  760 Church St, San Francisco, CA 94016  \n",
       "2019-01-01 04:56:00      150.00     735 5th St, New York City, NY 10001  \n",
       "2019-01-01 05:53:00        2.99         75 Jackson St, Dallas, TX 75001  \n",
       "2019-01-01 06:03:00       11.95           943 2nd St, Atlanta, GA 30301  "
      ]
     },
     "execution_count": 75,
     "metadata": {},
     "output_type": "execute_result"
    }
   ],
   "source": [
    "df_clean.head()"
   ]
  },
  {
   "cell_type": "code",
   "execution_count": 76,
   "metadata": {
    "id": "-9qQ1TxyuOKc"
   },
   "outputs": [],
   "source": [
    "df_clean['Month'] = df_clean.index.month_name()"
   ]
  },
  {
   "cell_type": "code",
   "execution_count": 77,
   "metadata": {
    "colab": {
     "base_uri": "https://localhost:8080/",
     "height": 337
    },
    "id": "f5gtIM9DuZfT",
    "outputId": "5f128f57-e906-4bce-b3a8-e702f19ab883"
   },
   "outputs": [
    {
     "data": {
      "text/html": [
       "<div>\n",
       "<style scoped>\n",
       "    .dataframe tbody tr th:only-of-type {\n",
       "        vertical-align: middle;\n",
       "    }\n",
       "\n",
       "    .dataframe tbody tr th {\n",
       "        vertical-align: top;\n",
       "    }\n",
       "\n",
       "    .dataframe thead th {\n",
       "        text-align: right;\n",
       "    }\n",
       "</style>\n",
       "<table border=\"1\" class=\"dataframe\">\n",
       "  <thead>\n",
       "    <tr style=\"text-align: right;\">\n",
       "      <th></th>\n",
       "      <th>Order ID</th>\n",
       "      <th>Product</th>\n",
       "      <th>Quantity Ordered</th>\n",
       "      <th>Price Each</th>\n",
       "      <th>Purchase Address</th>\n",
       "      <th>Month</th>\n",
       "    </tr>\n",
       "    <tr>\n",
       "      <th>Order Date</th>\n",
       "      <th></th>\n",
       "      <th></th>\n",
       "      <th></th>\n",
       "      <th></th>\n",
       "      <th></th>\n",
       "      <th></th>\n",
       "    </tr>\n",
       "  </thead>\n",
       "  <tbody>\n",
       "    <tr>\n",
       "      <th>2019-01-01 03:07:00</th>\n",
       "      <td>147268</td>\n",
       "      <td>Wired Headphones</td>\n",
       "      <td>1</td>\n",
       "      <td>11.99</td>\n",
       "      <td>9 Lake St, New York City, NY 10001</td>\n",
       "      <td>January</td>\n",
       "    </tr>\n",
       "    <tr>\n",
       "      <th>2019-01-01 03:40:00</th>\n",
       "      <td>148041</td>\n",
       "      <td>USB-C Charging Cable</td>\n",
       "      <td>1</td>\n",
       "      <td>11.95</td>\n",
       "      <td>760 Church St, San Francisco, CA 94016</td>\n",
       "      <td>January</td>\n",
       "    </tr>\n",
       "    <tr>\n",
       "      <th>2019-01-01 04:56:00</th>\n",
       "      <td>149343</td>\n",
       "      <td>Apple Airpods Headphones</td>\n",
       "      <td>1</td>\n",
       "      <td>150.00</td>\n",
       "      <td>735 5th St, New York City, NY 10001</td>\n",
       "      <td>January</td>\n",
       "    </tr>\n",
       "    <tr>\n",
       "      <th>2019-01-01 05:53:00</th>\n",
       "      <td>149964</td>\n",
       "      <td>AAA Batteries (4-pack)</td>\n",
       "      <td>1</td>\n",
       "      <td>2.99</td>\n",
       "      <td>75 Jackson St, Dallas, TX 75001</td>\n",
       "      <td>January</td>\n",
       "    </tr>\n",
       "    <tr>\n",
       "      <th>2019-01-01 06:03:00</th>\n",
       "      <td>149350</td>\n",
       "      <td>USB-C Charging Cable</td>\n",
       "      <td>2</td>\n",
       "      <td>11.95</td>\n",
       "      <td>943 2nd St, Atlanta, GA 30301</td>\n",
       "      <td>January</td>\n",
       "    </tr>\n",
       "  </tbody>\n",
       "</table>\n",
       "</div>"
      ],
      "text/plain": [
       "                    Order ID                   Product  Quantity Ordered  \\\n",
       "Order Date                                                                 \n",
       "2019-01-01 03:07:00   147268          Wired Headphones                 1   \n",
       "2019-01-01 03:40:00   148041      USB-C Charging Cable                 1   \n",
       "2019-01-01 04:56:00   149343  Apple Airpods Headphones                 1   \n",
       "2019-01-01 05:53:00   149964    AAA Batteries (4-pack)                 1   \n",
       "2019-01-01 06:03:00   149350      USB-C Charging Cable                 2   \n",
       "\n",
       "                     Price Each                        Purchase Address  \\\n",
       "Order Date                                                                \n",
       "2019-01-01 03:07:00       11.99      9 Lake St, New York City, NY 10001   \n",
       "2019-01-01 03:40:00       11.95  760 Church St, San Francisco, CA 94016   \n",
       "2019-01-01 04:56:00      150.00     735 5th St, New York City, NY 10001   \n",
       "2019-01-01 05:53:00        2.99         75 Jackson St, Dallas, TX 75001   \n",
       "2019-01-01 06:03:00       11.95           943 2nd St, Atlanta, GA 30301   \n",
       "\n",
       "                       Month  \n",
       "Order Date                    \n",
       "2019-01-01 03:07:00  January  \n",
       "2019-01-01 03:40:00  January  \n",
       "2019-01-01 04:56:00  January  \n",
       "2019-01-01 05:53:00  January  \n",
       "2019-01-01 06:03:00  January  "
      ]
     },
     "execution_count": 77,
     "metadata": {},
     "output_type": "execute_result"
    }
   ],
   "source": [
    "df_clean.head()"
   ]
  },
  {
   "cell_type": "code",
   "execution_count": 78,
   "metadata": {
    "id": "ZZZ45FWPwl6C"
   },
   "outputs": [],
   "source": [
    "df_clean['chiffre_daffaire'] = df_clean['Quantity Ordered'] * df_clean['Price Each']"
   ]
  },
  {
   "cell_type": "code",
   "execution_count": 79,
   "metadata": {
    "colab": {
     "base_uri": "https://localhost:8080/",
     "height": 354
    },
    "id": "yntUqZGDw12s",
    "outputId": "285b2795-4c1e-4759-a3fe-9b4333a8ad1b"
   },
   "outputs": [
    {
     "data": {
      "text/html": [
       "<div>\n",
       "<style scoped>\n",
       "    .dataframe tbody tr th:only-of-type {\n",
       "        vertical-align: middle;\n",
       "    }\n",
       "\n",
       "    .dataframe tbody tr th {\n",
       "        vertical-align: top;\n",
       "    }\n",
       "\n",
       "    .dataframe thead th {\n",
       "        text-align: right;\n",
       "    }\n",
       "</style>\n",
       "<table border=\"1\" class=\"dataframe\">\n",
       "  <thead>\n",
       "    <tr style=\"text-align: right;\">\n",
       "      <th></th>\n",
       "      <th>Order ID</th>\n",
       "      <th>Product</th>\n",
       "      <th>Quantity Ordered</th>\n",
       "      <th>Price Each</th>\n",
       "      <th>Purchase Address</th>\n",
       "      <th>Month</th>\n",
       "      <th>chiffre_daffaire</th>\n",
       "    </tr>\n",
       "    <tr>\n",
       "      <th>Order Date</th>\n",
       "      <th></th>\n",
       "      <th></th>\n",
       "      <th></th>\n",
       "      <th></th>\n",
       "      <th></th>\n",
       "      <th></th>\n",
       "      <th></th>\n",
       "    </tr>\n",
       "  </thead>\n",
       "  <tbody>\n",
       "    <tr>\n",
       "      <th>2019-04-12 11:11:00</th>\n",
       "      <td>186756</td>\n",
       "      <td>AA Batteries (4-pack)</td>\n",
       "      <td>2</td>\n",
       "      <td>3.84</td>\n",
       "      <td>452 2nd St, Los Angeles, CA 90001</td>\n",
       "      <td>April</td>\n",
       "      <td>7.68</td>\n",
       "    </tr>\n",
       "    <tr>\n",
       "      <th>2019-03-24 12:33:00</th>\n",
       "      <td>169133</td>\n",
       "      <td>AAA Batteries (4-pack)</td>\n",
       "      <td>1</td>\n",
       "      <td>2.99</td>\n",
       "      <td>66 North St, Seattle, WA 98101</td>\n",
       "      <td>March</td>\n",
       "      <td>2.99</td>\n",
       "    </tr>\n",
       "    <tr>\n",
       "      <th>2019-08-28 22:59:00</th>\n",
       "      <td>237794</td>\n",
       "      <td>Lightning Charging Cable</td>\n",
       "      <td>1</td>\n",
       "      <td>14.95</td>\n",
       "      <td>461 West St, San Francisco, CA 94016</td>\n",
       "      <td>August</td>\n",
       "      <td>14.95</td>\n",
       "    </tr>\n",
       "    <tr>\n",
       "      <th>2019-05-31 19:14:00</th>\n",
       "      <td>203546</td>\n",
       "      <td>AA Batteries (4-pack)</td>\n",
       "      <td>1</td>\n",
       "      <td>3.84</td>\n",
       "      <td>558 West St, Seattle, WA 98101</td>\n",
       "      <td>May</td>\n",
       "      <td>3.84</td>\n",
       "    </tr>\n",
       "    <tr>\n",
       "      <th>2019-10-24 10:28:00</th>\n",
       "      <td>273836</td>\n",
       "      <td>iPhone</td>\n",
       "      <td>1</td>\n",
       "      <td>700.00</td>\n",
       "      <td>160 Center St, San Francisco, CA 94016</td>\n",
       "      <td>October</td>\n",
       "      <td>700.00</td>\n",
       "    </tr>\n",
       "  </tbody>\n",
       "</table>\n",
       "</div>"
      ],
      "text/plain": [
       "                    Order ID                   Product  Quantity Ordered  \\\n",
       "Order Date                                                                 \n",
       "2019-04-12 11:11:00   186756     AA Batteries (4-pack)                 2   \n",
       "2019-03-24 12:33:00   169133    AAA Batteries (4-pack)                 1   \n",
       "2019-08-28 22:59:00   237794  Lightning Charging Cable                 1   \n",
       "2019-05-31 19:14:00   203546     AA Batteries (4-pack)                 1   \n",
       "2019-10-24 10:28:00   273836                    iPhone                 1   \n",
       "\n",
       "                     Price Each                        Purchase Address  \\\n",
       "Order Date                                                                \n",
       "2019-04-12 11:11:00        3.84       452 2nd St, Los Angeles, CA 90001   \n",
       "2019-03-24 12:33:00        2.99          66 North St, Seattle, WA 98101   \n",
       "2019-08-28 22:59:00       14.95    461 West St, San Francisco, CA 94016   \n",
       "2019-05-31 19:14:00        3.84          558 West St, Seattle, WA 98101   \n",
       "2019-10-24 10:28:00      700.00  160 Center St, San Francisco, CA 94016   \n",
       "\n",
       "                       Month  chiffre_daffaire  \n",
       "Order Date                                      \n",
       "2019-04-12 11:11:00    April              7.68  \n",
       "2019-03-24 12:33:00    March              2.99  \n",
       "2019-08-28 22:59:00   August             14.95  \n",
       "2019-05-31 19:14:00      May              3.84  \n",
       "2019-10-24 10:28:00  October            700.00  "
      ]
     },
     "execution_count": 79,
     "metadata": {},
     "output_type": "execute_result"
    }
   ],
   "source": [
    "df_clean.sample(5)"
   ]
  },
  {
   "cell_type": "code",
   "execution_count": 80,
   "metadata": {
    "colab": {
     "base_uri": "https://localhost:8080/"
    },
    "id": "s1jfUE5-vy37",
    "outputId": "25166a89-9bad-4fce-86e4-4957310bc3f1"
   },
   "outputs": [
    {
     "data": {
      "text/plain": [
       "Month\n",
       "December     4.557905e+06\n",
       "October      3.679254e+06\n",
       "April        3.336376e+06\n",
       "November     3.149785e+06\n",
       "May          3.101881e+06\n",
       "March        2.755969e+06\n",
       "July         2.587445e+06\n",
       "June         2.524465e+06\n",
       "August       2.191698e+06\n",
       "February     2.158127e+06\n",
       "September    2.050361e+06\n",
       "January      1.786511e+06\n",
       "Name: chiffre_daffaire, dtype: float64"
      ]
     },
     "execution_count": 80,
     "metadata": {},
     "output_type": "execute_result"
    }
   ],
   "source": [
    "df_clean.groupby('Month')[\"chiffre_daffaire\"].sum().sort_values(ascending=False)"
   ]
  },
  {
   "cell_type": "code",
   "execution_count": 81,
   "metadata": {},
   "outputs": [],
   "source": [
    "order = [\"January\", \"February\", \"March\", \"April\", \"May\", \"June\", \"July\", \"August\",\n",
    "                  \"September\", \"October\", \"November\", \"December\"]"
   ]
  },
  {
   "cell_type": "code",
   "execution_count": 82,
   "metadata": {},
   "outputs": [
    {
     "data": {
      "text/plain": [
       "Month\n",
       "January      1.786511e+06\n",
       "February     2.158127e+06\n",
       "March        2.755969e+06\n",
       "April        3.336376e+06\n",
       "May          3.101881e+06\n",
       "June         2.524465e+06\n",
       "July         2.587445e+06\n",
       "August       2.191698e+06\n",
       "September    2.050361e+06\n",
       "October      3.679254e+06\n",
       "November     3.149785e+06\n",
       "December     4.557905e+06\n",
       "Name: chiffre_daffaire, dtype: float64"
      ]
     },
     "execution_count": 82,
     "metadata": {},
     "output_type": "execute_result"
    }
   ],
   "source": [
    "df_clean.groupby('Month')[\"chiffre_daffaire\"].sum().loc[order]"
   ]
  },
  {
   "cell_type": "code",
   "execution_count": 83,
   "metadata": {},
   "outputs": [
    {
     "data": {
      "text/plain": [
       "Text(0.5, 1.0, \"Chiffre d'affaire global par mois\")"
      ]
     },
     "execution_count": 83,
     "metadata": {},
     "output_type": "execute_result"
    },
    {
     "data": {
      "image/png": "[encoded data removed]",
      "text/plain": [
       "<Figure size 720x576 with 1 Axes>"
      ]
     },
     "metadata": {
      "needs_background": "light"
     },
     "output_type": "display_data"
    }
   ],
   "source": [
    "df_clean.groupby('Month')[\"chiffre_daffaire\"].sum().loc[order].plot.bar(figsize=(10, 8))\n",
    "plt.title(\"Chiffre d'affaire global par mois\")"
   ]
  },
  {
   "cell_type": "code",
   "execution_count": 84,
   "metadata": {
    "colab": {
     "base_uri": "https://localhost:8080/"
    },
    "id": "YkBCfY-5stZP",
    "outputId": "c1dc27f0-dfc4-4e06-825c-948084bca87f"
   },
   "outputs": [
    {
     "data": {
      "text/plain": [
       "4557905.420001525"
      ]
     },
     "execution_count": 84,
     "metadata": {},
     "output_type": "execute_result"
    }
   ],
   "source": [
    "df_clean.groupby('Month').sum()[\"chiffre_daffaire\"].sort_values(ascending=False).December"
   ]
  },
  {
   "cell_type": "markdown",
   "metadata": {
    "id": "iLAoa3s1xKF3"
   },
   "source": [
    "Décembre est le mois avec le plus de ventes et le CA est de 4557905.420001525"
   ]
  },
  {
   "cell_type": "markdown",
   "metadata": {
    "id": "WrMLrbSRxWti"
   },
   "source": [
    "## La ville le produits le plus vendu"
   ]
  },
  {
   "cell_type": "code",
   "execution_count": 85,
   "metadata": {
    "colab": {
     "base_uri": "https://localhost:8080/"
    },
    "id": "QdOwNQtasuXD",
    "outputId": "3798a34b-db62-4858-caad-1c88e0f25d9b"
   },
   "outputs": [
    {
     "data": {
      "text/plain": [
       "array(['9 Lake St, New York City, NY 10001',\n",
       "       '760 Church St, San Francisco, CA 94016',\n",
       "       '735 5th St, New York City, NY 10001', ...,\n",
       "       '731 7th St, New York City, NY 10001',\n",
       "       '754 Hickory St, New York City, NY 10001',\n",
       "       '657 Spruce St, New York City, NY 10001'], dtype=object)"
      ]
     },
     "execution_count": 85,
     "metadata": {},
     "output_type": "execute_result"
    }
   ],
   "source": [
    "df_clean['Purchase Address'].unique()"
   ]
  },
  {
   "cell_type": "code",
   "execution_count": 86,
   "metadata": {
    "id": "CN73Q-zjyjix"
   },
   "outputs": [],
   "source": [
    "def get_ville(addresse):\n",
    "  return addresse.split(',')[1].strip()"
   ]
  },
  {
   "cell_type": "code",
   "execution_count": 87,
   "metadata": {
    "colab": {
     "base_uri": "https://localhost:8080/",
     "height": 35
    },
    "id": "uiXl1Q6BzB0S",
    "outputId": "2a9fd8de-c649-4eff-c48e-99e9b08e3d1e"
   },
   "outputs": [
    {
     "data": {
      "text/plain": [
       "'python'"
      ]
     },
     "execution_count": 87,
     "metadata": {},
     "output_type": "execute_result"
    }
   ],
   "source": [
    "\"        python        \".strip()"
   ]
  },
  {
   "cell_type": "code",
   "execution_count": 88,
   "metadata": {
    "colab": {
     "base_uri": "https://localhost:8080/",
     "height": 35
    },
    "id": "9bX_0hjyyuHB",
    "outputId": "cdc00165-d9fe-49ac-b250-b3f218bddd1a"
   },
   "outputs": [
    {
     "data": {
      "text/plain": [
       "'San Francisco'"
      ]
     },
     "execution_count": 88,
     "metadata": {},
     "output_type": "execute_result"
    }
   ],
   "source": [
    "get_ville(\"760 Church St, San Francisco, CA 94016\")"
   ]
  },
  {
   "cell_type": "code",
   "execution_count": 89,
   "metadata": {
    "id": "l8mIGHUCxrTB"
   },
   "outputs": [],
   "source": [
    "df_clean['ville'] = df_clean['Purchase Address'].apply(get_ville)"
   ]
  },
  {
   "cell_type": "code",
   "execution_count": 90,
   "metadata": {
    "colab": {
     "base_uri": "https://localhost:8080/",
     "height": 406
    },
    "id": "I9KOLVviyY9n",
    "outputId": "7f8c4b2e-94fd-4ccb-b72d-42812ebf79d2"
   },
   "outputs": [
    {
     "data": {
      "text/html": [
       "<div>\n",
       "<style scoped>\n",
       "    .dataframe tbody tr th:only-of-type {\n",
       "        vertical-align: middle;\n",
       "    }\n",
       "\n",
       "    .dataframe tbody tr th {\n",
       "        vertical-align: top;\n",
       "    }\n",
       "\n",
       "    .dataframe thead th {\n",
       "        text-align: right;\n",
       "    }\n",
       "</style>\n",
       "<table border=\"1\" class=\"dataframe\">\n",
       "  <thead>\n",
       "    <tr style=\"text-align: right;\">\n",
       "      <th></th>\n",
       "      <th>Order ID</th>\n",
       "      <th>Product</th>\n",
       "      <th>Quantity Ordered</th>\n",
       "      <th>Price Each</th>\n",
       "      <th>Purchase Address</th>\n",
       "      <th>Month</th>\n",
       "      <th>chiffre_daffaire</th>\n",
       "      <th>ville</th>\n",
       "    </tr>\n",
       "    <tr>\n",
       "      <th>Order Date</th>\n",
       "      <th></th>\n",
       "      <th></th>\n",
       "      <th></th>\n",
       "      <th></th>\n",
       "      <th></th>\n",
       "      <th></th>\n",
       "      <th></th>\n",
       "      <th></th>\n",
       "    </tr>\n",
       "  </thead>\n",
       "  <tbody>\n",
       "    <tr>\n",
       "      <th>2019-10-26 19:14:00</th>\n",
       "      <td>271621</td>\n",
       "      <td>Lightning Charging Cable</td>\n",
       "      <td>1</td>\n",
       "      <td>14.95</td>\n",
       "      <td>134 Meadow St, Boston, MA 02215</td>\n",
       "      <td>October</td>\n",
       "      <td>14.95</td>\n",
       "      <td>Boston</td>\n",
       "    </tr>\n",
       "    <tr>\n",
       "      <th>2019-11-08 14:34:00</th>\n",
       "      <td>289086</td>\n",
       "      <td>USB-C Charging Cable</td>\n",
       "      <td>1</td>\n",
       "      <td>11.95</td>\n",
       "      <td>811 10th St, Portland, OR 97035</td>\n",
       "      <td>November</td>\n",
       "      <td>11.95</td>\n",
       "      <td>Portland</td>\n",
       "    </tr>\n",
       "    <tr>\n",
       "      <th>2019-12-01 14:56:00</th>\n",
       "      <td>297179</td>\n",
       "      <td>USB-C Charging Cable</td>\n",
       "      <td>1</td>\n",
       "      <td>11.95</td>\n",
       "      <td>647 Wilson St, Seattle, WA 98101</td>\n",
       "      <td>December</td>\n",
       "      <td>11.95</td>\n",
       "      <td>Seattle</td>\n",
       "    </tr>\n",
       "    <tr>\n",
       "      <th>2019-01-02 16:55:00</th>\n",
       "      <td>145369</td>\n",
       "      <td>AAA Batteries (4-pack)</td>\n",
       "      <td>1</td>\n",
       "      <td>2.99</td>\n",
       "      <td>70 7th St, Dallas, TX 75001</td>\n",
       "      <td>January</td>\n",
       "      <td>2.99</td>\n",
       "      <td>Dallas</td>\n",
       "    </tr>\n",
       "    <tr>\n",
       "      <th>2019-12-20 15:12:00</th>\n",
       "      <td>300899</td>\n",
       "      <td>Wired Headphones</td>\n",
       "      <td>1</td>\n",
       "      <td>11.99</td>\n",
       "      <td>628 10th St, Dallas, TX 75001</td>\n",
       "      <td>December</td>\n",
       "      <td>11.99</td>\n",
       "      <td>Dallas</td>\n",
       "    </tr>\n",
       "  </tbody>\n",
       "</table>\n",
       "</div>"
      ],
      "text/plain": [
       "                    Order ID                   Product  Quantity Ordered  \\\n",
       "Order Date                                                                 \n",
       "2019-10-26 19:14:00   271621  Lightning Charging Cable                 1   \n",
       "2019-11-08 14:34:00   289086      USB-C Charging Cable                 1   \n",
       "2019-12-01 14:56:00   297179      USB-C Charging Cable                 1   \n",
       "2019-01-02 16:55:00   145369    AAA Batteries (4-pack)                 1   \n",
       "2019-12-20 15:12:00   300899          Wired Headphones                 1   \n",
       "\n",
       "                     Price Each                  Purchase Address     Month  \\\n",
       "Order Date                                                                    \n",
       "2019-10-26 19:14:00       14.95   134 Meadow St, Boston, MA 02215   October   \n",
       "2019-11-08 14:34:00       11.95   811 10th St, Portland, OR 97035  November   \n",
       "2019-12-01 14:56:00       11.95  647 Wilson St, Seattle, WA 98101  December   \n",
       "2019-01-02 16:55:00        2.99       70 7th St, Dallas, TX 75001   January   \n",
       "2019-12-20 15:12:00       11.99     628 10th St, Dallas, TX 75001  December   \n",
       "\n",
       "                     chiffre_daffaire     ville  \n",
       "Order Date                                       \n",
       "2019-10-26 19:14:00             14.95    Boston  \n",
       "2019-11-08 14:34:00             11.95  Portland  \n",
       "2019-12-01 14:56:00             11.95   Seattle  \n",
       "2019-01-02 16:55:00              2.99    Dallas  \n",
       "2019-12-20 15:12:00             11.99    Dallas  "
      ]
     },
     "execution_count": 90,
     "metadata": {},
     "output_type": "execute_result"
    }
   ],
   "source": [
    "df_clean.sample(5)"
   ]
  },
  {
   "cell_type": "code",
   "execution_count": 91,
   "metadata": {
    "colab": {
     "base_uri": "https://localhost:8080/"
    },
    "id": "05Cct63gzb68",
    "outputId": "94f4c19c-b4f7-495b-ef37-380560109912"
   },
   "outputs": [
    {
     "data": {
      "text/plain": [
       "array(['New York City', 'San Francisco', 'Dallas', 'Atlanta', 'Boston',\n",
       "       'Seattle', 'Los Angeles', 'Portland', 'Austin'], dtype=object)"
      ]
     },
     "execution_count": 91,
     "metadata": {},
     "output_type": "execute_result"
    }
   ],
   "source": [
    "df_clean['ville'].unique()"
   ]
  },
  {
   "cell_type": "code",
   "execution_count": 92,
   "metadata": {
    "colab": {
     "base_uri": "https://localhost:8080/"
    },
    "id": "lbsRQaUczjBx",
    "outputId": "6f798d7b-4e8c-4e3b-e850-215f425fd517"
   },
   "outputs": [
    {
     "data": {
      "text/plain": [
       "ville\n",
       "San Francisco    8.124121e+06\n",
       "Los Angeles      5.354040e+06\n",
       "New York City    4.581659e+06\n",
       "Boston           3.604081e+06\n",
       "Atlanta          2.741642e+06\n",
       "Dallas           2.717794e+06\n",
       "Seattle          2.693049e+06\n",
       "Portland         2.276649e+06\n",
       "Austin           1.786746e+06\n",
       "Name: chiffre_daffaire, dtype: float64"
      ]
     },
     "execution_count": 92,
     "metadata": {},
     "output_type": "execute_result"
    }
   ],
   "source": [
    "df_clean.groupby('ville').sum()[\"chiffre_daffaire\"].sort_values(ascending=False)"
   ]
  },
  {
   "cell_type": "code",
   "execution_count": 93,
   "metadata": {},
   "outputs": [
    {
     "data": {
      "text/plain": [
       "<AxesSubplot:ylabel='ville'>"
      ]
     },
     "execution_count": 93,
     "metadata": {},
     "output_type": "execute_result"
    },
    {
     "data": {
      "image/png": "[encoded data removed]",
      "text/plain": [
       "<Figure size 720x576 with 1 Axes>"
      ]
     },
     "metadata": {
      "needs_background": "light"
     },
     "output_type": "display_data"
    }
   ],
   "source": [
    "df_clean.groupby('ville').sum()[\"chiffre_daffaire\"].sort_values(ascending=False).plot.barh(figsize=(10, 8))"
   ]
  },
  {
   "cell_type": "markdown",
   "metadata": {
    "id": "LNiDb5xz0dJR"
   },
   "source": [
    "On a fait un meilleur chiffre d'affaire à San Francisco"
   ]
  },
  {
   "cell_type": "code",
   "execution_count": 94,
   "metadata": {
    "id": "IPyBjQW40SZS"
   },
   "outputs": [],
   "source": [
    "ca_by_ville = df_clean.groupby('ville').sum()[\"chiffre_daffaire\"].sort_values(ascending=False)"
   ]
  },
  {
   "cell_type": "code",
   "execution_count": 95,
   "metadata": {
    "colab": {
     "base_uri": "https://localhost:8080/",
     "height": 463
    },
    "id": "7rVZ-ThA0wbD",
    "outputId": "ec581ca1-43ef-4435-b46b-d9363d21d0e4"
   },
   "outputs": [
    {
     "data": {
      "image/png": "[encoded data removed]",
      "text/plain": [
       "<Figure size 576x432 with 1 Axes>"
      ]
     },
     "metadata": {
      "needs_background": "light"
     },
     "output_type": "display_data"
    }
   ],
   "source": [
    "ca_by_ville.plot(kind='bar', figsize=(8, 6))\n",
    "plt.ylabel('Chiffre daffaire en Millions de dollars')\n",
    "plt.title('Chiffre daffaire par Ville')\n",
    "plt.show()"
   ]
  },
  {
   "cell_type": "markdown",
   "metadata": {
    "id": "L3ZQhuR61dJ9"
   },
   "source": [
    "## Etude des heure de publicité pour augmenter les ventes"
   ]
  },
  {
   "cell_type": "markdown",
   "metadata": {
    "id": "hU-uHCRv182C"
   },
   "source": [
    "A quelle heure on vend le plus ?"
   ]
  },
  {
   "cell_type": "code",
   "execution_count": 96,
   "metadata": {
    "id": "zLlE6Z-m06RZ"
   },
   "outputs": [],
   "source": [
    "df_clean['heure'] = df_clean.index.hour\n",
    "df_clean['time'] = df_clean.index.time"
   ]
  },
  {
   "cell_type": "code",
   "execution_count": 97,
   "metadata": {
    "colab": {
     "base_uri": "https://localhost:8080/",
     "height": 547
    },
    "id": "x5F6Buln2HV-",
    "outputId": "7b563da8-c2e8-4954-9f8b-2fdd345a7b3b",
    "scrolled": true
   },
   "outputs": [
    {
     "data": {
      "text/html": [
       "<div>\n",
       "<style scoped>\n",
       "    .dataframe tbody tr th:only-of-type {\n",
       "        vertical-align: middle;\n",
       "    }\n",
       "\n",
       "    .dataframe tbody tr th {\n",
       "        vertical-align: top;\n",
       "    }\n",
       "\n",
       "    .dataframe thead th {\n",
       "        text-align: right;\n",
       "    }\n",
       "</style>\n",
       "<table border=\"1\" class=\"dataframe\">\n",
       "  <thead>\n",
       "    <tr style=\"text-align: right;\">\n",
       "      <th></th>\n",
       "      <th>Order ID</th>\n",
       "      <th>Product</th>\n",
       "      <th>Quantity Ordered</th>\n",
       "      <th>Price Each</th>\n",
       "      <th>Purchase Address</th>\n",
       "      <th>Month</th>\n",
       "      <th>chiffre_daffaire</th>\n",
       "      <th>ville</th>\n",
       "      <th>heure</th>\n",
       "      <th>time</th>\n",
       "    </tr>\n",
       "    <tr>\n",
       "      <th>Order Date</th>\n",
       "      <th></th>\n",
       "      <th></th>\n",
       "      <th></th>\n",
       "      <th></th>\n",
       "      <th></th>\n",
       "      <th></th>\n",
       "      <th></th>\n",
       "      <th></th>\n",
       "      <th></th>\n",
       "      <th></th>\n",
       "    </tr>\n",
       "  </thead>\n",
       "  <tbody>\n",
       "    <tr>\n",
       "      <th>2019-01-01 03:07:00</th>\n",
       "      <td>147268</td>\n",
       "      <td>Wired Headphones</td>\n",
       "      <td>1</td>\n",
       "      <td>11.99</td>\n",
       "      <td>9 Lake St, New York City, NY 10001</td>\n",
       "      <td>January</td>\n",
       "      <td>11.99</td>\n",
       "      <td>New York City</td>\n",
       "      <td>3</td>\n",
       "      <td>03:07:00</td>\n",
       "    </tr>\n",
       "    <tr>\n",
       "      <th>2019-01-01 03:40:00</th>\n",
       "      <td>148041</td>\n",
       "      <td>USB-C Charging Cable</td>\n",
       "      <td>1</td>\n",
       "      <td>11.95</td>\n",
       "      <td>760 Church St, San Francisco, CA 94016</td>\n",
       "      <td>January</td>\n",
       "      <td>11.95</td>\n",
       "      <td>San Francisco</td>\n",
       "      <td>3</td>\n",
       "      <td>03:40:00</td>\n",
       "    </tr>\n",
       "    <tr>\n",
       "      <th>2019-01-01 04:56:00</th>\n",
       "      <td>149343</td>\n",
       "      <td>Apple Airpods Headphones</td>\n",
       "      <td>1</td>\n",
       "      <td>150.00</td>\n",
       "      <td>735 5th St, New York City, NY 10001</td>\n",
       "      <td>January</td>\n",
       "      <td>150.00</td>\n",
       "      <td>New York City</td>\n",
       "      <td>4</td>\n",
       "      <td>04:56:00</td>\n",
       "    </tr>\n",
       "    <tr>\n",
       "      <th>2019-01-01 05:53:00</th>\n",
       "      <td>149964</td>\n",
       "      <td>AAA Batteries (4-pack)</td>\n",
       "      <td>1</td>\n",
       "      <td>2.99</td>\n",
       "      <td>75 Jackson St, Dallas, TX 75001</td>\n",
       "      <td>January</td>\n",
       "      <td>2.99</td>\n",
       "      <td>Dallas</td>\n",
       "      <td>5</td>\n",
       "      <td>05:53:00</td>\n",
       "    </tr>\n",
       "    <tr>\n",
       "      <th>2019-01-01 06:03:00</th>\n",
       "      <td>149350</td>\n",
       "      <td>USB-C Charging Cable</td>\n",
       "      <td>2</td>\n",
       "      <td>11.95</td>\n",
       "      <td>943 2nd St, Atlanta, GA 30301</td>\n",
       "      <td>January</td>\n",
       "      <td>23.90</td>\n",
       "      <td>Atlanta</td>\n",
       "      <td>6</td>\n",
       "      <td>06:03:00</td>\n",
       "    </tr>\n",
       "  </tbody>\n",
       "</table>\n",
       "</div>"
      ],
      "text/plain": [
       "                    Order ID                   Product  Quantity Ordered  \\\n",
       "Order Date                                                                 \n",
       "2019-01-01 03:07:00   147268          Wired Headphones                 1   \n",
       "2019-01-01 03:40:00   148041      USB-C Charging Cable                 1   \n",
       "2019-01-01 04:56:00   149343  Apple Airpods Headphones                 1   \n",
       "2019-01-01 05:53:00   149964    AAA Batteries (4-pack)                 1   \n",
       "2019-01-01 06:03:00   149350      USB-C Charging Cable                 2   \n",
       "\n",
       "                     Price Each                        Purchase Address  \\\n",
       "Order Date                                                                \n",
       "2019-01-01 03:07:00       11.99      9 Lake St, New York City, NY 10001   \n",
       "2019-01-01 03:40:00       11.95  760 Church St, San Francisco, CA 94016   \n",
       "2019-01-01 04:56:00      150.00     735 5th St, New York City, NY 10001   \n",
       "2019-01-01 05:53:00        2.99         75 Jackson St, Dallas, TX 75001   \n",
       "2019-01-01 06:03:00       11.95           943 2nd St, Atlanta, GA 30301   \n",
       "\n",
       "                       Month  chiffre_daffaire          ville  heure      time  \n",
       "Order Date                                                                      \n",
       "2019-01-01 03:07:00  January             11.99  New York City      3  03:07:00  \n",
       "2019-01-01 03:40:00  January             11.95  San Francisco      3  03:40:00  \n",
       "2019-01-01 04:56:00  January            150.00  New York City      4  04:56:00  \n",
       "2019-01-01 05:53:00  January              2.99         Dallas      5  05:53:00  \n",
       "2019-01-01 06:03:00  January             23.90        Atlanta      6  06:03:00  "
      ]
     },
     "execution_count": 97,
     "metadata": {},
     "output_type": "execute_result"
    }
   ],
   "source": [
    "df_clean.head()"
   ]
  },
  {
   "cell_type": "code",
   "execution_count": 98,
   "metadata": {
    "colab": {
     "base_uri": "https://localhost:8080/"
    },
    "id": "fPncQ-gc2kNx",
    "outputId": "fefeafa5-6415-4ef7-ed0a-12445878d0be"
   },
   "outputs": [
    {
     "data": {
      "text/plain": [
       "heure\n",
       "19    2370005.59\n",
       "12    2269676.91\n",
       "11    2267169.73\n",
       "20    2242856.37\n",
       "18    2176209.65\n",
       "13    2118394.83\n",
       "17    2086082.23\n",
       "14    2045085.42\n",
       "21    2013288.02\n",
       "10    1907179.29\n",
       "15    1900151.56\n",
       "16    1864530.92\n",
       "9     1612498.90\n",
       "22    1578173.21\n",
       "8     1181363.76\n",
       "23    1161803.96\n",
       "7      734595.75\n",
       "0      698694.76\n",
       "1      447663.86\n",
       "6      441523.14\n",
       "2      234191.08\n",
       "5      224313.72\n",
       "4      161350.57\n",
       "3      142976.54\n",
       "Name: chiffre_daffaire, dtype: float64"
      ]
     },
     "execution_count": 98,
     "metadata": {},
     "output_type": "execute_result"
    }
   ],
   "source": [
    "df_clean.groupby('heure')['chiffre_daffaire'].sum().sort_values(ascending=False)"
   ]
  },
  {
   "cell_type": "code",
   "execution_count": 99,
   "metadata": {
    "id": "BJK4a4q55hI6"
   },
   "outputs": [],
   "source": [
    "ca_par_heure = pd.DataFrame(df_clean.groupby('heure')['chiffre_daffaire'].sum())"
   ]
  },
  {
   "cell_type": "code",
   "execution_count": 100,
   "metadata": {
    "colab": {
     "base_uri": "https://localhost:8080/",
     "height": 815
    },
    "id": "Avxm6OHH7P4G",
    "outputId": "ee21f7d3-fd7e-4012-9418-f787fd938eff"
   },
   "outputs": [
    {
     "data": {
      "text/html": [
       "<div>\n",
       "<style scoped>\n",
       "    .dataframe tbody tr th:only-of-type {\n",
       "        vertical-align: middle;\n",
       "    }\n",
       "\n",
       "    .dataframe tbody tr th {\n",
       "        vertical-align: top;\n",
       "    }\n",
       "\n",
       "    .dataframe thead th {\n",
       "        text-align: right;\n",
       "    }\n",
       "</style>\n",
       "<table border=\"1\" class=\"dataframe\">\n",
       "  <thead>\n",
       "    <tr style=\"text-align: right;\">\n",
       "      <th></th>\n",
       "      <th>chiffre_daffaire</th>\n",
       "    </tr>\n",
       "    <tr>\n",
       "      <th>heure</th>\n",
       "      <th></th>\n",
       "    </tr>\n",
       "  </thead>\n",
       "  <tbody>\n",
       "    <tr>\n",
       "      <th>0</th>\n",
       "      <td>698694.76</td>\n",
       "    </tr>\n",
       "    <tr>\n",
       "      <th>1</th>\n",
       "      <td>447663.86</td>\n",
       "    </tr>\n",
       "    <tr>\n",
       "      <th>2</th>\n",
       "      <td>234191.08</td>\n",
       "    </tr>\n",
       "    <tr>\n",
       "      <th>3</th>\n",
       "      <td>142976.54</td>\n",
       "    </tr>\n",
       "    <tr>\n",
       "      <th>4</th>\n",
       "      <td>161350.57</td>\n",
       "    </tr>\n",
       "    <tr>\n",
       "      <th>5</th>\n",
       "      <td>224313.72</td>\n",
       "    </tr>\n",
       "    <tr>\n",
       "      <th>6</th>\n",
       "      <td>441523.14</td>\n",
       "    </tr>\n",
       "    <tr>\n",
       "      <th>7</th>\n",
       "      <td>734595.75</td>\n",
       "    </tr>\n",
       "    <tr>\n",
       "      <th>8</th>\n",
       "      <td>1181363.76</td>\n",
       "    </tr>\n",
       "    <tr>\n",
       "      <th>9</th>\n",
       "      <td>1612498.90</td>\n",
       "    </tr>\n",
       "    <tr>\n",
       "      <th>10</th>\n",
       "      <td>1907179.29</td>\n",
       "    </tr>\n",
       "    <tr>\n",
       "      <th>11</th>\n",
       "      <td>2267169.73</td>\n",
       "    </tr>\n",
       "    <tr>\n",
       "      <th>12</th>\n",
       "      <td>2269676.91</td>\n",
       "    </tr>\n",
       "    <tr>\n",
       "      <th>13</th>\n",
       "      <td>2118394.83</td>\n",
       "    </tr>\n",
       "    <tr>\n",
       "      <th>14</th>\n",
       "      <td>2045085.42</td>\n",
       "    </tr>\n",
       "    <tr>\n",
       "      <th>15</th>\n",
       "      <td>1900151.56</td>\n",
       "    </tr>\n",
       "    <tr>\n",
       "      <th>16</th>\n",
       "      <td>1864530.92</td>\n",
       "    </tr>\n",
       "    <tr>\n",
       "      <th>17</th>\n",
       "      <td>2086082.23</td>\n",
       "    </tr>\n",
       "    <tr>\n",
       "      <th>18</th>\n",
       "      <td>2176209.65</td>\n",
       "    </tr>\n",
       "    <tr>\n",
       "      <th>19</th>\n",
       "      <td>2370005.59</td>\n",
       "    </tr>\n",
       "    <tr>\n",
       "      <th>20</th>\n",
       "      <td>2242856.37</td>\n",
       "    </tr>\n",
       "    <tr>\n",
       "      <th>21</th>\n",
       "      <td>2013288.02</td>\n",
       "    </tr>\n",
       "    <tr>\n",
       "      <th>22</th>\n",
       "      <td>1578173.21</td>\n",
       "    </tr>\n",
       "    <tr>\n",
       "      <th>23</th>\n",
       "      <td>1161803.96</td>\n",
       "    </tr>\n",
       "  </tbody>\n",
       "</table>\n",
       "</div>"
      ],
      "text/plain": [
       "       chiffre_daffaire\n",
       "heure                  \n",
       "0             698694.76\n",
       "1             447663.86\n",
       "2             234191.08\n",
       "3             142976.54\n",
       "4             161350.57\n",
       "5             224313.72\n",
       "6             441523.14\n",
       "7             734595.75\n",
       "8            1181363.76\n",
       "9            1612498.90\n",
       "10           1907179.29\n",
       "11           2267169.73\n",
       "12           2269676.91\n",
       "13           2118394.83\n",
       "14           2045085.42\n",
       "15           1900151.56\n",
       "16           1864530.92\n",
       "17           2086082.23\n",
       "18           2176209.65\n",
       "19           2370005.59\n",
       "20           2242856.37\n",
       "21           2013288.02\n",
       "22           1578173.21\n",
       "23           1161803.96"
      ]
     },
     "execution_count": 100,
     "metadata": {},
     "output_type": "execute_result"
    }
   ],
   "source": [
    "ca_par_heure"
   ]
  },
  {
   "cell_type": "code",
   "execution_count": 101,
   "metadata": {
    "colab": {
     "base_uri": "https://localhost:8080/",
     "height": 290
    },
    "id": "88uUq6X96lO_",
    "outputId": "24a7a02e-7047-47e8-9699-d17c9145344a",
    "scrolled": true
   },
   "outputs": [
    {
     "data": {
      "image/png": "[encoded data removed]",
      "text/plain": [
       "<Figure size 432x288 with 1 Axes>"
      ]
     },
     "metadata": {
      "needs_background": "light"
     },
     "output_type": "display_data"
    }
   ],
   "source": [
    "sns.lineplot(data=ca_par_heure['chiffre_daffaire'])\n",
    "plt.xticks(ticks=range(0, 24))\n",
    "plt.show()"
   ]
  },
  {
   "cell_type": "markdown",
   "metadata": {
    "id": "9wbU7Rzz70rN"
   },
   "source": [
    "#### On devrait afficher la publicité entre 10 et 11 et entre 18 et 19."
   ]
  },
  {
   "cell_type": "markdown",
   "metadata": {
    "id": "DVF8OXTk8zdH"
   },
   "source": [
    "## Les produits achetés ensemble"
   ]
  },
  {
   "cell_type": "markdown",
   "metadata": {},
   "source": [
    "Les produits vendus ensemble ont le même `Order ID`."
   ]
  },
  {
   "cell_type": "code",
   "execution_count": 102,
   "metadata": {
    "colab": {
     "base_uri": "https://localhost:8080/",
     "height": 547
    },
    "id": "BI4kMGb46Vl-",
    "outputId": "918f1bfe-7c9d-4d11-ec43-c3c25d23d5c8"
   },
   "outputs": [
    {
     "data": {
      "text/html": [
       "<div>\n",
       "<style scoped>\n",
       "    .dataframe tbody tr th:only-of-type {\n",
       "        vertical-align: middle;\n",
       "    }\n",
       "\n",
       "    .dataframe tbody tr th {\n",
       "        vertical-align: top;\n",
       "    }\n",
       "\n",
       "    .dataframe thead th {\n",
       "        text-align: right;\n",
       "    }\n",
       "</style>\n",
       "<table border=\"1\" class=\"dataframe\">\n",
       "  <thead>\n",
       "    <tr style=\"text-align: right;\">\n",
       "      <th></th>\n",
       "      <th>Order ID</th>\n",
       "      <th>Product</th>\n",
       "      <th>Quantity Ordered</th>\n",
       "      <th>Price Each</th>\n",
       "      <th>Purchase Address</th>\n",
       "      <th>Month</th>\n",
       "      <th>chiffre_daffaire</th>\n",
       "      <th>ville</th>\n",
       "      <th>heure</th>\n",
       "      <th>time</th>\n",
       "    </tr>\n",
       "    <tr>\n",
       "      <th>Order Date</th>\n",
       "      <th></th>\n",
       "      <th></th>\n",
       "      <th></th>\n",
       "      <th></th>\n",
       "      <th></th>\n",
       "      <th></th>\n",
       "      <th></th>\n",
       "      <th></th>\n",
       "      <th></th>\n",
       "      <th></th>\n",
       "    </tr>\n",
       "  </thead>\n",
       "  <tbody>\n",
       "    <tr>\n",
       "      <th>2019-01-01 03:07:00</th>\n",
       "      <td>147268</td>\n",
       "      <td>Wired Headphones</td>\n",
       "      <td>1</td>\n",
       "      <td>11.99</td>\n",
       "      <td>9 Lake St, New York City, NY 10001</td>\n",
       "      <td>January</td>\n",
       "      <td>11.99</td>\n",
       "      <td>New York City</td>\n",
       "      <td>3</td>\n",
       "      <td>03:07:00</td>\n",
       "    </tr>\n",
       "    <tr>\n",
       "      <th>2019-01-01 03:40:00</th>\n",
       "      <td>148041</td>\n",
       "      <td>USB-C Charging Cable</td>\n",
       "      <td>1</td>\n",
       "      <td>11.95</td>\n",
       "      <td>760 Church St, San Francisco, CA 94016</td>\n",
       "      <td>January</td>\n",
       "      <td>11.95</td>\n",
       "      <td>San Francisco</td>\n",
       "      <td>3</td>\n",
       "      <td>03:40:00</td>\n",
       "    </tr>\n",
       "    <tr>\n",
       "      <th>2019-01-01 04:56:00</th>\n",
       "      <td>149343</td>\n",
       "      <td>Apple Airpods Headphones</td>\n",
       "      <td>1</td>\n",
       "      <td>150.00</td>\n",
       "      <td>735 5th St, New York City, NY 10001</td>\n",
       "      <td>January</td>\n",
       "      <td>150.00</td>\n",
       "      <td>New York City</td>\n",
       "      <td>4</td>\n",
       "      <td>04:56:00</td>\n",
       "    </tr>\n",
       "    <tr>\n",
       "      <th>2019-01-01 05:53:00</th>\n",
       "      <td>149964</td>\n",
       "      <td>AAA Batteries (4-pack)</td>\n",
       "      <td>1</td>\n",
       "      <td>2.99</td>\n",
       "      <td>75 Jackson St, Dallas, TX 75001</td>\n",
       "      <td>January</td>\n",
       "      <td>2.99</td>\n",
       "      <td>Dallas</td>\n",
       "      <td>5</td>\n",
       "      <td>05:53:00</td>\n",
       "    </tr>\n",
       "    <tr>\n",
       "      <th>2019-01-01 06:03:00</th>\n",
       "      <td>149350</td>\n",
       "      <td>USB-C Charging Cable</td>\n",
       "      <td>2</td>\n",
       "      <td>11.95</td>\n",
       "      <td>943 2nd St, Atlanta, GA 30301</td>\n",
       "      <td>January</td>\n",
       "      <td>23.90</td>\n",
       "      <td>Atlanta</td>\n",
       "      <td>6</td>\n",
       "      <td>06:03:00</td>\n",
       "    </tr>\n",
       "  </tbody>\n",
       "</table>\n",
       "</div>"
      ],
      "text/plain": [
       "                    Order ID                   Product  Quantity Ordered  \\\n",
       "Order Date                                                                 \n",
       "2019-01-01 03:07:00   147268          Wired Headphones                 1   \n",
       "2019-01-01 03:40:00   148041      USB-C Charging Cable                 1   \n",
       "2019-01-01 04:56:00   149343  Apple Airpods Headphones                 1   \n",
       "2019-01-01 05:53:00   149964    AAA Batteries (4-pack)                 1   \n",
       "2019-01-01 06:03:00   149350      USB-C Charging Cable                 2   \n",
       "\n",
       "                     Price Each                        Purchase Address  \\\n",
       "Order Date                                                                \n",
       "2019-01-01 03:07:00       11.99      9 Lake St, New York City, NY 10001   \n",
       "2019-01-01 03:40:00       11.95  760 Church St, San Francisco, CA 94016   \n",
       "2019-01-01 04:56:00      150.00     735 5th St, New York City, NY 10001   \n",
       "2019-01-01 05:53:00        2.99         75 Jackson St, Dallas, TX 75001   \n",
       "2019-01-01 06:03:00       11.95           943 2nd St, Atlanta, GA 30301   \n",
       "\n",
       "                       Month  chiffre_daffaire          ville  heure      time  \n",
       "Order Date                                                                      \n",
       "2019-01-01 03:07:00  January             11.99  New York City      3  03:07:00  \n",
       "2019-01-01 03:40:00  January             11.95  San Francisco      3  03:40:00  \n",
       "2019-01-01 04:56:00  January            150.00  New York City      4  04:56:00  \n",
       "2019-01-01 05:53:00  January              2.99         Dallas      5  05:53:00  \n",
       "2019-01-01 06:03:00  January             23.90        Atlanta      6  06:03:00  "
      ]
     },
     "execution_count": 102,
     "metadata": {},
     "output_type": "execute_result"
    }
   ],
   "source": [
    "df_clean.head()"
   ]
  },
  {
   "cell_type": "markdown",
   "metadata": {},
   "source": [
    "Les ventes avec plus d'un produit : "
   ]
  },
  {
   "cell_type": "code",
   "execution_count": 103,
   "metadata": {},
   "outputs": [
    {
     "data": {
      "text/html": [
       "<div>\n",
       "<style scoped>\n",
       "    .dataframe tbody tr th:only-of-type {\n",
       "        vertical-align: middle;\n",
       "    }\n",
       "\n",
       "    .dataframe tbody tr th {\n",
       "        vertical-align: top;\n",
       "    }\n",
       "\n",
       "    .dataframe thead th {\n",
       "        text-align: right;\n",
       "    }\n",
       "</style>\n",
       "<table border=\"1\" class=\"dataframe\">\n",
       "  <thead>\n",
       "    <tr style=\"text-align: right;\">\n",
       "      <th></th>\n",
       "      <th>Order ID</th>\n",
       "      <th>Product</th>\n",
       "      <th>Quantity Ordered</th>\n",
       "      <th>Price Each</th>\n",
       "      <th>Purchase Address</th>\n",
       "      <th>Month</th>\n",
       "      <th>chiffre_daffaire</th>\n",
       "      <th>ville</th>\n",
       "      <th>heure</th>\n",
       "      <th>time</th>\n",
       "    </tr>\n",
       "    <tr>\n",
       "      <th>Order Date</th>\n",
       "      <th></th>\n",
       "      <th></th>\n",
       "      <th></th>\n",
       "      <th></th>\n",
       "      <th></th>\n",
       "      <th></th>\n",
       "      <th></th>\n",
       "      <th></th>\n",
       "      <th></th>\n",
       "      <th></th>\n",
       "    </tr>\n",
       "  </thead>\n",
       "  <tbody>\n",
       "    <tr>\n",
       "      <th>2019-01-01 07:29:00</th>\n",
       "      <td>144804</td>\n",
       "      <td>Wired Headphones</td>\n",
       "      <td>1</td>\n",
       "      <td>11.99</td>\n",
       "      <td>628 Lake St, New York City, NY 10001</td>\n",
       "      <td>January</td>\n",
       "      <td>11.99</td>\n",
       "      <td>New York City</td>\n",
       "      <td>7</td>\n",
       "      <td>07:29:00</td>\n",
       "    </tr>\n",
       "    <tr>\n",
       "      <th>2019-01-01 07:29:00</th>\n",
       "      <td>144804</td>\n",
       "      <td>iPhone</td>\n",
       "      <td>1</td>\n",
       "      <td>700.00</td>\n",
       "      <td>628 Lake St, New York City, NY 10001</td>\n",
       "      <td>January</td>\n",
       "      <td>700.00</td>\n",
       "      <td>New York City</td>\n",
       "      <td>7</td>\n",
       "      <td>07:29:00</td>\n",
       "    </tr>\n",
       "    <tr>\n",
       "      <th>2019-01-01 11:25:00</th>\n",
       "      <td>148074</td>\n",
       "      <td>USB-C Charging Cable</td>\n",
       "      <td>1</td>\n",
       "      <td>11.95</td>\n",
       "      <td>6 Johnson St, Atlanta, GA 30301</td>\n",
       "      <td>January</td>\n",
       "      <td>11.95</td>\n",
       "      <td>Atlanta</td>\n",
       "      <td>11</td>\n",
       "      <td>11:25:00</td>\n",
       "    </tr>\n",
       "    <tr>\n",
       "      <th>2019-01-01 11:25:00</th>\n",
       "      <td>148074</td>\n",
       "      <td>Google Phone</td>\n",
       "      <td>1</td>\n",
       "      <td>600.00</td>\n",
       "      <td>6 Johnson St, Atlanta, GA 30301</td>\n",
       "      <td>January</td>\n",
       "      <td>600.00</td>\n",
       "      <td>Atlanta</td>\n",
       "      <td>11</td>\n",
       "      <td>11:25:00</td>\n",
       "    </tr>\n",
       "    <tr>\n",
       "      <th>2019-01-01 12:02:00</th>\n",
       "      <td>148450</td>\n",
       "      <td>iPhone</td>\n",
       "      <td>1</td>\n",
       "      <td>700.00</td>\n",
       "      <td>761 Lakeview St, Dallas, TX 75001</td>\n",
       "      <td>January</td>\n",
       "      <td>700.00</td>\n",
       "      <td>Dallas</td>\n",
       "      <td>12</td>\n",
       "      <td>12:02:00</td>\n",
       "    </tr>\n",
       "    <tr>\n",
       "      <th>...</th>\n",
       "      <td>...</td>\n",
       "      <td>...</td>\n",
       "      <td>...</td>\n",
       "      <td>...</td>\n",
       "      <td>...</td>\n",
       "      <td>...</td>\n",
       "      <td>...</td>\n",
       "      <td>...</td>\n",
       "      <td>...</td>\n",
       "      <td>...</td>\n",
       "    </tr>\n",
       "    <tr>\n",
       "      <th>2020-01-01 00:10:00</th>\n",
       "      <td>311386</td>\n",
       "      <td>Apple Airpods Headphones</td>\n",
       "      <td>1</td>\n",
       "      <td>150.00</td>\n",
       "      <td>730 Pine St, San Francisco, CA 94016</td>\n",
       "      <td>January</td>\n",
       "      <td>150.00</td>\n",
       "      <td>San Francisco</td>\n",
       "      <td>0</td>\n",
       "      <td>00:10:00</td>\n",
       "    </tr>\n",
       "    <tr>\n",
       "      <th>2020-01-01 00:22:00</th>\n",
       "      <td>297817</td>\n",
       "      <td>Lightning Charging Cable</td>\n",
       "      <td>2</td>\n",
       "      <td>14.95</td>\n",
       "      <td>519 13th St, New York City, NY 10001</td>\n",
       "      <td>January</td>\n",
       "      <td>29.90</td>\n",
       "      <td>New York City</td>\n",
       "      <td>0</td>\n",
       "      <td>00:22:00</td>\n",
       "    </tr>\n",
       "    <tr>\n",
       "      <th>2020-01-01 00:22:00</th>\n",
       "      <td>297817</td>\n",
       "      <td>iPhone</td>\n",
       "      <td>1</td>\n",
       "      <td>700.00</td>\n",
       "      <td>519 13th St, New York City, NY 10001</td>\n",
       "      <td>January</td>\n",
       "      <td>700.00</td>\n",
       "      <td>New York City</td>\n",
       "      <td>0</td>\n",
       "      <td>00:22:00</td>\n",
       "    </tr>\n",
       "    <tr>\n",
       "      <th>2020-01-01 05:13:00</th>\n",
       "      <td>300519</td>\n",
       "      <td>Bose SoundSport Headphones</td>\n",
       "      <td>1</td>\n",
       "      <td>99.99</td>\n",
       "      <td>657 Spruce St, New York City, NY 10001</td>\n",
       "      <td>January</td>\n",
       "      <td>99.99</td>\n",
       "      <td>New York City</td>\n",
       "      <td>5</td>\n",
       "      <td>05:13:00</td>\n",
       "    </tr>\n",
       "    <tr>\n",
       "      <th>2020-01-01 05:13:00</th>\n",
       "      <td>300519</td>\n",
       "      <td>Lightning Charging Cable</td>\n",
       "      <td>1</td>\n",
       "      <td>14.95</td>\n",
       "      <td>657 Spruce St, New York City, NY 10001</td>\n",
       "      <td>January</td>\n",
       "      <td>14.95</td>\n",
       "      <td>New York City</td>\n",
       "      <td>5</td>\n",
       "      <td>05:13:00</td>\n",
       "    </tr>\n",
       "  </tbody>\n",
       "</table>\n",
       "<p>14214 rows × 10 columns</p>\n",
       "</div>"
      ],
      "text/plain": [
       "                    Order ID                     Product  Quantity Ordered  \\\n",
       "Order Date                                                                   \n",
       "2019-01-01 07:29:00   144804            Wired Headphones                 1   \n",
       "2019-01-01 07:29:00   144804                      iPhone                 1   \n",
       "2019-01-01 11:25:00   148074        USB-C Charging Cable                 1   \n",
       "2019-01-01 11:25:00   148074                Google Phone                 1   \n",
       "2019-01-01 12:02:00   148450                      iPhone                 1   \n",
       "...                      ...                         ...               ...   \n",
       "2020-01-01 00:10:00   311386    Apple Airpods Headphones                 1   \n",
       "2020-01-01 00:22:00   297817    Lightning Charging Cable                 2   \n",
       "2020-01-01 00:22:00   297817                      iPhone                 1   \n",
       "2020-01-01 05:13:00   300519  Bose SoundSport Headphones                 1   \n",
       "2020-01-01 05:13:00   300519    Lightning Charging Cable                 1   \n",
       "\n",
       "                     Price Each                        Purchase Address  \\\n",
       "Order Date                                                                \n",
       "2019-01-01 07:29:00       11.99    628 Lake St, New York City, NY 10001   \n",
       "2019-01-01 07:29:00      700.00    628 Lake St, New York City, NY 10001   \n",
       "2019-01-01 11:25:00       11.95         6 Johnson St, Atlanta, GA 30301   \n",
       "2019-01-01 11:25:00      600.00         6 Johnson St, Atlanta, GA 30301   \n",
       "2019-01-01 12:02:00      700.00       761 Lakeview St, Dallas, TX 75001   \n",
       "...                         ...                                     ...   \n",
       "2020-01-01 00:10:00      150.00    730 Pine St, San Francisco, CA 94016   \n",
       "2020-01-01 00:22:00       14.95    519 13th St, New York City, NY 10001   \n",
       "2020-01-01 00:22:00      700.00    519 13th St, New York City, NY 10001   \n",
       "2020-01-01 05:13:00       99.99  657 Spruce St, New York City, NY 10001   \n",
       "2020-01-01 05:13:00       14.95  657 Spruce St, New York City, NY 10001   \n",
       "\n",
       "                       Month  chiffre_daffaire          ville  heure      time  \n",
       "Order Date                                                                      \n",
       "2019-01-01 07:29:00  January             11.99  New York City      7  07:29:00  \n",
       "2019-01-01 07:29:00  January            700.00  New York City      7  07:29:00  \n",
       "2019-01-01 11:25:00  January             11.95        Atlanta     11  11:25:00  \n",
       "2019-01-01 11:25:00  January            600.00        Atlanta     11  11:25:00  \n",
       "2019-01-01 12:02:00  January            700.00         Dallas     12  12:02:00  \n",
       "...                      ...               ...            ...    ...       ...  \n",
       "2020-01-01 00:10:00  January            150.00  San Francisco      0  00:10:00  \n",
       "2020-01-01 00:22:00  January             29.90  New York City      0  00:22:00  \n",
       "2020-01-01 00:22:00  January            700.00  New York City      0  00:22:00  \n",
       "2020-01-01 05:13:00  January             99.99  New York City      5  05:13:00  \n",
       "2020-01-01 05:13:00  January             14.95  New York City      5  05:13:00  \n",
       "\n",
       "[14214 rows x 10 columns]"
      ]
     },
     "execution_count": 103,
     "metadata": {},
     "output_type": "execute_result"
    }
   ],
   "source": [
    "df_m = df_clean[df_clean['Order ID'].duplicated(keep=False)].copy()\n",
    "df_m"
   ]
  },
  {
   "cell_type": "code",
   "execution_count": 104,
   "metadata": {},
   "outputs": [],
   "source": [
    "def concat_produit_par_order_id(p: list):\n",
    "  return \";\".join(p)"
   ]
  },
  {
   "cell_type": "code",
   "execution_count": null,
   "metadata": {},
   "outputs": [],
   "source": []
  },
  {
   "cell_type": "code",
   "execution_count": 105,
   "metadata": {},
   "outputs": [
    {
     "data": {
      "text/plain": [
       "Order ID\n",
       "141275              USB-C Charging Cable;Wired Headphones\n",
       "141290     Apple Airpods Headphones;AA Batteries (4-pack)\n",
       "141365                   Vareebadd Phone;Wired Headphones\n",
       "141384                  USB-C Charging Cable;Google Phone\n",
       "141450            Bose SoundSport Headphones;Google Phone\n",
       "                               ...                       \n",
       "319536                Macbook Pro Laptop;Wired Headphones\n",
       "319556                      Google Phone;Wired Headphones\n",
       "319584                            Wired Headphones;iPhone\n",
       "319596                    iPhone;Lightning Charging Cable\n",
       "319631    Lightning Charging Cable;34in Ultrawide Monitor\n",
       "Name: Product, Length: 6928, dtype: object"
      ]
     },
     "execution_count": 105,
     "metadata": {},
     "output_type": "execute_result"
    }
   ],
   "source": [
    "df_m.groupby('Order ID')['Product'].apply(concat_produit_par_order_id)"
   ]
  },
  {
   "cell_type": "code",
   "execution_count": 106,
   "metadata": {},
   "outputs": [],
   "source": [
    "ensemble = df_m.groupby('Order ID')['Product'].apply(concat_produit_par_order_id)"
   ]
  },
  {
   "cell_type": "code",
   "execution_count": 107,
   "metadata": {},
   "outputs": [],
   "source": [
    "from itertools import combinations\n",
    "from collections import Counter\n",
    "\n",
    "count = Counter()"
   ]
  },
  {
   "cell_type": "code",
   "execution_count": 108,
   "metadata": {},
   "outputs": [
    {
     "data": {
      "text/plain": [
       "Counter({('a', 'c'): 1, ('a', 'b'): 1, ('c', 'b'): 1})"
      ]
     },
     "execution_count": 108,
     "metadata": {},
     "output_type": "execute_result"
    }
   ],
   "source": [
    "Counter(combinations(['a', 'c', 'b'], 2))"
   ]
  },
  {
   "cell_type": "code",
   "execution_count": 109,
   "metadata": {},
   "outputs": [
    {
     "name": "stdout",
     "output_type": "stream",
     "text": [
      "a c\n",
      "a b\n",
      "c b\n"
     ]
    }
   ],
   "source": [
    "for i, j in combinations(['a', 'c', 'b'], 2):\n",
    "    print(i, j)"
   ]
  },
  {
   "cell_type": "code",
   "execution_count": 110,
   "metadata": {},
   "outputs": [
    {
     "data": {
      "text/plain": [
       "['USB-C Charging Cable;Wired Headphones',\n",
       " 'Apple Airpods Headphones;AA Batteries (4-pack)',\n",
       " 'Vareebadd Phone;Wired Headphones',\n",
       " 'USB-C Charging Cable;Google Phone',\n",
       " 'Bose SoundSport Headphones;Google Phone',\n",
       " 'iPhone;Apple Airpods Headphones',\n",
       " 'Google Phone;Apple Airpods Headphones',\n",
       " 'Wired Headphones;iPhone;Apple Airpods Headphones',\n",
       " 'USB-C Charging Cable;Apple Airpods Headphones',\n",
       " 'Wired Headphones;Lightning Charging Cable',\n",
       " 'iPhone;Lightning Charging Cable',\n",
       " 'Bose SoundSport Headphones;27in FHD Monitor',\n",
       " 'USB-C Charging Cable;Google Phone',\n",
       " 'iPhone;Wired Headphones',\n",
       " 'USB-C Charging Cable;Google Phone',\n",
       " 'AA Batteries (4-pack);AAA Batteries (4-pack)',\n",
       " 'Wired Headphones;Vareebadd Phone;USB-C Charging Cable',\n",
       " 'USB-C Charging Cable;Google Phone',\n",
       " 'Vareebadd Phone;Wired Headphones',\n",
       " 'Lightning Charging Cable;34in Ultrawide Monitor',\n",
       " 'USB-C Charging Cable;Wired Headphones',\n",
       " 'Bose SoundSport Headphones;Lightning Charging Cable',\n",
       " 'Wired Headphones;Google Phone',\n",
       " 'Wired Headphones;iPhone',\n",
       " 'Lightning Charging Cable;Apple Airpods Headphones',\n",
       " 'Google Phone;iPhone',\n",
       " 'Wired Headphones;iPhone',\n",
       " 'iPhone;Lightning Charging Cable',\n",
       " '20in Monitor;Wired Headphones',\n",
       " 'iPhone;Apple Airpods Headphones',\n",
       " 'USB-C Charging Cable;Google Phone',\n",
       " 'Wired Headphones;Google Phone',\n",
       " 'AA Batteries (4-pack);AA Batteries (4-pack)',\n",
       " 'Lightning Charging Cable;iPhone',\n",
       " 'Bose SoundSport Headphones;20in Monitor',\n",
       " 'Google Phone;Bose SoundSport Headphones;Wired Headphones',\n",
       " 'USB-C Charging Cable;Vareebadd Phone',\n",
       " 'USB-C Charging Cable;Apple Airpods Headphones',\n",
       " 'USB-C Charging Cable;Google Phone',\n",
       " 'USB-C Charging Cable;Google Phone',\n",
       " 'iPhone;Wired Headphones',\n",
       " 'USB-C Charging Cable;Google Phone;Wired Headphones',\n",
       " 'Wired Headphones;iPhone',\n",
       " 'Wired Headphones;Google Phone',\n",
       " 'Google Phone;Bose SoundSport Headphones',\n",
       " 'Google Phone;iPhone',\n",
       " 'USB-C Charging Cable;Google Phone',\n",
       " 'Lightning Charging Cable;iPhone',\n",
       " 'Vareebadd Phone;USB-C Charging Cable',\n",
       " 'Google Phone;Wired Headphones',\n",
       " 'Bose SoundSport Headphones;Vareebadd Phone',\n",
       " 'Google Phone;USB-C Charging Cable',\n",
       " 'Lightning Charging Cable;iPhone',\n",
       " 'AA Batteries (4-pack);AAA Batteries (4-pack)',\n",
       " 'Lightning Charging Cable;iPhone',\n",
       " 'iPhone;Apple Airpods Headphones',\n",
       " 'USB-C Charging Cable;Google Phone',\n",
       " '27in 4K Gaming Monitor;AAA Batteries (4-pack)',\n",
       " 'USB-C Charging Cable;AA Batteries (4-pack)',\n",
       " 'Lightning Charging Cable;USB-C Charging Cable',\n",
       " 'USB-C Charging Cable;Wired Headphones',\n",
       " 'Macbook Pro Laptop;AA Batteries (4-pack)',\n",
       " 'Google Phone;USB-C Charging Cable',\n",
       " 'Macbook Pro Laptop;Bose SoundSport Headphones',\n",
       " 'iPhone;Lightning Charging Cable',\n",
       " 'Google Phone;Wired Headphones',\n",
       " 'Wired Headphones;iPhone',\n",
       " 'iPhone;Wired Headphones',\n",
       " '34in Ultrawide Monitor;Wired Headphones',\n",
       " 'iPhone;Lightning Charging Cable',\n",
       " 'USB-C Charging Cable;Google Phone',\n",
       " 'Vareebadd Phone;USB-C Charging Cable',\n",
       " 'iPhone;Wired Headphones',\n",
       " 'Google Phone;Wired Headphones;Bose SoundSport Headphones',\n",
       " 'Apple Airpods Headphones;Lightning Charging Cable;iPhone',\n",
       " 'iPhone;Lightning Charging Cable',\n",
       " 'Wired Headphones;AA Batteries (4-pack)',\n",
       " '20in Monitor;USB-C Charging Cable',\n",
       " 'Apple Airpods Headphones;Lightning Charging Cable',\n",
       " 'iPhone;Wired Headphones',\n",
       " 'Apple Airpods Headphones;Bose SoundSport Headphones',\n",
       " 'Google Phone;USB-C Charging Cable',\n",
       " 'Lightning Charging Cable;Apple Airpods Headphones',\n",
       " 'Wired Headphones;Lightning Charging Cable',\n",
       " 'ThinkPad Laptop;Wired Headphones',\n",
       " 'Flatscreen TV;LG Dryer',\n",
       " 'Google Phone;USB-C Charging Cable',\n",
       " 'AAA Batteries (4-pack);Apple Airpods Headphones',\n",
       " 'iPhone;Wired Headphones;Lightning Charging Cable',\n",
       " 'USB-C Charging Cable;Google Phone',\n",
       " 'Wired Headphones;Google Phone',\n",
       " 'USB-C Charging Cable;Google Phone',\n",
       " 'Google Phone;USB-C Charging Cable',\n",
       " 'USB-C Charging Cable;Vareebadd Phone',\n",
       " '27in 4K Gaming Monitor;AAA Batteries (4-pack)',\n",
       " 'AA Batteries (4-pack);Bose SoundSport Headphones',\n",
       " '34in Ultrawide Monitor;Lightning Charging Cable',\n",
       " 'Apple Airpods Headphones;USB-C Charging Cable',\n",
       " 'Apple Airpods Headphones;ThinkPad Laptop',\n",
       " 'Google Phone;USB-C Charging Cable',\n",
       " 'Google Phone;Wired Headphones',\n",
       " 'AAA Batteries (4-pack);Flatscreen TV',\n",
       " 'Wired Headphones;iPhone',\n",
       " 'Wired Headphones;Vareebadd Phone',\n",
       " 'AAA Batteries (4-pack);USB-C Charging Cable',\n",
       " 'Lightning Charging Cable;iPhone',\n",
       " '27in FHD Monitor;USB-C Charging Cable',\n",
       " '27in 4K Gaming Monitor;AA Batteries (4-pack)',\n",
       " 'Wired Headphones;iPhone',\n",
       " 'USB-C Charging Cable;Google Phone;Wired Headphones',\n",
       " 'USB-C Charging Cable;20in Monitor',\n",
       " 'Google Phone;USB-C Charging Cable',\n",
       " 'iPhone;Lightning Charging Cable',\n",
       " 'iPhone;Lightning Charging Cable',\n",
       " 'Wired Headphones;AA Batteries (4-pack)',\n",
       " 'iPhone;Lightning Charging Cable',\n",
       " 'iPhone;Wired Headphones',\n",
       " '27in 4K Gaming Monitor;iPhone',\n",
       " 'Bose SoundSport Headphones;Wired Headphones',\n",
       " 'Lightning Charging Cable;AAA Batteries (4-pack)',\n",
       " 'iPhone;Wired Headphones',\n",
       " 'iPhone;Wired Headphones',\n",
       " 'USB-C Charging Cable;Google Phone',\n",
       " 'USB-C Charging Cable;Google Phone',\n",
       " 'iPhone;Wired Headphones',\n",
       " 'Google Phone;Bose SoundSport Headphones',\n",
       " 'USB-C Charging Cable;Lightning Charging Cable',\n",
       " 'Lightning Charging Cable;27in FHD Monitor',\n",
       " 'Apple Airpods Headphones;iPhone',\n",
       " 'USB-C Charging Cable;Flatscreen TV',\n",
       " 'Bose SoundSport Headphones;LG Washing Machine',\n",
       " 'Lightning Charging Cable;iPhone',\n",
       " 'iPhone;Wired Headphones',\n",
       " 'USB-C Charging Cable;Google Phone',\n",
       " 'Google Phone;Wired Headphones',\n",
       " 'iPhone;Lightning Charging Cable',\n",
       " 'Google Phone;Wired Headphones',\n",
       " 'Macbook Pro Laptop;Lightning Charging Cable',\n",
       " 'Lightning Charging Cable;USB-C Charging Cable',\n",
       " 'Google Phone;USB-C Charging Cable',\n",
       " 'iPhone;Apple Airpods Headphones',\n",
       " 'USB-C Charging Cable;Google Phone',\n",
       " 'Wired Headphones;Bose SoundSport Headphones',\n",
       " 'USB-C Charging Cable;Vareebadd Phone',\n",
       " 'AAA Batteries (4-pack);AA Batteries (4-pack)',\n",
       " 'Lightning Charging Cable;iPhone',\n",
       " 'Google Phone;USB-C Charging Cable',\n",
       " 'Lightning Charging Cable;iPhone',\n",
       " 'Lightning Charging Cable;iPhone',\n",
       " 'Wired Headphones;Google Phone',\n",
       " 'USB-C Charging Cable;Google Phone',\n",
       " 'iPhone;USB-C Charging Cable',\n",
       " 'Google Phone;USB-C Charging Cable',\n",
       " 'USB-C Charging Cable;Vareebadd Phone',\n",
       " 'iPhone;Wired Headphones',\n",
       " 'iPhone;Lightning Charging Cable',\n",
       " 'Wired Headphones;Bose SoundSport Headphones',\n",
       " 'USB-C Charging Cable;Google Phone',\n",
       " 'iPhone;Wired Headphones',\n",
       " 'USB-C Charging Cable;Google Phone',\n",
       " 'Wired Headphones;iPhone',\n",
       " 'Wired Headphones;Lightning Charging Cable;iPhone',\n",
       " 'Google Phone;USB-C Charging Cable',\n",
       " 'Google Phone;USB-C Charging Cable',\n",
       " 'USB-C Charging Cable;Apple Airpods Headphones',\n",
       " 'Lightning Charging Cable;AA Batteries (4-pack)',\n",
       " '20in Monitor;Wired Headphones',\n",
       " '27in 4K Gaming Monitor;AA Batteries (4-pack)',\n",
       " 'iPhone;Wired Headphones',\n",
       " 'Bose SoundSport Headphones;Vareebadd Phone',\n",
       " 'USB-C Charging Cable;Google Phone;Wired Headphones',\n",
       " '20in Monitor;Wired Headphones',\n",
       " 'Lightning Charging Cable;iPhone',\n",
       " 'Wired Headphones;Lightning Charging Cable;iPhone',\n",
       " 'AA Batteries (4-pack);USB-C Charging Cable',\n",
       " 'LG Dryer;AA Batteries (4-pack)',\n",
       " 'USB-C Charging Cable;Bose SoundSport Headphones',\n",
       " 'Google Phone;USB-C Charging Cable',\n",
       " 'Apple Airpods Headphones;AAA Batteries (4-pack)',\n",
       " 'Lightning Charging Cable;Lightning Charging Cable',\n",
       " 'Google Phone;Wired Headphones',\n",
       " 'AAA Batteries (4-pack);Vareebadd Phone',\n",
       " 'Lightning Charging Cable;iPhone',\n",
       " 'Wired Headphones;Google Phone',\n",
       " 'Apple Airpods Headphones;Flatscreen TV',\n",
       " 'iPhone;Lightning Charging Cable',\n",
       " 'AAA Batteries (4-pack);Wired Headphones',\n",
       " 'Bose SoundSport Headphones;AAA Batteries (4-pack)',\n",
       " 'AAA Batteries (4-pack);Flatscreen TV',\n",
       " 'USB-C Charging Cable;Google Phone',\n",
       " 'Bose SoundSport Headphones;20in Monitor',\n",
       " 'Lightning Charging Cable;AAA Batteries (4-pack)',\n",
       " 'USB-C Charging Cable;Google Phone',\n",
       " 'Lightning Charging Cable;iPhone',\n",
       " 'Apple Airpods Headphones;USB-C Charging Cable',\n",
       " 'USB-C Charging Cable;Google Phone;Bose SoundSport Headphones',\n",
       " 'AAA Batteries (4-pack);Wired Headphones',\n",
       " 'iPhone;Lightning Charging Cable',\n",
       " 'Wired Headphones;ThinkPad Laptop',\n",
       " 'Wired Headphones;Google Phone',\n",
       " 'Lightning Charging Cable;Flatscreen TV',\n",
       " 'AA Batteries (4-pack);Wired Headphones',\n",
       " 'iPhone;USB-C Charging Cable',\n",
       " 'Lightning Charging Cable;iPhone',\n",
       " 'Wired Headphones;AAA Batteries (4-pack)',\n",
       " 'Bose SoundSport Headphones;USB-C Charging Cable',\n",
       " 'USB-C Charging Cable;Google Phone',\n",
       " 'USB-C Charging Cable;Wired Headphones;Vareebadd Phone',\n",
       " '27in 4K Gaming Monitor;AA Batteries (4-pack)',\n",
       " 'Google Phone;Lightning Charging Cable',\n",
       " 'Wired Headphones;iPhone',\n",
       " 'USB-C Charging Cable;Wired Headphones',\n",
       " 'AA Batteries (4-pack);Flatscreen TV',\n",
       " 'Lightning Charging Cable;AA Batteries (4-pack)',\n",
       " 'iPhone;Apple Airpods Headphones',\n",
       " 'Lightning Charging Cable;iPhone',\n",
       " 'iPhone;Lightning Charging Cable',\n",
       " 'Lightning Charging Cable;iPhone',\n",
       " 'AA Batteries (4-pack);AAA Batteries (4-pack)',\n",
       " 'USB-C Charging Cable;Google Phone',\n",
       " 'Flatscreen TV;34in Ultrawide Monitor',\n",
       " 'Wired Headphones;USB-C Charging Cable',\n",
       " '27in FHD Monitor;Bose SoundSport Headphones',\n",
       " 'AAA Batteries (4-pack);27in FHD Monitor',\n",
       " 'AA Batteries (4-pack);LG Dryer',\n",
       " 'iPhone;Wired Headphones',\n",
       " 'USB-C Charging Cable;Wired Headphones',\n",
       " 'Vareebadd Phone;USB-C Charging Cable',\n",
       " 'Lightning Charging Cable;Bose SoundSport Headphones',\n",
       " 'Flatscreen TV;Apple Airpods Headphones',\n",
       " 'Google Phone;USB-C Charging Cable',\n",
       " 'Apple Airpods Headphones;Lightning Charging Cable',\n",
       " 'Google Phone;USB-C Charging Cable',\n",
       " 'Google Phone;Google Phone',\n",
       " 'Google Phone;Wired Headphones',\n",
       " 'Wired Headphones;Google Phone',\n",
       " 'Lightning Charging Cable;Apple Airpods Headphones',\n",
       " 'Apple Airpods Headphones;iPhone',\n",
       " 'Apple Airpods Headphones;iPhone',\n",
       " 'Apple Airpods Headphones;iPhone',\n",
       " 'Apple Airpods Headphones;iPhone',\n",
       " 'iPhone;Wired Headphones',\n",
       " '27in 4K Gaming Monitor;27in FHD Monitor',\n",
       " 'Wired Headphones;Google Phone',\n",
       " 'Bose SoundSport Headphones;Wired Headphones',\n",
       " 'Google Phone;USB-C Charging Cable',\n",
       " '34in Ultrawide Monitor;AA Batteries (4-pack)',\n",
       " 'Wired Headphones;Flatscreen TV',\n",
       " '27in FHD Monitor;AAA Batteries (4-pack)',\n",
       " 'Lightning Charging Cable;Wired Headphones',\n",
       " 'Apple Airpods Headphones;iPhone',\n",
       " 'Wired Headphones;iPhone',\n",
       " 'Lightning Charging Cable;iPhone',\n",
       " 'Google Phone;Wired Headphones',\n",
       " 'Google Phone;Wired Headphones',\n",
       " 'Wired Headphones;Apple Airpods Headphones',\n",
       " 'Lightning Charging Cable;AA Batteries (4-pack)',\n",
       " 'Google Phone;Lightning Charging Cable',\n",
       " 'USB-C Charging Cable;Google Phone',\n",
       " 'USB-C Charging Cable;20in Monitor',\n",
       " 'Google Phone;USB-C Charging Cable',\n",
       " 'USB-C Charging Cable;Google Phone',\n",
       " '27in 4K Gaming Monitor;USB-C Charging Cable',\n",
       " 'AAA Batteries (4-pack);USB-C Charging Cable',\n",
       " 'Wired Headphones;iPhone',\n",
       " 'AA Batteries (4-pack);Wired Headphones',\n",
       " 'Wired Headphones;Google Phone',\n",
       " 'Lightning Charging Cable;iPhone',\n",
       " 'USB-C Charging Cable;Vareebadd Phone',\n",
       " 'Vareebadd Phone;USB-C Charging Cable',\n",
       " 'Google Phone;Wired Headphones',\n",
       " 'Vareebadd Phone;USB-C Charging Cable',\n",
       " 'Lightning Charging Cable;iPhone',\n",
       " 'Google Phone;Wired Headphones;USB-C Charging Cable',\n",
       " 'Apple Airpods Headphones;Flatscreen TV',\n",
       " 'Wired Headphones;Google Phone',\n",
       " 'Google Phone;USB-C Charging Cable',\n",
       " 'Wired Headphones;Apple Airpods Headphones;iPhone',\n",
       " 'AAA Batteries (4-pack);34in Ultrawide Monitor',\n",
       " 'Vareebadd Phone;USB-C Charging Cable',\n",
       " 'Wired Headphones;Wired Headphones',\n",
       " 'Wired Headphones;Vareebadd Phone;USB-C Charging Cable',\n",
       " 'Google Phone;USB-C Charging Cable',\n",
       " 'Google Phone;USB-C Charging Cable;Bose SoundSport Headphones',\n",
       " 'USB-C Charging Cable;AA Batteries (4-pack);Google Phone',\n",
       " 'iPhone;Lightning Charging Cable',\n",
       " 'iPhone;Lightning Charging Cable',\n",
       " 'Apple Airpods Headphones;Macbook Pro Laptop',\n",
       " 'Google Phone;USB-C Charging Cable',\n",
       " 'iPhone;Lightning Charging Cable',\n",
       " 'Lightning Charging Cable;iPhone',\n",
       " 'iPhone;Lightning Charging Cable',\n",
       " 'USB-C Charging Cable;34in Ultrawide Monitor',\n",
       " 'USB-C Charging Cable;Google Phone',\n",
       " 'Lightning Charging Cable;AA Batteries (4-pack)',\n",
       " 'Google Phone;USB-C Charging Cable',\n",
       " 'Vareebadd Phone;USB-C Charging Cable',\n",
       " '20in Monitor;Lightning Charging Cable',\n",
       " 'Lightning Charging Cable;iPhone',\n",
       " 'Apple Airpods Headphones;iPhone',\n",
       " 'iPhone;Lightning Charging Cable',\n",
       " 'iPhone;Lightning Charging Cable',\n",
       " 'iPhone;Lightning Charging Cable',\n",
       " 'AA Batteries (4-pack);Bose SoundSport Headphones',\n",
       " 'AA Batteries (4-pack);USB-C Charging Cable',\n",
       " 'Apple Airpods Headphones;AAA Batteries (4-pack)',\n",
       " 'USB-C Charging Cable;AAA Batteries (4-pack)',\n",
       " 'USB-C Charging Cable;ThinkPad Laptop',\n",
       " 'Lightning Charging Cable;iPhone',\n",
       " 'Wired Headphones;iPhone',\n",
       " 'AAA Batteries (4-pack);Lightning Charging Cable',\n",
       " 'USB-C Charging Cable;Wired Headphones',\n",
       " 'Lightning Charging Cable;iPhone',\n",
       " 'Bose SoundSport Headphones;Macbook Pro Laptop',\n",
       " 'Wired Headphones;Vareebadd Phone;USB-C Charging Cable',\n",
       " 'Wired Headphones;iPhone',\n",
       " 'AAA Batteries (4-pack);Wired Headphones',\n",
       " 'iPhone;Lightning Charging Cable',\n",
       " 'USB-C Charging Cable;Google Phone',\n",
       " 'Bose SoundSport Headphones;27in 4K Gaming Monitor',\n",
       " 'USB-C Charging Cable;USB-C Charging Cable',\n",
       " 'Flatscreen TV;AA Batteries (4-pack)',\n",
       " 'Lightning Charging Cable;27in 4K Gaming Monitor',\n",
       " 'Apple Airpods Headphones;AA Batteries (4-pack)',\n",
       " 'Google Phone;Bose SoundSport Headphones',\n",
       " 'Wired Headphones;USB-C Charging Cable;Vareebadd Phone',\n",
       " 'Lightning Charging Cable;Lightning Charging Cable',\n",
       " 'USB-C Charging Cable;Google Phone',\n",
       " 'Apple Airpods Headphones;Apple Airpods Headphones',\n",
       " 'Apple Airpods Headphones;27in FHD Monitor',\n",
       " 'USB-C Charging Cable;Vareebadd Phone',\n",
       " 'Lightning Charging Cable;iPhone',\n",
       " 'Apple Airpods Headphones;34in Ultrawide Monitor',\n",
       " 'Wired Headphones;AAA Batteries (4-pack)',\n",
       " 'Lightning Charging Cable;iPhone',\n",
       " 'Lightning Charging Cable;AAA Batteries (4-pack)',\n",
       " 'Vareebadd Phone;USB-C Charging Cable;Wired Headphones',\n",
       " 'Lightning Charging Cable;iPhone',\n",
       " 'USB-C Charging Cable;USB-C Charging Cable',\n",
       " 'ThinkPad Laptop;AA Batteries (4-pack)',\n",
       " 'AA Batteries (4-pack);Bose SoundSport Headphones',\n",
       " 'Google Phone;Wired Headphones',\n",
       " 'Vareebadd Phone;Wired Headphones',\n",
       " 'Lightning Charging Cable;iPhone',\n",
       " 'USB-C Charging Cable;Google Phone',\n",
       " 'Bose SoundSport Headphones;USB-C Charging Cable',\n",
       " 'AA Batteries (4-pack);Google Phone',\n",
       " 'Apple Airpods Headphones;AA Batteries (4-pack)',\n",
       " 'USB-C Charging Cable;USB-C Charging Cable',\n",
       " 'Wired Headphones;27in FHD Monitor',\n",
       " 'Lightning Charging Cable;Flatscreen TV',\n",
       " 'Apple Airpods Headphones;iPhone',\n",
       " 'USB-C Charging Cable;Google Phone',\n",
       " 'iPhone;Lightning Charging Cable',\n",
       " 'iPhone;USB-C Charging Cable',\n",
       " 'iPhone;USB-C Charging Cable',\n",
       " 'USB-C Charging Cable;Bose SoundSport Headphones;Google Phone',\n",
       " 'Vareebadd Phone;USB-C Charging Cable',\n",
       " '27in 4K Gaming Monitor;USB-C Charging Cable',\n",
       " 'iPhone;Lightning Charging Cable',\n",
       " 'Wired Headphones;Google Phone',\n",
       " '27in FHD Monitor;Wired Headphones',\n",
       " 'Google Phone;USB-C Charging Cable;Wired Headphones',\n",
       " 'Bose SoundSport Headphones;Lightning Charging Cable',\n",
       " 'iPhone;Lightning Charging Cable',\n",
       " 'USB-C Charging Cable;AAA Batteries (4-pack)',\n",
       " 'USB-C Charging Cable;Google Phone;Wired Headphones',\n",
       " 'USB-C Charging Cable;Lightning Charging Cable',\n",
       " 'Wired Headphones;Wired Headphones',\n",
       " 'iPhone;Wired Headphones',\n",
       " 'Lightning Charging Cable;iPhone',\n",
       " 'iPhone;Lightning Charging Cable',\n",
       " 'Lightning Charging Cable;iPhone',\n",
       " 'USB-C Charging Cable;Apple Airpods Headphones;Google Phone',\n",
       " 'Flatscreen TV;Google Phone',\n",
       " 'iPhone;Macbook Pro Laptop',\n",
       " 'Lightning Charging Cable;iPhone',\n",
       " 'Apple Airpods Headphones;AAA Batteries (4-pack)',\n",
       " 'Google Phone;USB-C Charging Cable',\n",
       " 'USB-C Charging Cable;Google Phone',\n",
       " 'USB-C Charging Cable;Google Phone;Wired Headphones',\n",
       " 'Wired Headphones;Google Phone',\n",
       " 'Wired Headphones;iPhone',\n",
       " '27in 4K Gaming Monitor;AAA Batteries (4-pack)',\n",
       " 'Wired Headphones;Apple Airpods Headphones',\n",
       " 'Apple Airpods Headphones;Wired Headphones',\n",
       " 'Lightning Charging Cable;Lightning Charging Cable',\n",
       " 'iPhone;Lightning Charging Cable;iPhone',\n",
       " 'USB-C Charging Cable;USB-C Charging Cable',\n",
       " 'iPhone;Wired Headphones',\n",
       " 'iPhone;Apple Airpods Headphones;Lightning Charging Cable',\n",
       " 'Vareebadd Phone;Wired Headphones',\n",
       " 'Google Phone;USB-C Charging Cable',\n",
       " 'Wired Headphones;Wired Headphones',\n",
       " 'iPhone;Lightning Charging Cable',\n",
       " 'Wired Headphones;iPhone',\n",
       " 'Lightning Charging Cable;AAA Batteries (4-pack)',\n",
       " 'Google Phone;Wired Headphones',\n",
       " 'Wired Headphones;iPhone',\n",
       " '34in Ultrawide Monitor;Lightning Charging Cable',\n",
       " 'iPhone;Lightning Charging Cable',\n",
       " 'Apple Airpods Headphones;iPhone',\n",
       " 'Vareebadd Phone;USB-C Charging Cable',\n",
       " 'iPhone;Lightning Charging Cable',\n",
       " 'Google Phone;LG Washing Machine',\n",
       " 'iPhone;Wired Headphones',\n",
       " 'Google Phone;USB-C Charging Cable',\n",
       " 'iPhone;USB-C Charging Cable',\n",
       " 'LG Washing Machine;Wired Headphones',\n",
       " 'iPhone;Wired Headphones',\n",
       " 'USB-C Charging Cable;AAA Batteries (4-pack)',\n",
       " '27in FHD Monitor;Macbook Pro Laptop',\n",
       " 'USB-C Charging Cable;Google Phone',\n",
       " '34in Ultrawide Monitor;Lightning Charging Cable',\n",
       " 'Apple Airpods Headphones;Lightning Charging Cable',\n",
       " 'USB-C Charging Cable;Wired Headphones;Google Phone',\n",
       " 'USB-C Charging Cable;USB-C Charging Cable',\n",
       " 'Lightning Charging Cable;iPhone',\n",
       " 'Apple Airpods Headphones;Bose SoundSport Headphones',\n",
       " 'Wired Headphones;Wired Headphones',\n",
       " 'USB-C Charging Cable;Google Phone',\n",
       " 'Macbook Pro Laptop;Bose SoundSport Headphones',\n",
       " 'Wired Headphones;USB-C Charging Cable',\n",
       " 'AA Batteries (4-pack);Lightning Charging Cable',\n",
       " 'iPhone;Wired Headphones',\n",
       " 'Apple Airpods Headphones;iPhone',\n",
       " '20in Monitor;USB-C Charging Cable',\n",
       " 'Vareebadd Phone;Bose SoundSport Headphones',\n",
       " 'Bose SoundSport Headphones;Google Phone',\n",
       " 'USB-C Charging Cable;USB-C Charging Cable',\n",
       " 'Google Phone;USB-C Charging Cable',\n",
       " 'iPhone;Google Phone',\n",
       " 'Google Phone;Wired Headphones',\n",
       " 'USB-C Charging Cable;Google Phone',\n",
       " 'Vareebadd Phone;Bose SoundSport Headphones;USB-C Charging Cable',\n",
       " 'Bose SoundSport Headphones;AAA Batteries (4-pack)',\n",
       " 'Apple Airpods Headphones;USB-C Charging Cable',\n",
       " 'AAA Batteries (4-pack);34in Ultrawide Monitor',\n",
       " 'AAA Batteries (4-pack);Apple Airpods Headphones',\n",
       " 'AAA Batteries (4-pack);ThinkPad Laptop',\n",
       " 'iPhone;Apple Airpods Headphones',\n",
       " 'Lightning Charging Cable;iPhone',\n",
       " 'Google Phone;USB-C Charging Cable',\n",
       " 'iPhone;Wired Headphones',\n",
       " 'Apple Airpods Headphones;USB-C Charging Cable',\n",
       " 'AAA Batteries (4-pack);Apple Airpods Headphones',\n",
       " 'AAA Batteries (4-pack);27in 4K Gaming Monitor',\n",
       " 'Lightning Charging Cable;AAA Batteries (4-pack)',\n",
       " 'iPhone;Apple Airpods Headphones;Lightning Charging Cable',\n",
       " 'Bose SoundSport Headphones;Bose SoundSport Headphones',\n",
       " 'Lightning Charging Cable;Apple Airpods Headphones',\n",
       " 'AA Batteries (4-pack);Apple Airpods Headphones',\n",
       " 'Vareebadd Phone;USB-C Charging Cable',\n",
       " 'AA Batteries (4-pack);Wired Headphones',\n",
       " 'AAA Batteries (4-pack);iPhone',\n",
       " 'Bose SoundSport Headphones;Google Phone',\n",
       " 'iPhone;Apple Airpods Headphones',\n",
       " 'Bose SoundSport Headphones;27in FHD Monitor',\n",
       " 'Google Phone;Bose SoundSport Headphones',\n",
       " 'Macbook Pro Laptop;AAA Batteries (4-pack)',\n",
       " 'Bose SoundSport Headphones;Flatscreen TV',\n",
       " 'iPhone;Wired Headphones',\n",
       " 'AA Batteries (4-pack);27in 4K Gaming Monitor',\n",
       " 'iPhone;Lightning Charging Cable',\n",
       " '27in 4K Gaming Monitor;Macbook Pro Laptop',\n",
       " 'Apple Airpods Headphones;27in FHD Monitor',\n",
       " 'iPhone;Lightning Charging Cable',\n",
       " 'Apple Airpods Headphones;iPhone',\n",
       " '34in Ultrawide Monitor;Lightning Charging Cable',\n",
       " 'iPhone;Wired Headphones',\n",
       " 'Vareebadd Phone;Google Phone',\n",
       " 'iPhone;Wired Headphones',\n",
       " 'Google Phone;Lightning Charging Cable',\n",
       " 'Google Phone;USB-C Charging Cable',\n",
       " 'Bose SoundSport Headphones;USB-C Charging Cable',\n",
       " 'Google Phone;Wired Headphones',\n",
       " 'ThinkPad Laptop;Bose SoundSport Headphones',\n",
       " 'Wired Headphones;Google Phone',\n",
       " 'Google Phone;USB-C Charging Cable',\n",
       " 'Google Phone;USB-C Charging Cable;Bose SoundSport Headphones',\n",
       " 'Apple Airpods Headphones;34in Ultrawide Monitor',\n",
       " 'Vareebadd Phone;AA Batteries (4-pack)',\n",
       " 'Lightning Charging Cable;Bose SoundSport Headphones',\n",
       " 'iPhone;Apple Airpods Headphones',\n",
       " 'Macbook Pro Laptop;Wired Headphones',\n",
       " 'Wired Headphones;Wired Headphones',\n",
       " 'Wired Headphones;Wired Headphones',\n",
       " 'Google Phone;Bose SoundSport Headphones',\n",
       " 'Flatscreen TV;Apple Airpods Headphones',\n",
       " 'AAA Batteries (4-pack);Wired Headphones',\n",
       " 'Lightning Charging Cable;iPhone',\n",
       " 'Wired Headphones;iPhone',\n",
       " 'iPhone;Lightning Charging Cable',\n",
       " 'Google Phone;USB-C Charging Cable',\n",
       " 'USB-C Charging Cable;Google Phone',\n",
       " 'Lightning Charging Cable;27in 4K Gaming Monitor',\n",
       " '27in FHD Monitor;Wired Headphones',\n",
       " 'Google Phone;USB-C Charging Cable',\n",
       " 'Apple Airpods Headphones;Wired Headphones',\n",
       " 'USB-C Charging Cable;Google Phone',\n",
       " 'iPhone;Apple Airpods Headphones',\n",
       " 'Bose SoundSport Headphones;USB-C Charging Cable',\n",
       " 'iPhone;Wired Headphones',\n",
       " 'Apple Airpods Headphones;AAA Batteries (4-pack)',\n",
       " 'Wired Headphones;Lightning Charging Cable',\n",
       " 'Apple Airpods Headphones;Lightning Charging Cable',\n",
       " 'Google Phone;USB-C Charging Cable',\n",
       " 'Wired Headphones;USB-C Charging Cable;Google Phone',\n",
       " 'Wired Headphones;iPhone',\n",
       " 'Google Phone;Lightning Charging Cable',\n",
       " '27in 4K Gaming Monitor;Google Phone',\n",
       " 'Google Phone;USB-C Charging Cable;Wired Headphones',\n",
       " 'Lightning Charging Cable;iPhone',\n",
       " 'Macbook Pro Laptop;27in 4K Gaming Monitor',\n",
       " 'Google Phone;USB-C Charging Cable',\n",
       " 'Lightning Charging Cable;27in FHD Monitor',\n",
       " 'USB-C Charging Cable;Google Phone',\n",
       " 'Lightning Charging Cable;iPhone',\n",
       " 'Lightning Charging Cable;iPhone',\n",
       " 'iPhone;Lightning Charging Cable',\n",
       " 'Wired Headphones;Google Phone',\n",
       " 'Bose SoundSport Headphones;Wired Headphones',\n",
       " 'AAA Batteries (4-pack);AAA Batteries (4-pack)',\n",
       " 'Apple Airpods Headphones;Bose SoundSport Headphones',\n",
       " 'Bose SoundSport Headphones;ThinkPad Laptop',\n",
       " 'Google Phone;Wired Headphones',\n",
       " 'Lightning Charging Cable;iPhone',\n",
       " 'Wired Headphones;iPhone',\n",
       " 'iPhone;Apple Airpods Headphones',\n",
       " 'iPhone;Lightning Charging Cable',\n",
       " 'Wired Headphones;Google Phone',\n",
       " 'Bose SoundSport Headphones;27in FHD Monitor',\n",
       " 'Google Phone;USB-C Charging Cable',\n",
       " 'USB-C Charging Cable;Google Phone',\n",
       " '27in 4K Gaming Monitor;Wired Headphones',\n",
       " 'Google Phone;USB-C Charging Cable',\n",
       " 'Apple Airpods Headphones;Lightning Charging Cable',\n",
       " 'USB-C Charging Cable;Google Phone',\n",
       " 'Google Phone;USB-C Charging Cable',\n",
       " '34in Ultrawide Monitor;AAA Batteries (4-pack)',\n",
       " 'Lightning Charging Cable;Bose SoundSport Headphones',\n",
       " 'Wired Headphones;USB-C Charging Cable;Google Phone',\n",
       " 'Lightning Charging Cable;Lightning Charging Cable',\n",
       " '27in 4K Gaming Monitor;27in 4K Gaming Monitor',\n",
       " 'Apple Airpods Headphones;AA Batteries (4-pack)',\n",
       " 'Bose SoundSport Headphones;Google Phone',\n",
       " 'Google Phone;USB-C Charging Cable',\n",
       " 'iPhone;Wired Headphones',\n",
       " 'AA Batteries (4-pack);34in Ultrawide Monitor',\n",
       " 'Google Phone;USB-C Charging Cable;Bose SoundSport Headphones',\n",
       " 'Lightning Charging Cable;Lightning Charging Cable',\n",
       " 'Bose SoundSport Headphones;Google Phone',\n",
       " 'Wired Headphones;Bose SoundSport Headphones;Google Phone',\n",
       " 'Vareebadd Phone;USB-C Charging Cable',\n",
       " 'Lightning Charging Cable;Wired Headphones',\n",
       " 'AA Batteries (4-pack);AAA Batteries (4-pack)',\n",
       " 'Macbook Pro Laptop;27in FHD Monitor',\n",
       " 'Lightning Charging Cable;iPhone',\n",
       " '27in 4K Gaming Monitor;USB-C Charging Cable',\n",
       " 'Wired Headphones;iPhone',\n",
       " 'USB-C Charging Cable;Google Phone',\n",
       " 'Lightning Charging Cable;iPhone',\n",
       " 'Wired Headphones;AA Batteries (4-pack)',\n",
       " 'Bose SoundSport Headphones;Google Phone',\n",
       " 'Google Phone;AAA Batteries (4-pack)',\n",
       " 'AAA Batteries (4-pack);27in 4K Gaming Monitor',\n",
       " 'Bose SoundSport Headphones;Google Phone;USB-C Charging Cable',\n",
       " 'Lightning Charging Cable;iPhone',\n",
       " 'Google Phone;Wired Headphones',\n",
       " 'Google Phone;Wired Headphones',\n",
       " 'Wired Headphones;ThinkPad Laptop',\n",
       " 'AA Batteries (4-pack);Google Phone',\n",
       " 'Lightning Charging Cable;ThinkPad Laptop',\n",
       " 'Vareebadd Phone;USB-C Charging Cable',\n",
       " 'iPhone;Lightning Charging Cable',\n",
       " 'iPhone;Lightning Charging Cable',\n",
       " 'Bose SoundSport Headphones;27in 4K Gaming Monitor',\n",
       " 'AAA Batteries (4-pack);27in FHD Monitor',\n",
       " 'AA Batteries (4-pack);AA Batteries (4-pack)',\n",
       " 'iPhone;Wired Headphones',\n",
       " 'USB-C Charging Cable;Vareebadd Phone',\n",
       " 'USB-C Charging Cable;Vareebadd Phone',\n",
       " 'Vareebadd Phone;Wired Headphones',\n",
       " '27in 4K Gaming Monitor;Bose SoundSport Headphones',\n",
       " 'Google Phone;USB-C Charging Cable',\n",
       " 'Wired Headphones;Google Phone',\n",
       " 'iPhone;Apple Airpods Headphones',\n",
       " 'iPhone;Lightning Charging Cable',\n",
       " '34in Ultrawide Monitor;Apple Airpods Headphones',\n",
       " 'AA Batteries (4-pack);Wired Headphones',\n",
       " 'Vareebadd Phone;USB-C Charging Cable',\n",
       " '27in 4K Gaming Monitor;AA Batteries (4-pack)',\n",
       " 'Bose SoundSport Headphones;Bose SoundSport Headphones',\n",
       " 'Google Phone;Wired Headphones',\n",
       " 'Bose SoundSport Headphones;Lightning Charging Cable',\n",
       " 'iPhone;Wired Headphones',\n",
       " 'AA Batteries (4-pack);USB-C Charging Cable',\n",
       " 'Vareebadd Phone;Bose SoundSport Headphones',\n",
       " 'Vareebadd Phone;USB-C Charging Cable',\n",
       " 'AAA Batteries (4-pack);AAA Batteries (4-pack)',\n",
       " 'AAA Batteries (4-pack);Bose SoundSport Headphones',\n",
       " 'Google Phone;Wired Headphones',\n",
       " 'Apple Airpods Headphones;Bose SoundSport Headphones',\n",
       " 'Bose SoundSport Headphones;Google Phone',\n",
       " 'AA Batteries (4-pack);Bose SoundSport Headphones',\n",
       " 'Flatscreen TV;iPhone',\n",
       " 'iPhone;Lightning Charging Cable',\n",
       " 'AA Batteries (4-pack);27in FHD Monitor',\n",
       " 'iPhone;Vareebadd Phone;Wired Headphones',\n",
       " 'AA Batteries (4-pack);Apple Airpods Headphones',\n",
       " 'Lightning Charging Cable;AAA Batteries (4-pack)',\n",
       " 'Vareebadd Phone;USB-C Charging Cable',\n",
       " 'Lightning Charging Cable;iPhone',\n",
       " 'Google Phone;USB-C Charging Cable',\n",
       " 'USB-C Charging Cable;Google Phone',\n",
       " 'AA Batteries (4-pack);Flatscreen TV',\n",
       " 'iPhone;Wired Headphones',\n",
       " '27in FHD Monitor;Lightning Charging Cable',\n",
       " 'Vareebadd Phone;Wired Headphones',\n",
       " 'iPhone;Lightning Charging Cable',\n",
       " 'Lightning Charging Cable;AAA Batteries (4-pack)',\n",
       " 'Wired Headphones;Lightning Charging Cable',\n",
       " 'Apple Airpods Headphones;iPhone',\n",
       " 'Wired Headphones;AAA Batteries (4-pack)',\n",
       " 'AA Batteries (4-pack);USB-C Charging Cable',\n",
       " 'Google Phone;USB-C Charging Cable',\n",
       " 'Wired Headphones;Google Phone',\n",
       " 'iPhone;Apple Airpods Headphones',\n",
       " 'Lightning Charging Cable;iPhone',\n",
       " 'Google Phone;Bose SoundSport Headphones',\n",
       " 'Google Phone;Wired Headphones',\n",
       " 'Bose SoundSport Headphones;USB-C Charging Cable',\n",
       " 'iPhone;USB-C Charging Cable',\n",
       " 'Wired Headphones;Vareebadd Phone;USB-C Charging Cable',\n",
       " 'USB-C Charging Cable;Google Phone',\n",
       " 'USB-C Charging Cable;Google Phone',\n",
       " 'iPhone;Lightning Charging Cable',\n",
       " '27in 4K Gaming Monitor;Wired Headphones',\n",
       " 'Macbook Pro Laptop;AAA Batteries (4-pack)',\n",
       " 'iPhone;Wired Headphones',\n",
       " 'Wired Headphones;Macbook Pro Laptop',\n",
       " 'Vareebadd Phone;Wired Headphones',\n",
       " 'USB-C Charging Cable;Lightning Charging Cable',\n",
       " 'Google Phone;USB-C Charging Cable',\n",
       " 'iPhone;Apple Airpods Headphones',\n",
       " 'Lightning Charging Cable;34in Ultrawide Monitor',\n",
       " 'USB-C Charging Cable;Google Phone',\n",
       " 'Wired Headphones;Google Phone',\n",
       " 'USB-C Charging Cable;Vareebadd Phone',\n",
       " 'Vareebadd Phone;Wired Headphones;USB-C Charging Cable',\n",
       " 'USB-C Charging Cable;Lightning Charging Cable',\n",
       " 'Wired Headphones;Lightning Charging Cable',\n",
       " 'Google Phone;USB-C Charging Cable',\n",
       " 'iPhone;Wired Headphones',\n",
       " 'Apple Airpods Headphones;AA Batteries (4-pack)',\n",
       " 'iPhone;Wired Headphones',\n",
       " 'iPhone;Wired Headphones',\n",
       " 'Apple Airpods Headphones;AAA Batteries (4-pack)',\n",
       " 'Google Phone;USB-C Charging Cable',\n",
       " 'iPhone;Apple Airpods Headphones',\n",
       " 'USB-C Charging Cable;Google Phone',\n",
       " '27in 4K Gaming Monitor;USB-C Charging Cable',\n",
       " 'USB-C Charging Cable;Google Phone',\n",
       " 'iPhone;AA Batteries (4-pack)',\n",
       " 'USB-C Charging Cable;AAA Batteries (4-pack)',\n",
       " 'Lightning Charging Cable;iPhone',\n",
       " 'Apple Airpods Headphones;USB-C Charging Cable',\n",
       " 'ThinkPad Laptop;Lightning Charging Cable',\n",
       " '27in FHD Monitor;LG Dryer',\n",
       " 'Lightning Charging Cable;iPhone',\n",
       " '20in Monitor;27in FHD Monitor',\n",
       " 'Lightning Charging Cable;Google Phone',\n",
       " 'Wired Headphones;Lightning Charging Cable',\n",
       " 'AAA Batteries (4-pack);Wired Headphones',\n",
       " 'AA Batteries (4-pack);20in Monitor',\n",
       " 'Google Phone;USB-C Charging Cable;Bose SoundSport Headphones',\n",
       " 'iPhone;Apple Airpods Headphones',\n",
       " 'LG Dryer;AA Batteries (4-pack)',\n",
       " 'Google Phone;USB-C Charging Cable',\n",
       " 'iPhone;Lightning Charging Cable',\n",
       " 'AA Batteries (4-pack);AA Batteries (4-pack)',\n",
       " 'Lightning Charging Cable;USB-C Charging Cable',\n",
       " '20in Monitor;Apple Airpods Headphones',\n",
       " 'USB-C Charging Cable;Vareebadd Phone',\n",
       " 'USB-C Charging Cable;Google Phone',\n",
       " '27in FHD Monitor;USB-C Charging Cable',\n",
       " 'Apple Airpods Headphones;USB-C Charging Cable',\n",
       " 'USB-C Charging Cable;Google Phone',\n",
       " 'Apple Airpods Headphones;iPhone',\n",
       " '27in 4K Gaming Monitor;Wired Headphones',\n",
       " 'Apple Airpods Headphones;iPhone',\n",
       " 'AAA Batteries (4-pack);Lightning Charging Cable',\n",
       " 'Flatscreen TV;Wired Headphones',\n",
       " 'USB-C Charging Cable;Vareebadd Phone',\n",
       " 'Vareebadd Phone;Apple Airpods Headphones',\n",
       " 'Bose SoundSport Headphones;Wired Headphones',\n",
       " 'Vareebadd Phone;USB-C Charging Cable',\n",
       " 'Lightning Charging Cable;Apple Airpods Headphones',\n",
       " '34in Ultrawide Monitor;34in Ultrawide Monitor',\n",
       " 'Google Phone;USB-C Charging Cable',\n",
       " 'Wired Headphones;Vareebadd Phone',\n",
       " 'Google Phone;USB-C Charging Cable',\n",
       " 'USB-C Charging Cable;Google Phone',\n",
       " '34in Ultrawide Monitor;USB-C Charging Cable',\n",
       " 'Vareebadd Phone;USB-C Charging Cable',\n",
       " 'AA Batteries (4-pack);34in Ultrawide Monitor',\n",
       " 'Wired Headphones;Lightning Charging Cable;iPhone',\n",
       " 'Wired Headphones;iPhone',\n",
       " 'Bose SoundSport Headphones;USB-C Charging Cable',\n",
       " 'Google Phone;Lightning Charging Cable',\n",
       " 'Flatscreen TV;USB-C Charging Cable',\n",
       " 'Google Phone;USB-C Charging Cable',\n",
       " 'Google Phone;USB-C Charging Cable',\n",
       " 'AAA Batteries (4-pack);Wired Headphones',\n",
       " 'Wired Headphones;Vareebadd Phone;Apple Airpods Headphones',\n",
       " 'Google Phone;Wired Headphones',\n",
       " 'Wired Headphones;Google Phone;USB-C Charging Cable',\n",
       " 'Flatscreen TV;Apple Airpods Headphones',\n",
       " 'Google Phone;USB-C Charging Cable',\n",
       " 'Vareebadd Phone;USB-C Charging Cable',\n",
       " 'Google Phone;USB-C Charging Cable',\n",
       " '20in Monitor;Macbook Pro Laptop',\n",
       " 'Wired Headphones;Google Phone',\n",
       " 'Google Phone;USB-C Charging Cable',\n",
       " '27in FHD Monitor;USB-C Charging Cable',\n",
       " 'Apple Airpods Headphones;iPhone',\n",
       " 'Lightning Charging Cable;USB-C Charging Cable',\n",
       " 'Google Phone;USB-C Charging Cable',\n",
       " 'Macbook Pro Laptop;Lightning Charging Cable',\n",
       " 'USB-C Charging Cable;AA Batteries (4-pack)',\n",
       " 'Lightning Charging Cable;iPhone',\n",
       " 'iPhone;Lightning Charging Cable',\n",
       " 'Lightning Charging Cable;Apple Airpods Headphones',\n",
       " 'iPhone;Lightning Charging Cable',\n",
       " 'Wired Headphones;Vareebadd Phone',\n",
       " 'Lightning Charging Cable;Lightning Charging Cable',\n",
       " 'AAA Batteries (4-pack);AA Batteries (4-pack)',\n",
       " 'USB-C Charging Cable;AA Batteries (4-pack)',\n",
       " 'USB-C Charging Cable;Google Phone',\n",
       " 'Google Phone;USB-C Charging Cable',\n",
       " 'AAA Batteries (4-pack);AA Batteries (4-pack)',\n",
       " 'Wired Headphones;iPhone',\n",
       " 'USB-C Charging Cable;Google Phone',\n",
       " 'USB-C Charging Cable;Google Phone',\n",
       " 'USB-C Charging Cable;Vareebadd Phone',\n",
       " 'USB-C Charging Cable;Apple Airpods Headphones',\n",
       " 'AAA Batteries (4-pack);AAA Batteries (4-pack)',\n",
       " 'iPhone;Lightning Charging Cable',\n",
       " 'Google Phone;USB-C Charging Cable',\n",
       " '27in 4K Gaming Monitor;AA Batteries (4-pack)',\n",
       " 'ThinkPad Laptop;AA Batteries (4-pack)',\n",
       " 'USB-C Charging Cable;Google Phone',\n",
       " 'AA Batteries (4-pack);27in 4K Gaming Monitor',\n",
       " 'Bose SoundSport Headphones;AA Batteries (4-pack)',\n",
       " 'iPhone;Wired Headphones',\n",
       " 'iPhone;Wired Headphones',\n",
       " 'iPhone;Lightning Charging Cable',\n",
       " 'Bose SoundSport Headphones;USB-C Charging Cable',\n",
       " 'Lightning Charging Cable;Bose SoundSport Headphones',\n",
       " 'Wired Headphones;AA Batteries (4-pack)',\n",
       " 'Wired Headphones;Google Phone',\n",
       " 'Wired Headphones;iPhone;Lightning Charging Cable;Google Phone;Apple Airpods Headphones',\n",
       " 'USB-C Charging Cable;Google Phone',\n",
       " 'Lightning Charging Cable;iPhone',\n",
       " 'AAA Batteries (4-pack);Apple Airpods Headphones',\n",
       " 'AAA Batteries (4-pack);iPhone',\n",
       " '27in 4K Gaming Monitor;USB-C Charging Cable',\n",
       " 'Wired Headphones;27in 4K Gaming Monitor;Vareebadd Phone',\n",
       " 'Google Phone;USB-C Charging Cable',\n",
       " '27in 4K Gaming Monitor;Macbook Pro Laptop',\n",
       " 'Google Phone;USB-C Charging Cable',\n",
       " 'Wired Headphones;iPhone',\n",
       " 'Bose SoundSport Headphones;Google Phone',\n",
       " '27in FHD Monitor;34in Ultrawide Monitor',\n",
       " 'Lightning Charging Cable;iPhone',\n",
       " 'Bose SoundSport Headphones;USB-C Charging Cable',\n",
       " 'iPhone;Lightning Charging Cable',\n",
       " 'iPhone;ThinkPad Laptop',\n",
       " 'iPhone;Lightning Charging Cable',\n",
       " 'USB-C Charging Cable;Google Phone',\n",
       " 'Bose SoundSport Headphones;USB-C Charging Cable',\n",
       " 'AAA Batteries (4-pack);Bose SoundSport Headphones',\n",
       " 'AAA Batteries (4-pack);Apple Airpods Headphones',\n",
       " 'Wired Headphones;Lightning Charging Cable',\n",
       " '27in 4K Gaming Monitor;20in Monitor',\n",
       " '20in Monitor;Lightning Charging Cable',\n",
       " '34in Ultrawide Monitor;Wired Headphones',\n",
       " 'Bose SoundSport Headphones;Vareebadd Phone',\n",
       " 'USB-C Charging Cable;Google Phone',\n",
       " 'Google Phone;Wired Headphones',\n",
       " 'Wired Headphones;Apple Airpods Headphones',\n",
       " 'Lightning Charging Cable;Wired Headphones',\n",
       " 'Lightning Charging Cable;iPhone',\n",
       " 'Google Phone;Bose SoundSport Headphones',\n",
       " 'Lightning Charging Cable;Wired Headphones',\n",
       " 'Lightning Charging Cable;iPhone',\n",
       " 'iPhone;Wired Headphones',\n",
       " 'iPhone;Lightning Charging Cable',\n",
       " 'Google Phone;Bose SoundSport Headphones',\n",
       " 'Lightning Charging Cable;iPhone',\n",
       " 'USB-C Charging Cable;34in Ultrawide Monitor',\n",
       " 'Apple Airpods Headphones;ThinkPad Laptop',\n",
       " 'AAA Batteries (4-pack);Lightning Charging Cable',\n",
       " 'iPhone;Apple Airpods Headphones',\n",
       " 'AAA Batteries (4-pack);AA Batteries (4-pack)',\n",
       " 'Wired Headphones;Lightning Charging Cable',\n",
       " 'LG Washing Machine;Lightning Charging Cable',\n",
       " 'Google Phone;USB-C Charging Cable;AAA Batteries (4-pack)',\n",
       " '34in Ultrawide Monitor;USB-C Charging Cable',\n",
       " 'USB-C Charging Cable;Vareebadd Phone',\n",
       " 'Google Phone;USB-C Charging Cable',\n",
       " 'USB-C Charging Cable;Google Phone',\n",
       " 'iPhone;Lightning Charging Cable;Wired Headphones',\n",
       " 'Lightning Charging Cable;iPhone',\n",
       " 'USB-C Charging Cable;AA Batteries (4-pack)',\n",
       " 'Vareebadd Phone;USB-C Charging Cable',\n",
       " 'Vareebadd Phone;Wired Headphones',\n",
       " 'Google Phone;USB-C Charging Cable',\n",
       " 'Flatscreen TV;AAA Batteries (4-pack)',\n",
       " 'AA Batteries (4-pack);Vareebadd Phone',\n",
       " 'AAA Batteries (4-pack);Wired Headphones',\n",
       " 'Google Phone;USB-C Charging Cable',\n",
       " 'iPhone;Lightning Charging Cable;27in 4K Gaming Monitor',\n",
       " 'AAA Batteries (4-pack);Macbook Pro Laptop',\n",
       " 'Google Phone;USB-C Charging Cable',\n",
       " 'Apple Airpods Headphones;20in Monitor',\n",
       " 'Vareebadd Phone;USB-C Charging Cable',\n",
       " 'Flatscreen TV;Flatscreen TV',\n",
       " '34in Ultrawide Monitor;Lightning Charging Cable',\n",
       " 'AAA Batteries (4-pack);Bose SoundSport Headphones',\n",
       " 'Vareebadd Phone;Wired Headphones',\n",
       " 'Lightning Charging Cable;iPhone',\n",
       " 'Wired Headphones;Lightning Charging Cable',\n",
       " 'iPhone;Wired Headphones',\n",
       " 'AA Batteries (4-pack);iPhone',\n",
       " 'Apple Airpods Headphones;iPhone',\n",
       " 'Wired Headphones;Google Phone',\n",
       " 'Wired Headphones;Apple Airpods Headphones',\n",
       " 'iPhone;Lightning Charging Cable',\n",
       " 'Lightning Charging Cable;iPhone',\n",
       " 'Google Phone;USB-C Charging Cable',\n",
       " 'iPhone;Lightning Charging Cable',\n",
       " 'Wired Headphones;iPhone',\n",
       " 'Lightning Charging Cable;iPhone',\n",
       " 'USB-C Charging Cable;Wired Headphones',\n",
       " 'AA Batteries (4-pack);AAA Batteries (4-pack)',\n",
       " 'Lightning Charging Cable;Apple Airpods Headphones',\n",
       " 'Google Phone;USB-C Charging Cable',\n",
       " 'USB-C Charging Cable;Vareebadd Phone',\n",
       " 'Vareebadd Phone;Wired Headphones',\n",
       " 'Bose SoundSport Headphones;Lightning Charging Cable',\n",
       " 'Bose SoundSport Headphones;Apple Airpods Headphones',\n",
       " 'iPhone;Apple Airpods Headphones',\n",
       " 'USB-C Charging Cable;Apple Airpods Headphones',\n",
       " 'iPhone;Lightning Charging Cable',\n",
       " 'AA Batteries (4-pack);34in Ultrawide Monitor',\n",
       " 'Bose SoundSport Headphones;Google Phone',\n",
       " 'USB-C Charging Cable;Vareebadd Phone',\n",
       " 'Vareebadd Phone;USB-C Charging Cable',\n",
       " 'Lightning Charging Cable;iPhone',\n",
       " 'Wired Headphones;Google Phone',\n",
       " 'Google Phone;USB-C Charging Cable',\n",
       " 'AAA Batteries (4-pack);AAA Batteries (4-pack)',\n",
       " '34in Ultrawide Monitor;Lightning Charging Cable',\n",
       " 'iPhone;Lightning Charging Cable',\n",
       " 'Lightning Charging Cable;USB-C Charging Cable',\n",
       " 'Lightning Charging Cable;iPhone',\n",
       " 'Google Phone;USB-C Charging Cable;Bose SoundSport Headphones',\n",
       " 'ThinkPad Laptop;Wired Headphones',\n",
       " 'Flatscreen TV;Wired Headphones',\n",
       " 'USB-C Charging Cable;Vareebadd Phone',\n",
       " '34in Ultrawide Monitor;USB-C Charging Cable',\n",
       " 'Wired Headphones;iPhone',\n",
       " 'Bose SoundSport Headphones;27in FHD Monitor',\n",
       " 'Google Phone;Bose SoundSport Headphones',\n",
       " 'Wired Headphones;Apple Airpods Headphones',\n",
       " 'Google Phone;USB-C Charging Cable',\n",
       " 'iPhone;Apple Airpods Headphones;Lightning Charging Cable',\n",
       " 'iPhone;Lightning Charging Cable',\n",
       " 'Bose SoundSport Headphones;Vareebadd Phone',\n",
       " 'Apple Airpods Headphones;Macbook Pro Laptop',\n",
       " 'AA Batteries (4-pack);USB-C Charging Cable',\n",
       " 'AA Batteries (4-pack);AA Batteries (4-pack)',\n",
       " 'iPhone;Lightning Charging Cable',\n",
       " 'USB-C Charging Cable;Google Phone',\n",
       " 'iPhone;Apple Airpods Headphones',\n",
       " 'Google Phone;USB-C Charging Cable',\n",
       " 'Wired Headphones;Vareebadd Phone',\n",
       " 'Google Phone;USB-C Charging Cable',\n",
       " 'Apple Airpods Headphones;27in FHD Monitor',\n",
       " '27in FHD Monitor;34in Ultrawide Monitor',\n",
       " 'iPhone;Lightning Charging Cable',\n",
       " 'AAA Batteries (4-pack);Lightning Charging Cable',\n",
       " 'Bose SoundSport Headphones;Flatscreen TV',\n",
       " 'iPhone;USB-C Charging Cable',\n",
       " 'Lightning Charging Cable;USB-C Charging Cable',\n",
       " 'Wired Headphones;Google Phone',\n",
       " 'Vareebadd Phone;27in 4K Gaming Monitor',\n",
       " 'Google Phone;USB-C Charging Cable',\n",
       " 'Bose SoundSport Headphones;Bose SoundSport Headphones',\n",
       " 'Lightning Charging Cable;AAA Batteries (4-pack)',\n",
       " 'USB-C Charging Cable;AA Batteries (4-pack)',\n",
       " 'USB-C Charging Cable;Google Phone',\n",
       " 'AA Batteries (4-pack);34in Ultrawide Monitor',\n",
       " 'Flatscreen TV;Lightning Charging Cable',\n",
       " 'Lightning Charging Cable;iPhone',\n",
       " 'AAA Batteries (4-pack);Wired Headphones',\n",
       " 'Apple Airpods Headphones;20in Monitor',\n",
       " 'iPhone;Lightning Charging Cable',\n",
       " 'Wired Headphones;iPhone',\n",
       " 'iPhone;Lightning Charging Cable;Wired Headphones',\n",
       " 'iPhone;Wired Headphones',\n",
       " 'Lightning Charging Cable;Bose SoundSport Headphones',\n",
       " 'iPhone;Lightning Charging Cable',\n",
       " 'Wired Headphones;Google Phone',\n",
       " 'Wired Headphones;AAA Batteries (4-pack)',\n",
       " 'Google Phone;USB-C Charging Cable',\n",
       " 'Flatscreen TV;Bose SoundSport Headphones',\n",
       " 'Google Phone;USB-C Charging Cable',\n",
       " 'Bose SoundSport Headphones;AA Batteries (4-pack)',\n",
       " 'AAA Batteries (4-pack);USB-C Charging Cable',\n",
       " 'AAA Batteries (4-pack);USB-C Charging Cable',\n",
       " '34in Ultrawide Monitor;Lightning Charging Cable',\n",
       " 'USB-C Charging Cable;AAA Batteries (4-pack)',\n",
       " 'Google Phone;USB-C Charging Cable',\n",
       " 'Bose SoundSport Headphones;Google Phone;USB-C Charging Cable',\n",
       " 'Apple Airpods Headphones;Bose SoundSport Headphones',\n",
       " 'Google Phone;Bose SoundSport Headphones',\n",
       " 'AAA Batteries (4-pack);AA Batteries (4-pack)',\n",
       " 'USB-C Charging Cable;Google Phone',\n",
       " 'AA Batteries (4-pack);34in Ultrawide Monitor',\n",
       " 'USB-C Charging Cable;Google Phone',\n",
       " 'Google Phone;USB-C Charging Cable',\n",
       " 'USB-C Charging Cable;Google Phone',\n",
       " 'Google Phone;USB-C Charging Cable',\n",
       " 'Apple Airpods Headphones;Bose SoundSport Headphones',\n",
       " 'Lightning Charging Cable;Lightning Charging Cable',\n",
       " 'Lightning Charging Cable;Macbook Pro Laptop',\n",
       " 'Vareebadd Phone;Wired Headphones',\n",
       " 'Apple Airpods Headphones;AA Batteries (4-pack)',\n",
       " 'Lightning Charging Cable;AA Batteries (4-pack)',\n",
       " 'iPhone;Lightning Charging Cable',\n",
       " 'Wired Headphones;Google Phone',\n",
       " 'USB-C Charging Cable;Vareebadd Phone',\n",
       " 'Google Phone;AA Batteries (4-pack)',\n",
       " 'Bose SoundSport Headphones;Google Phone',\n",
       " 'USB-C Charging Cable;Apple Airpods Headphones',\n",
       " 'Lightning Charging Cable;Wired Headphones',\n",
       " 'iPhone;USB-C Charging Cable',\n",
       " 'Lightning Charging Cable;iPhone',\n",
       " 'Lightning Charging Cable;Lightning Charging Cable',\n",
       " 'USB-C Charging Cable;ThinkPad Laptop',\n",
       " 'Google Phone;USB-C Charging Cable',\n",
       " 'iPhone;AA Batteries (4-pack)',\n",
       " 'Lightning Charging Cable;27in FHD Monitor',\n",
       " 'USB-C Charging Cable;Google Phone',\n",
       " 'USB-C Charging Cable;AAA Batteries (4-pack)',\n",
       " 'Google Phone;Wired Headphones',\n",
       " 'AAA Batteries (4-pack);Wired Headphones',\n",
       " 'Apple Airpods Headphones;Apple Airpods Headphones',\n",
       " 'iPhone;Lightning Charging Cable',\n",
       " 'Apple Airpods Headphones;Lightning Charging Cable',\n",
       " 'iPhone;Apple Airpods Headphones',\n",
       " 'Wired Headphones;AA Batteries (4-pack);USB-C Charging Cable;Google Phone',\n",
       " '34in Ultrawide Monitor;34in Ultrawide Monitor',\n",
       " 'AAA Batteries (4-pack);AAA Batteries (4-pack)',\n",
       " 'Wired Headphones;AAA Batteries (4-pack)',\n",
       " 'Lightning Charging Cable;iPhone',\n",
       " 'Vareebadd Phone;AA Batteries (4-pack)',\n",
       " 'Bose SoundSport Headphones;Wired Headphones',\n",
       " 'Lightning Charging Cable;iPhone',\n",
       " 'Google Phone;27in FHD Monitor',\n",
       " 'Wired Headphones;Apple Airpods Headphones',\n",
       " 'Wired Headphones;AA Batteries (4-pack)',\n",
       " 'Lightning Charging Cable;iPhone',\n",
       " 'Vareebadd Phone;Wired Headphones',\n",
       " 'Vareebadd Phone;USB-C Charging Cable',\n",
       " 'USB-C Charging Cable;USB-C Charging Cable',\n",
       " 'Wired Headphones;Google Phone;USB-C Charging Cable',\n",
       " 'Bose SoundSport Headphones;34in Ultrawide Monitor',\n",
       " 'USB-C Charging Cable;Vareebadd Phone',\n",
       " 'iPhone;Apple Airpods Headphones',\n",
       " 'Wired Headphones;Google Phone',\n",
       " 'Lightning Charging Cable;iPhone',\n",
       " 'Google Phone;Wired Headphones',\n",
       " 'AAA Batteries (4-pack);Lightning Charging Cable',\n",
       " 'USB-C Charging Cable;Lightning Charging Cable',\n",
       " 'Lightning Charging Cable;ThinkPad Laptop',\n",
       " 'iPhone;Wired Headphones',\n",
       " '27in FHD Monitor;Vareebadd Phone',\n",
       " 'Bose SoundSport Headphones;Google Phone',\n",
       " 'USB-C Charging Cable;Google Phone',\n",
       " 'Wired Headphones;Vareebadd Phone',\n",
       " 'Lightning Charging Cable;Wired Headphones',\n",
       " 'Wired Headphones;Apple Airpods Headphones',\n",
       " 'Wired Headphones;27in FHD Monitor',\n",
       " 'Apple Airpods Headphones;Lightning Charging Cable',\n",
       " 'USB-C Charging Cable;Google Phone',\n",
       " 'iPhone;Lightning Charging Cable',\n",
       " 'iPhone;AAA Batteries (4-pack)',\n",
       " ...]"
      ]
     },
     "execution_count": 110,
     "metadata": {},
     "output_type": "execute_result"
    }
   ],
   "source": [
    "ensemble.to_list()"
   ]
  },
  {
   "cell_type": "code",
   "execution_count": 111,
   "metadata": {},
   "outputs": [],
   "source": [
    "for achat in ensemble.to_list():\n",
    "    products = achat.split(';')\n",
    "#     print(products)\n",
    "    count.update(Counter(combinations(products, 2)))"
   ]
  },
  {
   "cell_type": "code",
   "execution_count": 112,
   "metadata": {},
   "outputs": [
    {
     "data": {
      "text/plain": [
       "Counter({('USB-C Charging Cable', 'Wired Headphones'): 109,\n",
       "         ('Apple Airpods Headphones', 'AA Batteries (4-pack)'): 39,\n",
       "         ('Vareebadd Phone', 'Wired Headphones'): 78,\n",
       "         ('USB-C Charging Cable', 'Google Phone'): 480,\n",
       "         ('Bose SoundSport Headphones', 'Google Phone'): 104,\n",
       "         ('iPhone', 'Apple Airpods Headphones'): 181,\n",
       "         ('Google Phone', 'Apple Airpods Headphones'): 12,\n",
       "         ('Wired Headphones', 'iPhone'): 223,\n",
       "         ('Wired Headphones', 'Apple Airpods Headphones'): 63,\n",
       "         ('USB-C Charging Cable', 'Apple Airpods Headphones'): 32,\n",
       "         ('Wired Headphones', 'Lightning Charging Cable'): 62,\n",
       "         ('iPhone', 'Lightning Charging Cable'): 494,\n",
       "         ('Bose SoundSport Headphones', '27in FHD Monitor'): 20,\n",
       "         ('iPhone', 'Wired Headphones'): 229,\n",
       "         ('AA Batteries (4-pack)', 'AAA Batteries (4-pack)'): 38,\n",
       "         ('Wired Headphones', 'Vareebadd Phone'): 69,\n",
       "         ('Wired Headphones', 'USB-C Charging Cable'): 89,\n",
       "         ('Vareebadd Phone', 'USB-C Charging Cable'): 182,\n",
       "         ('Lightning Charging Cable', '34in Ultrawide Monitor'): 14,\n",
       "         ('Bose SoundSport Headphones', 'Lightning Charging Cable'): 33,\n",
       "         ('Wired Headphones', 'Google Phone'): 197,\n",
       "         ('Lightning Charging Cable', 'Apple Airpods Headphones'): 48,\n",
       "         ('Google Phone', 'iPhone'): 4,\n",
       "         ('20in Monitor', 'Wired Headphones'): 8,\n",
       "         ('AA Batteries (4-pack)', 'AA Batteries (4-pack)'): 35,\n",
       "         ('Lightning Charging Cable', 'iPhone'): 489,\n",
       "         ('Bose SoundSport Headphones', '20in Monitor'): 7,\n",
       "         ('Google Phone', 'Bose SoundSport Headphones'): 123,\n",
       "         ('Google Phone', 'Wired Headphones'): 213,\n",
       "         ('Bose SoundSport Headphones', 'Wired Headphones'): 34,\n",
       "         ('USB-C Charging Cable', 'Vareebadd Phone'): 172,\n",
       "         ('Bose SoundSport Headphones', 'Vareebadd Phone'): 45,\n",
       "         ('Google Phone', 'USB-C Charging Cable'): 486,\n",
       "         ('27in 4K Gaming Monitor', 'AAA Batteries (4-pack)'): 19,\n",
       "         ('USB-C Charging Cable', 'AA Batteries (4-pack)'): 39,\n",
       "         ('Lightning Charging Cable', 'USB-C Charging Cable'): 50,\n",
       "         ('Macbook Pro Laptop', 'AA Batteries (4-pack)'): 7,\n",
       "         ('Macbook Pro Laptop', 'Bose SoundSport Headphones'): 8,\n",
       "         ('34in Ultrawide Monitor', 'Wired Headphones'): 11,\n",
       "         ('Wired Headphones', 'Bose SoundSport Headphones'): 38,\n",
       "         ('Apple Airpods Headphones', 'Lightning Charging Cable'): 63,\n",
       "         ('Apple Airpods Headphones', 'iPhone'): 174,\n",
       "         ('Wired Headphones', 'AA Batteries (4-pack)'): 50,\n",
       "         ('20in Monitor', 'USB-C Charging Cable'): 12,\n",
       "         ('Apple Airpods Headphones', 'Bose SoundSport Headphones'): 31,\n",
       "         ('ThinkPad Laptop', 'Wired Headphones'): 5,\n",
       "         ('Flatscreen TV', 'LG Dryer'): 1,\n",
       "         ('AAA Batteries (4-pack)', 'Apple Airpods Headphones'): 38,\n",
       "         ('AA Batteries (4-pack)', 'Bose SoundSport Headphones'): 25,\n",
       "         ('34in Ultrawide Monitor', 'Lightning Charging Cable'): 18,\n",
       "         ('Apple Airpods Headphones', 'USB-C Charging Cable'): 30,\n",
       "         ('Apple Airpods Headphones', 'ThinkPad Laptop'): 10,\n",
       "         ('AAA Batteries (4-pack)', 'Flatscreen TV'): 10,\n",
       "         ('AAA Batteries (4-pack)', 'USB-C Charging Cable'): 49,\n",
       "         ('27in FHD Monitor', 'USB-C Charging Cable'): 24,\n",
       "         ('27in 4K Gaming Monitor', 'AA Batteries (4-pack)'): 18,\n",
       "         ('USB-C Charging Cable', '20in Monitor'): 13,\n",
       "         ('27in 4K Gaming Monitor', 'iPhone'): 6,\n",
       "         ('Lightning Charging Cable', 'AAA Batteries (4-pack)'): 38,\n",
       "         ('USB-C Charging Cable', 'Lightning Charging Cable'): 49,\n",
       "         ('Lightning Charging Cable', '27in FHD Monitor'): 16,\n",
       "         ('USB-C Charging Cable', 'Flatscreen TV'): 8,\n",
       "         ('Bose SoundSport Headphones', 'LG Washing Machine'): 1,\n",
       "         ('Macbook Pro Laptop', 'Lightning Charging Cable'): 14,\n",
       "         ('AAA Batteries (4-pack)', 'AA Batteries (4-pack)'): 48,\n",
       "         ('iPhone', 'USB-C Charging Cable'): 18,\n",
       "         ('Lightning Charging Cable', 'AA Batteries (4-pack)'): 52,\n",
       "         ('AA Batteries (4-pack)', 'USB-C Charging Cable'): 34,\n",
       "         ('LG Dryer', 'AA Batteries (4-pack)'): 5,\n",
       "         ('USB-C Charging Cable', 'Bose SoundSport Headphones'): 51,\n",
       "         ('Apple Airpods Headphones', 'AAA Batteries (4-pack)'): 39,\n",
       "         ('Lightning Charging Cable', 'Lightning Charging Cable'): 53,\n",
       "         ('AAA Batteries (4-pack)', 'Vareebadd Phone'): 4,\n",
       "         ('Apple Airpods Headphones', 'Flatscreen TV'): 4,\n",
       "         ('AAA Batteries (4-pack)', 'Wired Headphones'): 42,\n",
       "         ('Bose SoundSport Headphones', 'AAA Batteries (4-pack)'): 27,\n",
       "         ('Wired Headphones', 'ThinkPad Laptop'): 9,\n",
       "         ('Lightning Charging Cable', 'Flatscreen TV'): 9,\n",
       "         ('AA Batteries (4-pack)', 'Wired Headphones'): 31,\n",
       "         ('Wired Headphones', 'AAA Batteries (4-pack)'): 42,\n",
       "         ('Bose SoundSport Headphones', 'USB-C Charging Cable'): 50,\n",
       "         ('Google Phone', 'Lightning Charging Cable'): 16,\n",
       "         ('AA Batteries (4-pack)', 'Flatscreen TV'): 10,\n",
       "         ('Flatscreen TV', '34in Ultrawide Monitor'): 4,\n",
       "         ('27in FHD Monitor', 'Bose SoundSport Headphones'): 6,\n",
       "         ('AAA Batteries (4-pack)', '27in FHD Monitor'): 22,\n",
       "         ('AA Batteries (4-pack)', 'LG Dryer'): 1,\n",
       "         ('Lightning Charging Cable', 'Bose SoundSport Headphones'): 35,\n",
       "         ('Flatscreen TV', 'Apple Airpods Headphones'): 9,\n",
       "         ('Google Phone', 'Google Phone'): 3,\n",
       "         ('27in 4K Gaming Monitor', '27in FHD Monitor'): 5,\n",
       "         ('34in Ultrawide Monitor', 'AA Batteries (4-pack)'): 15,\n",
       "         ('Wired Headphones', 'Flatscreen TV'): 3,\n",
       "         ('27in FHD Monitor', 'AAA Batteries (4-pack)'): 18,\n",
       "         ('Lightning Charging Cable', 'Wired Headphones'): 66,\n",
       "         ('27in 4K Gaming Monitor', 'USB-C Charging Cable'): 15,\n",
       "         ('AAA Batteries (4-pack)', '34in Ultrawide Monitor'): 15,\n",
       "         ('Wired Headphones', 'Wired Headphones'): 35,\n",
       "         ('AA Batteries (4-pack)', 'Google Phone'): 16,\n",
       "         ('Apple Airpods Headphones', 'Macbook Pro Laptop'): 10,\n",
       "         ('USB-C Charging Cable', '34in Ultrawide Monitor'): 11,\n",
       "         ('20in Monitor', 'Lightning Charging Cable'): 11,\n",
       "         ('USB-C Charging Cable', 'AAA Batteries (4-pack)'): 43,\n",
       "         ('USB-C Charging Cable', 'ThinkPad Laptop'): 10,\n",
       "         ('AAA Batteries (4-pack)', 'Lightning Charging Cable'): 41,\n",
       "         ('Bose SoundSport Headphones', 'Macbook Pro Laptop'): 7,\n",
       "         ('Bose SoundSport Headphones', '27in 4K Gaming Monitor'): 9,\n",
       "         ('USB-C Charging Cable', 'USB-C Charging Cable'): 46,\n",
       "         ('Flatscreen TV', 'AA Batteries (4-pack)'): 10,\n",
       "         ('Lightning Charging Cable', '27in 4K Gaming Monitor'): 21,\n",
       "         ('Apple Airpods Headphones', 'Apple Airpods Headphones'): 23,\n",
       "         ('Apple Airpods Headphones', '27in FHD Monitor'): 13,\n",
       "         ('Apple Airpods Headphones', '34in Ultrawide Monitor'): 5,\n",
       "         ('ThinkPad Laptop', 'AA Batteries (4-pack)'): 10,\n",
       "         ('Wired Headphones', '27in FHD Monitor'): 10,\n",
       "         ('27in FHD Monitor', 'Wired Headphones'): 12,\n",
       "         ('Apple Airpods Headphones', 'Google Phone'): 9,\n",
       "         ('Flatscreen TV', 'Google Phone'): 3,\n",
       "         ('iPhone', 'Macbook Pro Laptop'): 4,\n",
       "         ('Apple Airpods Headphones', 'Wired Headphones'): 35,\n",
       "         ('iPhone', 'iPhone'): 2,\n",
       "         ('Google Phone', 'LG Washing Machine'): 1,\n",
       "         ('LG Washing Machine', 'Wired Headphones'): 1,\n",
       "         ('27in FHD Monitor', 'Macbook Pro Laptop'): 2,\n",
       "         ('AA Batteries (4-pack)', 'Lightning Charging Cable'): 50,\n",
       "         ('Vareebadd Phone', 'Bose SoundSport Headphones'): 31,\n",
       "         ('iPhone', 'Google Phone'): 5,\n",
       "         ('AAA Batteries (4-pack)', 'ThinkPad Laptop'): 15,\n",
       "         ('AAA Batteries (4-pack)', '27in 4K Gaming Monitor'): 10,\n",
       "         ('Bose SoundSport Headphones', 'Bose SoundSport Headphones'): 27,\n",
       "         ('AA Batteries (4-pack)', 'Apple Airpods Headphones'): 29,\n",
       "         ('AAA Batteries (4-pack)', 'iPhone'): 17,\n",
       "         ('Macbook Pro Laptop', 'AAA Batteries (4-pack)'): 8,\n",
       "         ('Bose SoundSport Headphones', 'Flatscreen TV'): 6,\n",
       "         ('AA Batteries (4-pack)', '27in 4K Gaming Monitor'): 7,\n",
       "         ('27in 4K Gaming Monitor', 'Macbook Pro Laptop'): 5,\n",
       "         ('Vareebadd Phone', 'Google Phone'): 4,\n",
       "         ('ThinkPad Laptop', 'Bose SoundSport Headphones'): 5,\n",
       "         ('Vareebadd Phone', 'AA Batteries (4-pack)'): 6,\n",
       "         ('Macbook Pro Laptop', 'Wired Headphones'): 13,\n",
       "         ('27in 4K Gaming Monitor', 'Google Phone'): 4,\n",
       "         ('Macbook Pro Laptop', '27in 4K Gaming Monitor'): 7,\n",
       "         ('AAA Batteries (4-pack)', 'AAA Batteries (4-pack)'): 46,\n",
       "         ('Bose SoundSport Headphones', 'ThinkPad Laptop'): 7,\n",
       "         ('27in 4K Gaming Monitor', 'Wired Headphones'): 12,\n",
       "         ('34in Ultrawide Monitor', 'AAA Batteries (4-pack)'): 9,\n",
       "         ('27in 4K Gaming Monitor', '27in 4K Gaming Monitor'): 5,\n",
       "         ('AA Batteries (4-pack)', '34in Ultrawide Monitor'): 17,\n",
       "         ('Macbook Pro Laptop', '27in FHD Monitor'): 5,\n",
       "         ('Google Phone', 'AAA Batteries (4-pack)'): 8,\n",
       "         ('Lightning Charging Cable', 'ThinkPad Laptop'): 11,\n",
       "         ('27in 4K Gaming Monitor', 'Bose SoundSport Headphones'): 9,\n",
       "         ('34in Ultrawide Monitor', 'Apple Airpods Headphones'): 8,\n",
       "         ('AAA Batteries (4-pack)', 'Bose SoundSport Headphones'): 28,\n",
       "         ('Flatscreen TV', 'iPhone'): 7,\n",
       "         ('AA Batteries (4-pack)', '27in FHD Monitor'): 14,\n",
       "         ('iPhone', 'Vareebadd Phone'): 3,\n",
       "         ('27in FHD Monitor', 'Lightning Charging Cable'): 20,\n",
       "         ('Wired Headphones', 'Macbook Pro Laptop'): 6,\n",
       "         ('iPhone', 'AA Batteries (4-pack)'): 11,\n",
       "         ('ThinkPad Laptop', 'Lightning Charging Cable'): 7,\n",
       "         ('27in FHD Monitor', 'LG Dryer'): 2,\n",
       "         ('20in Monitor', '27in FHD Monitor'): 2,\n",
       "         ('Lightning Charging Cable', 'Google Phone'): 12,\n",
       "         ('AA Batteries (4-pack)', '20in Monitor'): 5,\n",
       "         ('20in Monitor', 'Apple Airpods Headphones'): 5,\n",
       "         ('Flatscreen TV', 'Wired Headphones'): 7,\n",
       "         ('Vareebadd Phone', 'Apple Airpods Headphones'): 7,\n",
       "         ('34in Ultrawide Monitor', '34in Ultrawide Monitor'): 7,\n",
       "         ('34in Ultrawide Monitor', 'USB-C Charging Cable'): 15,\n",
       "         ('Flatscreen TV', 'USB-C Charging Cable'): 9,\n",
       "         ('20in Monitor', 'Macbook Pro Laptop'): 2,\n",
       "         ('Bose SoundSport Headphones', 'AA Batteries (4-pack)'): 26,\n",
       "         ('Wired Headphones', '27in 4K Gaming Monitor'): 15,\n",
       "         ('27in 4K Gaming Monitor', 'Vareebadd Phone'): 2,\n",
       "         ('27in FHD Monitor', '34in Ultrawide Monitor'): 6,\n",
       "         ('iPhone', 'ThinkPad Laptop'): 5,\n",
       "         ('27in 4K Gaming Monitor', '20in Monitor'): 2,\n",
       "         ('LG Washing Machine', 'Lightning Charging Cable'): 4,\n",
       "         ('Flatscreen TV', 'AAA Batteries (4-pack)'): 10,\n",
       "         ('AA Batteries (4-pack)', 'Vareebadd Phone'): 5,\n",
       "         ('iPhone', '27in 4K Gaming Monitor'): 3,\n",
       "         ('AAA Batteries (4-pack)', 'Macbook Pro Laptop'): 9,\n",
       "         ('Apple Airpods Headphones', '20in Monitor'): 7,\n",
       "         ('Flatscreen TV', 'Flatscreen TV'): 6,\n",
       "         ('AA Batteries (4-pack)', 'iPhone'): 20,\n",
       "         ('Bose SoundSport Headphones', 'Apple Airpods Headphones'): 19,\n",
       "         ('Vareebadd Phone', '27in 4K Gaming Monitor'): 1,\n",
       "         ('Flatscreen TV', 'Lightning Charging Cable'): 11,\n",
       "         ('Flatscreen TV', 'Bose SoundSport Headphones'): 6,\n",
       "         ('Lightning Charging Cable', 'Macbook Pro Laptop'): 7,\n",
       "         ('Google Phone', 'AA Batteries (4-pack)'): 8,\n",
       "         ('Google Phone', '27in FHD Monitor'): 4,\n",
       "         ('Bose SoundSport Headphones', '34in Ultrawide Monitor'): 11,\n",
       "         ('27in FHD Monitor', 'Vareebadd Phone'): 1,\n",
       "         ('iPhone', 'AAA Batteries (4-pack)'): 11,\n",
       "         ('LG Washing Machine', '27in 4K Gaming Monitor'): 1,\n",
       "         ('ThinkPad Laptop', 'Flatscreen TV'): 4,\n",
       "         ('Apple Airpods Headphones', '27in 4K Gaming Monitor'): 14,\n",
       "         ('27in 4K Gaming Monitor', 'Lightning Charging Cable'): 11,\n",
       "         ('Flatscreen TV', '27in 4K Gaming Monitor'): 5,\n",
       "         ('27in FHD Monitor', '27in FHD Monitor'): 9,\n",
       "         ('Bose SoundSport Headphones', 'iPhone'): 8,\n",
       "         ('Lightning Charging Cable', '20in Monitor'): 13,\n",
       "         ('ThinkPad Laptop', 'USB-C Charging Cable'): 10,\n",
       "         ('ThinkPad Laptop', 'Vareebadd Phone'): 1,\n",
       "         ('34in Ultrawide Monitor', 'Google Phone'): 4,\n",
       "         ('ThinkPad Laptop', 'Apple Airpods Headphones'): 6,\n",
       "         ('AAA Batteries (4-pack)', 'LG Washing Machine'): 2,\n",
       "         ('LG Washing Machine', 'Apple Airpods Headphones'): 1,\n",
       "         ('27in 4K Gaming Monitor', '34in Ultrawide Monitor'): 4,\n",
       "         ('LG Washing Machine', 'AAA Batteries (4-pack)'): 2,\n",
       "         ('20in Monitor', 'Bose SoundSport Headphones'): 8,\n",
       "         ('AA Batteries (4-pack)', 'Macbook Pro Laptop'): 10,\n",
       "         ('20in Monitor', '20in Monitor'): 3,\n",
       "         ('Flatscreen TV', '27in FHD Monitor'): 4,\n",
       "         ('iPhone', 'Bose SoundSport Headphones'): 4,\n",
       "         ('27in 4K Gaming Monitor', 'LG Dryer'): 2,\n",
       "         ('20in Monitor', 'LG Washing Machine'): 2,\n",
       "         ('Wired Headphones', 'LG Washing Machine'): 3,\n",
       "         ('USB-C Charging Cable', '27in FHD Monitor'): 19,\n",
       "         ('Apple Airpods Headphones', 'LG Dryer'): 2,\n",
       "         ('Google Phone', 'LG Dryer'): 1,\n",
       "         ('USB-C Charging Cable', 'iPhone'): 11,\n",
       "         ('20in Monitor', 'AAA Batteries (4-pack)'): 5,\n",
       "         ('ThinkPad Laptop', 'AAA Batteries (4-pack)'): 12,\n",
       "         ('Macbook Pro Laptop', 'ThinkPad Laptop'): 2,\n",
       "         ('Macbook Pro Laptop', '34in Ultrawide Monitor'): 4,\n",
       "         ('Macbook Pro Laptop', 'Apple Airpods Headphones'): 6,\n",
       "         ('Macbook Pro Laptop', '20in Monitor'): 4,\n",
       "         ('27in FHD Monitor', 'Apple Airpods Headphones'): 11,\n",
       "         ('LG Dryer', 'Lightning Charging Cable'): 1,\n",
       "         ('Lightning Charging Cable', 'Vareebadd Phone'): 2,\n",
       "         ('27in 4K Gaming Monitor', 'Apple Airpods Headphones'): 7,\n",
       "         ('AAA Batteries (4-pack)', 'Google Phone'): 14,\n",
       "         ('Wired Headphones', '34in Ultrawide Monitor'): 17,\n",
       "         ('34in Ultrawide Monitor', 'iPhone'): 8,\n",
       "         ('Vareebadd Phone', 'iPhone'): 4,\n",
       "         ('Wired Headphones', '20in Monitor'): 10,\n",
       "         ('Vareebadd Phone', '34in Ultrawide Monitor'): 4,\n",
       "         ('34in Ultrawide Monitor', 'Bose SoundSport Headphones'): 5,\n",
       "         ('27in FHD Monitor', 'AA Batteries (4-pack)'): 12,\n",
       "         ('27in FHD Monitor', 'Google Phone'): 4,\n",
       "         ('AA Batteries (4-pack)', 'ThinkPad Laptop'): 7,\n",
       "         ('27in FHD Monitor', 'iPhone'): 1,\n",
       "         ('USB-C Charging Cable', 'Macbook Pro Laptop'): 8,\n",
       "         ('ThinkPad Laptop', 'Macbook Pro Laptop'): 2,\n",
       "         ('Google Phone', '34in Ultrawide Monitor'): 1,\n",
       "         ('iPhone', '34in Ultrawide Monitor'): 5,\n",
       "         ('Google Phone', 'ThinkPad Laptop'): 4,\n",
       "         ('Vareebadd Phone', '27in FHD Monitor'): 1,\n",
       "         ('ThinkPad Laptop', '27in 4K Gaming Monitor'): 2,\n",
       "         ('20in Monitor', 'AA Batteries (4-pack)'): 10,\n",
       "         ('Apple Airpods Headphones', 'Vareebadd Phone'): 4,\n",
       "         ('27in FHD Monitor', 'ThinkPad Laptop'): 2,\n",
       "         ('USB-C Charging Cable', '27in 4K Gaming Monitor'): 6,\n",
       "         ('Flatscreen TV', '20in Monitor'): 2,\n",
       "         ('Macbook Pro Laptop', 'USB-C Charging Cable'): 10,\n",
       "         ('USB-C Charging Cable', 'LG Dryer'): 1,\n",
       "         ('Macbook Pro Laptop', 'Macbook Pro Laptop'): 2,\n",
       "         ('Macbook Pro Laptop', 'Flatscreen TV'): 2,\n",
       "         ('Google Phone', 'Flatscreen TV'): 1,\n",
       "         ('Macbook Pro Laptop', 'iPhone'): 2,\n",
       "         ('27in FHD Monitor', '27in 4K Gaming Monitor'): 3,\n",
       "         ('34in Ultrawide Monitor', '27in 4K Gaming Monitor'): 2,\n",
       "         ('iPhone', 'Flatscreen TV'): 3,\n",
       "         ('LG Washing Machine', '34in Ultrawide Monitor'): 1,\n",
       "         ('Google Phone', 'Macbook Pro Laptop'): 3,\n",
       "         ('Google Phone', '27in 4K Gaming Monitor'): 2,\n",
       "         ('34in Ultrawide Monitor', 'Flatscreen TV'): 3,\n",
       "         ('LG Washing Machine', 'iPhone'): 1,\n",
       "         ('LG Dryer', 'Wired Headphones'): 1,\n",
       "         ('27in 4K Gaming Monitor', 'ThinkPad Laptop'): 3,\n",
       "         ('34in Ultrawide Monitor', '27in FHD Monitor'): 4,\n",
       "         ('27in FHD Monitor', 'LG Washing Machine'): 1,\n",
       "         ('Flatscreen TV', 'ThinkPad Laptop'): 2,\n",
       "         ('20in Monitor', '34in Ultrawide Monitor'): 2,\n",
       "         ('Vareebadd Phone', 'AAA Batteries (4-pack)'): 2,\n",
       "         ('Google Phone', '20in Monitor'): 3,\n",
       "         ('ThinkPad Laptop', 'Google Phone'): 1,\n",
       "         ('Lightning Charging Cable', 'LG Washing Machine'): 2,\n",
       "         ('LG Washing Machine', 'Bose SoundSport Headphones'): 1,\n",
       "         ('ThinkPad Laptop', 'iPhone'): 1,\n",
       "         ('Vareebadd Phone', 'Flatscreen TV'): 2,\n",
       "         ('AAA Batteries (4-pack)', '20in Monitor'): 5,\n",
       "         ('Flatscreen TV', 'Macbook Pro Laptop'): 2,\n",
       "         ('Lightning Charging Cable', 'LG Dryer'): 2,\n",
       "         ('iPhone', '20in Monitor'): 2,\n",
       "         ('Macbook Pro Laptop', 'LG Washing Machine'): 2,\n",
       "         ('ThinkPad Laptop', '34in Ultrawide Monitor'): 4,\n",
       "         ('Vareebadd Phone', 'LG Dryer'): 1,\n",
       "         ('20in Monitor', 'Google Phone'): 1,\n",
       "         ('Macbook Pro Laptop', 'Google Phone'): 4,\n",
       "         ('LG Dryer', 'ThinkPad Laptop'): 1,\n",
       "         ('27in FHD Monitor', 'Flatscreen TV'): 1,\n",
       "         ('AA Batteries (4-pack)', 'LG Washing Machine'): 1,\n",
       "         ('ThinkPad Laptop', '20in Monitor'): 1,\n",
       "         ('ThinkPad Laptop', '27in FHD Monitor'): 4,\n",
       "         ('AAA Batteries (4-pack)', 'LG Dryer'): 1,\n",
       "         ('iPhone', 'LG Washing Machine'): 1,\n",
       "         ('27in FHD Monitor', '20in Monitor'): 2,\n",
       "         ('34in Ultrawide Monitor', 'Macbook Pro Laptop'): 3,\n",
       "         ('Flatscreen TV', 'Vareebadd Phone'): 1,\n",
       "         ('LG Dryer', 'AAA Batteries (4-pack)'): 1,\n",
       "         ('Vareebadd Phone', 'Lightning Charging Cable'): 2,\n",
       "         ('LG Dryer', 'Apple Airpods Headphones'): 1,\n",
       "         ('Google Phone', 'Vareebadd Phone'): 1,\n",
       "         ('ThinkPad Laptop', 'ThinkPad Laptop'): 2,\n",
       "         ('Vareebadd Phone', 'ThinkPad Laptop'): 1,\n",
       "         ('20in Monitor', 'ThinkPad Laptop'): 1})"
      ]
     },
     "execution_count": 112,
     "metadata": {},
     "output_type": "execute_result"
    }
   ],
   "source": [
    "count"
   ]
  },
  {
   "cell_type": "code",
   "execution_count": 113,
   "metadata": {},
   "outputs": [
    {
     "data": {
      "text/plain": [
       "[(('iPhone', 'Lightning Charging Cable'), 494)]"
      ]
     },
     "execution_count": 113,
     "metadata": {},
     "output_type": "execute_result"
    }
   ],
   "source": [
    "count.most_common(1)"
   ]
  },
  {
   "cell_type": "code",
   "execution_count": 114,
   "metadata": {},
   "outputs": [
    {
     "name": "stdout",
     "output_type": "stream",
     "text": [
      "('iPhone', 'Lightning Charging Cable') 494\n",
      "('Lightning Charging Cable', 'iPhone') 489\n",
      "('Google Phone', 'USB-C Charging Cable') 486\n",
      "('USB-C Charging Cable', 'Google Phone') 480\n",
      "('iPhone', 'Wired Headphones') 229\n",
      "('Wired Headphones', 'iPhone') 223\n",
      "('Google Phone', 'Wired Headphones') 213\n",
      "('Wired Headphones', 'Google Phone') 197\n",
      "('Vareebadd Phone', 'USB-C Charging Cable') 182\n",
      "('iPhone', 'Apple Airpods Headphones') 181\n"
     ]
    }
   ],
   "source": [
    "for ensemble, c in count.most_common(10):\n",
    "    print(ensemble, c)"
   ]
  },
  {
   "cell_type": "code",
   "execution_count": null,
   "metadata": {},
   "outputs": [],
   "source": []
  },
  {
   "cell_type": "markdown",
   "metadata": {},
   "source": [
    "# Produit le plus vendu"
   ]
  },
  {
   "cell_type": "code",
   "execution_count": 115,
   "metadata": {},
   "outputs": [
    {
     "data": {
      "text/html": [
       "<div>\n",
       "<style scoped>\n",
       "    .dataframe tbody tr th:only-of-type {\n",
       "        vertical-align: middle;\n",
       "    }\n",
       "\n",
       "    .dataframe tbody tr th {\n",
       "        vertical-align: top;\n",
       "    }\n",
       "\n",
       "    .dataframe thead th {\n",
       "        text-align: right;\n",
       "    }\n",
       "</style>\n",
       "<table border=\"1\" class=\"dataframe\">\n",
       "  <thead>\n",
       "    <tr style=\"text-align: right;\">\n",
       "      <th></th>\n",
       "      <th>Order ID</th>\n",
       "      <th>Product</th>\n",
       "      <th>Quantity Ordered</th>\n",
       "      <th>Price Each</th>\n",
       "      <th>Purchase Address</th>\n",
       "      <th>Month</th>\n",
       "      <th>chiffre_daffaire</th>\n",
       "      <th>ville</th>\n",
       "      <th>heure</th>\n",
       "      <th>time</th>\n",
       "    </tr>\n",
       "    <tr>\n",
       "      <th>Order Date</th>\n",
       "      <th></th>\n",
       "      <th></th>\n",
       "      <th></th>\n",
       "      <th></th>\n",
       "      <th></th>\n",
       "      <th></th>\n",
       "      <th></th>\n",
       "      <th></th>\n",
       "      <th></th>\n",
       "      <th></th>\n",
       "    </tr>\n",
       "  </thead>\n",
       "  <tbody>\n",
       "    <tr>\n",
       "      <th>2019-01-01 03:07:00</th>\n",
       "      <td>147268</td>\n",
       "      <td>Wired Headphones</td>\n",
       "      <td>1</td>\n",
       "      <td>11.99</td>\n",
       "      <td>9 Lake St, New York City, NY 10001</td>\n",
       "      <td>January</td>\n",
       "      <td>11.99</td>\n",
       "      <td>New York City</td>\n",
       "      <td>3</td>\n",
       "      <td>03:07:00</td>\n",
       "    </tr>\n",
       "    <tr>\n",
       "      <th>2019-01-01 03:40:00</th>\n",
       "      <td>148041</td>\n",
       "      <td>USB-C Charging Cable</td>\n",
       "      <td>1</td>\n",
       "      <td>11.95</td>\n",
       "      <td>760 Church St, San Francisco, CA 94016</td>\n",
       "      <td>January</td>\n",
       "      <td>11.95</td>\n",
       "      <td>San Francisco</td>\n",
       "      <td>3</td>\n",
       "      <td>03:40:00</td>\n",
       "    </tr>\n",
       "    <tr>\n",
       "      <th>2019-01-01 04:56:00</th>\n",
       "      <td>149343</td>\n",
       "      <td>Apple Airpods Headphones</td>\n",
       "      <td>1</td>\n",
       "      <td>150.00</td>\n",
       "      <td>735 5th St, New York City, NY 10001</td>\n",
       "      <td>January</td>\n",
       "      <td>150.00</td>\n",
       "      <td>New York City</td>\n",
       "      <td>4</td>\n",
       "      <td>04:56:00</td>\n",
       "    </tr>\n",
       "    <tr>\n",
       "      <th>2019-01-01 05:53:00</th>\n",
       "      <td>149964</td>\n",
       "      <td>AAA Batteries (4-pack)</td>\n",
       "      <td>1</td>\n",
       "      <td>2.99</td>\n",
       "      <td>75 Jackson St, Dallas, TX 75001</td>\n",
       "      <td>January</td>\n",
       "      <td>2.99</td>\n",
       "      <td>Dallas</td>\n",
       "      <td>5</td>\n",
       "      <td>05:53:00</td>\n",
       "    </tr>\n",
       "    <tr>\n",
       "      <th>2019-01-01 06:03:00</th>\n",
       "      <td>149350</td>\n",
       "      <td>USB-C Charging Cable</td>\n",
       "      <td>2</td>\n",
       "      <td>11.95</td>\n",
       "      <td>943 2nd St, Atlanta, GA 30301</td>\n",
       "      <td>January</td>\n",
       "      <td>23.90</td>\n",
       "      <td>Atlanta</td>\n",
       "      <td>6</td>\n",
       "      <td>06:03:00</td>\n",
       "    </tr>\n",
       "  </tbody>\n",
       "</table>\n",
       "</div>"
      ],
      "text/plain": [
       "                    Order ID                   Product  Quantity Ordered  \\\n",
       "Order Date                                                                 \n",
       "2019-01-01 03:07:00   147268          Wired Headphones                 1   \n",
       "2019-01-01 03:40:00   148041      USB-C Charging Cable                 1   \n",
       "2019-01-01 04:56:00   149343  Apple Airpods Headphones                 1   \n",
       "2019-01-01 05:53:00   149964    AAA Batteries (4-pack)                 1   \n",
       "2019-01-01 06:03:00   149350      USB-C Charging Cable                 2   \n",
       "\n",
       "                     Price Each                        Purchase Address  \\\n",
       "Order Date                                                                \n",
       "2019-01-01 03:07:00       11.99      9 Lake St, New York City, NY 10001   \n",
       "2019-01-01 03:40:00       11.95  760 Church St, San Francisco, CA 94016   \n",
       "2019-01-01 04:56:00      150.00     735 5th St, New York City, NY 10001   \n",
       "2019-01-01 05:53:00        2.99         75 Jackson St, Dallas, TX 75001   \n",
       "2019-01-01 06:03:00       11.95           943 2nd St, Atlanta, GA 30301   \n",
       "\n",
       "                       Month  chiffre_daffaire          ville  heure      time  \n",
       "Order Date                                                                      \n",
       "2019-01-01 03:07:00  January             11.99  New York City      3  03:07:00  \n",
       "2019-01-01 03:40:00  January             11.95  San Francisco      3  03:40:00  \n",
       "2019-01-01 04:56:00  January            150.00  New York City      4  04:56:00  \n",
       "2019-01-01 05:53:00  January              2.99         Dallas      5  05:53:00  \n",
       "2019-01-01 06:03:00  January             23.90        Atlanta      6  06:03:00  "
      ]
     },
     "execution_count": 115,
     "metadata": {},
     "output_type": "execute_result"
    }
   ],
   "source": [
    "df_clean.head()"
   ]
  },
  {
   "cell_type": "code",
   "execution_count": 116,
   "metadata": {},
   "outputs": [
    {
     "data": {
      "text/plain": [
       "Product\n",
       "AAA Batteries (4-pack)        30487\n",
       "AA Batteries (4-pack)         27148\n",
       "USB-C Charging Cable          23555\n",
       "Lightning Charging Cable      22841\n",
       "Wired Headphones              20201\n",
       "Apple Airpods Headphones      15383\n",
       "Bose SoundSport Headphones    13236\n",
       "27in FHD Monitor               7429\n",
       "iPhone                         6732\n",
       "27in 4K Gaming Monitor         6134\n",
       "34in Ultrawide Monitor         6076\n",
       "Google Phone                   5440\n",
       "Flatscreen TV                  4724\n",
       "Macbook Pro Laptop             4645\n",
       "20in Monitor                   4058\n",
       "ThinkPad Laptop                4054\n",
       "Vareebadd Phone                2023\n",
       "LG Washing Machine              649\n",
       "LG Dryer                        640\n",
       "Name: Quantity Ordered, dtype: int32"
      ]
     },
     "execution_count": 116,
     "metadata": {},
     "output_type": "execute_result"
    }
   ],
   "source": [
    "df_clean.groupby('Product')['Quantity Ordered'].sum().sort_values(ascending=False)"
   ]
  },
  {
   "cell_type": "code",
   "execution_count": null,
   "metadata": {
    "id": "MrQZhb8KBiPA"
   },
   "outputs": [],
   "source": []
  }
 ],
 "metadata": {
  "colab": {
   "name": "Analyse_Exploratoire.ipynb",
   "provenance": [],
   "toc_visible": true
  },
  "kernelspec": {
   "display_name": "Python 3",
   "language": "python",
   "name": "python3"
  },
  "language_info": {
   "codemirror_mode": {
    "name": "ipython",
    "version": 3
   },
   "file_extension": ".py",
   "mimetype": "text/x-python",
   "name": "python",
   "nbconvert_exporter": "python",
   "pygments_lexer": "ipython3",
   "version": "3.8.5"
  },
  "toc": {
   "base_numbering": 1,
   "nav_menu": {},
   "number_sections": true,
   "sideBar": true,
   "skip_h1_title": false,
   "title_cell": "Table of Contents",
   "title_sidebar": "Contents",
   "toc_cell": false,
   "toc_position": {},
   "toc_section_display": true,
   "toc_window_display": false
  },
  "varInspector": {
   "cols": {
    "lenName": 16,
    "lenType": 16,
    "lenVar": 40
   },
   "kernels_config": {
    "python": {
     "delete_cmd_postfix": "",
     "delete_cmd_prefix": "del ",
     "library": "var_list.py",
     "varRefreshCmd": "print(var_dic_list())"
    },
    "r": {
     "delete_cmd_postfix": ") ",
     "delete_cmd_prefix": "rm(",
     "library": "var_list.r",
     "varRefreshCmd": "cat(var_dic_list()) "
    }
   },
   "types_to_exclude": [
    "module",
    "function",
    "builtin_function_or_method",
    "instance",
    "_Feature"
   ],
   "window_display": false
  }
 },
 "nbformat": 4,
 "nbformat_minor": 1
}
